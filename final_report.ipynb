{
 "cells": [
  {
   "cell_type": "markdown",
   "id": "69b10d81",
   "metadata": {},
   "source": [
    "# Insights into Telco's Churn <a class=\"tocSkip\">"
   ]
  },
  {
   "cell_type": "markdown",
   "id": "48872073",
   "metadata": {},
   "source": [
    "# Goal:  <a class=\"tocSkip\">"
   ]
  },
  {
   "cell_type": "markdown",
   "id": "1a108fd3",
   "metadata": {},
   "source": [
    "- Uncover drivers that are causing Telco customers to churn\n",
    "- Develop an understanding of possible reasons customers are churning.\n",
    "- Use machine learning models to predict churn.\n"
   ]
  },
  {
   "cell_type": "markdown",
   "id": "10f7a920",
   "metadata": {},
   "source": [
    "# Imports <a class=\"tocSkip\">"
   ]
  },
  {
   "cell_type": "code",
   "execution_count": 1,
   "id": "cbd33e8c",
   "metadata": {},
   "outputs": [],
   "source": [
    "import pandas as pd\n",
    "import numpy as np\n",
    "from scipy import stats\n",
    "from pydataset import data\n",
    "import os\n",
    "import env\n",
    "import acquire \n",
    "import prepare\n",
    "\n",
    "import matplotlib.pyplot as plt\n",
    "import seaborn as sns\n",
    "%matplotlib inline\n",
    "\n",
    "from sklearn.model_selection import train_test_split\n",
    "from sklearn.impute import SimpleImputer\n",
    "from sklearn.metrics import accuracy_score\n",
    "from sklearn.metrics import precision_score\n",
    "from sklearn.metrics import recall_score\n",
    "from sklearn.metrics import classification_report\n",
    "from sklearn.tree import DecisionTreeClassifier, plot_tree\n",
    "from sklearn.model_selection import train_test_split\n",
    "from sklearn.metrics import confusion_matrix\n",
    "from sklearn.ensemble import RandomForestClassifier\n",
    "from sklearn.neighbors import KNeighborsClassifier\n",
    "from sklearn.metrics import ConfusionMatrixDisplay\n",
    "from sklearn.linear_model import LogisticRegression\n",
    "\n",
    "\n",
    "import warnings\n",
    "warnings.filterwarnings(\"ignore\")"
   ]
  },
  {
   "cell_type": "markdown",
   "id": "b54b0a81",
   "metadata": {},
   "source": [
    " # Acquire <a class=\"tocSkip\">\n"
   ]
  },
  {
   "cell_type": "markdown",
   "id": "8e7a7eb8",
   "metadata": {},
   "source": [
    "- Data acquired from SQL DB\n",
    "- It contained 7043 rows and 23 columns\n",
    "- Each row represents a customer \n",
    "- Each column is a feature that represents a customer's personal info or service they have"
   ]
  },
  {
   "cell_type": "markdown",
   "id": "75bdbf23",
   "metadata": {},
   "source": [
    "# Prepare <a class=\"tocSkip\">"
   ]
  },
  {
   "cell_type": "markdown",
   "id": "01494b2a",
   "metadata": {},
   "source": [
    "* Prepare Data\n",
    "    * Remove unneeded data to reduce noise\n",
    "    * Create new columns utilizing existing data\n",
    "        * Contract type\n",
    "        * Online-security \n",
    "        * Multiple lines\n",
    "        * Dependents\n",
    "    * Rename columns for readability  \n",
    "    * Create a train, validate, and test dataset with a split of about 56/24/20. \n",
    "    \n",
    "* Explore Data, Answer Questions, Uncover drivers\n",
    "    * Are customers with month-to-month contracts churning faster than those with 1yr/2yr contracts?\n",
    "    * Does having online security add-on services affect churn rate?\n",
    "    * Does having multiple lines affect churn rate?\n",
    "    * Does having dependents affect churn rate?\n",
    "    \n",
    "* Develop machine learning models\n",
    "    * Utilize drivers in various machine learning models\n",
    "    * Evaluate and refine models on train and validate data sets\n",
    "    * Select best performing models\n",
    "    * Use test data set on best models"
   ]
  },
  {
   "cell_type": "markdown",
   "id": "e2307c94",
   "metadata": {},
   "source": [
    "# Data Dictionary <a class=\"tocSkip\">"
   ]
  },
  {
   "cell_type": "markdown",
   "id": "1fe9815b",
   "metadata": {},
   "source": [
    "| Feature | Definition |\n",
    "| :-- | :-- |\n",
    "| churn | customer who has cancelled their services |\n",
    "| churn_numeric | churn column encoded |\n",
    "| contract type | type of contract. Month-to_month, One year, Two year|\n",
    "| multiple lines | customers with more than one phone line |\n",
    "| monthly charges | charges due at end of month bill cycle |\n",
    "| total charges | total amount paid from first day of service |\n",
    "| online security no internet | online security add-on service with no internet service |\n",
    "| online security yes_internet | online securtiy add-on service with internet service |\n",
    "| dependents_no | customers with no dependents |\n",
    "| dependents_yes | customers with dependents |\n",
    "\n",
    "\n"
   ]
  },
  {
   "cell_type": "code",
   "execution_count": 2,
   "id": "bceb5508",
   "metadata": {
    "hide_input": false
   },
   "outputs": [],
   "source": [
    "# acquire data\n",
    "telco_df = acquire.get_telco_data()\n",
    "\n",
    "# preparing the data\n",
    "telco_df = prepare.prep_telco(telco_df)\n",
    "\n",
    "# splitting data into train, validate, and test\n",
    "train, validate, test = prepare.split_data(df=telco_df, target='churn')"
   ]
  },
  {
   "cell_type": "markdown",
   "id": "2c396ddb",
   "metadata": {},
   "source": [
    "# Glance into Telco's data <a class=\"tocSkip\">"
   ]
  },
  {
   "cell_type": "code",
   "execution_count": 3,
   "id": "c982b3e7",
   "metadata": {},
   "outputs": [
    {
     "data": {
      "text/html": [
       "<div>\n",
       "<style scoped>\n",
       "    .dataframe tbody tr th:only-of-type {\n",
       "        vertical-align: middle;\n",
       "    }\n",
       "\n",
       "    .dataframe tbody tr th {\n",
       "        vertical-align: top;\n",
       "    }\n",
       "\n",
       "    .dataframe thead th {\n",
       "        text-align: right;\n",
       "    }\n",
       "</style>\n",
       "<table border=\"1\" class=\"dataframe\">\n",
       "  <thead>\n",
       "    <tr style=\"text-align: right;\">\n",
       "      <th></th>\n",
       "      <th>customer_id</th>\n",
       "      <th>gender</th>\n",
       "      <th>senior_citizen</th>\n",
       "      <th>partner</th>\n",
       "      <th>dependents</th>\n",
       "      <th>tenure</th>\n",
       "      <th>phone_service</th>\n",
       "      <th>multiple_lines</th>\n",
       "      <th>online_security</th>\n",
       "      <th>online_backup</th>\n",
       "      <th>...</th>\n",
       "      <th>multiple_lines_no</th>\n",
       "      <th>multiple_lines_no phone service</th>\n",
       "      <th>multiple_lines_yes</th>\n",
       "      <th>online_security_no</th>\n",
       "      <th>online_security_no internet service</th>\n",
       "      <th>online_security_yes_internet</th>\n",
       "      <th>contract_type_month-to-month</th>\n",
       "      <th>contract_type_one year</th>\n",
       "      <th>contract_type_two year</th>\n",
       "      <th>churn_numeric</th>\n",
       "    </tr>\n",
       "  </thead>\n",
       "  <tbody>\n",
       "    <tr>\n",
       "      <th>5310</th>\n",
       "      <td>7503-MIOGA</td>\n",
       "      <td>Female</td>\n",
       "      <td>1</td>\n",
       "      <td>Yes</td>\n",
       "      <td>No</td>\n",
       "      <td>72</td>\n",
       "      <td>Yes</td>\n",
       "      <td>Yes</td>\n",
       "      <td>Yes</td>\n",
       "      <td>Yes</td>\n",
       "      <td>...</td>\n",
       "      <td>0</td>\n",
       "      <td>0</td>\n",
       "      <td>1</td>\n",
       "      <td>0</td>\n",
       "      <td>0</td>\n",
       "      <td>1</td>\n",
       "      <td>0</td>\n",
       "      <td>0</td>\n",
       "      <td>1</td>\n",
       "      <td>0</td>\n",
       "    </tr>\n",
       "    <tr>\n",
       "      <th>3790</th>\n",
       "      <td>5329-KRDTM</td>\n",
       "      <td>Male</td>\n",
       "      <td>1</td>\n",
       "      <td>Yes</td>\n",
       "      <td>No</td>\n",
       "      <td>72</td>\n",
       "      <td>Yes</td>\n",
       "      <td>Yes</td>\n",
       "      <td>No</td>\n",
       "      <td>Yes</td>\n",
       "      <td>...</td>\n",
       "      <td>0</td>\n",
       "      <td>0</td>\n",
       "      <td>1</td>\n",
       "      <td>1</td>\n",
       "      <td>0</td>\n",
       "      <td>0</td>\n",
       "      <td>0</td>\n",
       "      <td>0</td>\n",
       "      <td>1</td>\n",
       "      <td>0</td>\n",
       "    </tr>\n",
       "    <tr>\n",
       "      <th>4398</th>\n",
       "      <td>6199-IWKGC</td>\n",
       "      <td>Female</td>\n",
       "      <td>1</td>\n",
       "      <td>Yes</td>\n",
       "      <td>No</td>\n",
       "      <td>46</td>\n",
       "      <td>Yes</td>\n",
       "      <td>Yes</td>\n",
       "      <td>No</td>\n",
       "      <td>No</td>\n",
       "      <td>...</td>\n",
       "      <td>0</td>\n",
       "      <td>0</td>\n",
       "      <td>1</td>\n",
       "      <td>1</td>\n",
       "      <td>0</td>\n",
       "      <td>0</td>\n",
       "      <td>0</td>\n",
       "      <td>1</td>\n",
       "      <td>0</td>\n",
       "      <td>0</td>\n",
       "    </tr>\n",
       "    <tr>\n",
       "      <th>2635</th>\n",
       "      <td>3748-FVMZZ</td>\n",
       "      <td>Male</td>\n",
       "      <td>0</td>\n",
       "      <td>No</td>\n",
       "      <td>No</td>\n",
       "      <td>4</td>\n",
       "      <td>No</td>\n",
       "      <td>No phone service</td>\n",
       "      <td>No</td>\n",
       "      <td>No</td>\n",
       "      <td>...</td>\n",
       "      <td>0</td>\n",
       "      <td>1</td>\n",
       "      <td>0</td>\n",
       "      <td>1</td>\n",
       "      <td>0</td>\n",
       "      <td>0</td>\n",
       "      <td>1</td>\n",
       "      <td>0</td>\n",
       "      <td>0</td>\n",
       "      <td>0</td>\n",
       "    </tr>\n",
       "    <tr>\n",
       "      <th>2986</th>\n",
       "      <td>4280-DLSHD</td>\n",
       "      <td>Male</td>\n",
       "      <td>0</td>\n",
       "      <td>Yes</td>\n",
       "      <td>No</td>\n",
       "      <td>8</td>\n",
       "      <td>Yes</td>\n",
       "      <td>No</td>\n",
       "      <td>No</td>\n",
       "      <td>Yes</td>\n",
       "      <td>...</td>\n",
       "      <td>1</td>\n",
       "      <td>0</td>\n",
       "      <td>0</td>\n",
       "      <td>1</td>\n",
       "      <td>0</td>\n",
       "      <td>0</td>\n",
       "      <td>1</td>\n",
       "      <td>0</td>\n",
       "      <td>0</td>\n",
       "      <td>0</td>\n",
       "    </tr>\n",
       "  </tbody>\n",
       "</table>\n",
       "<p>5 rows × 33 columns</p>\n",
       "</div>"
      ],
      "text/plain": [
       "     customer_id  gender  senior_citizen partner dependents  tenure  \\\n",
       "5310  7503-MIOGA  Female               1     Yes         No      72   \n",
       "3790  5329-KRDTM    Male               1     Yes         No      72   \n",
       "4398  6199-IWKGC  Female               1     Yes         No      46   \n",
       "2635  3748-FVMZZ    Male               0      No         No       4   \n",
       "2986  4280-DLSHD    Male               0     Yes         No       8   \n",
       "\n",
       "     phone_service    multiple_lines online_security online_backup  ...  \\\n",
       "5310           Yes               Yes             Yes           Yes  ...   \n",
       "3790           Yes               Yes              No           Yes  ...   \n",
       "4398           Yes               Yes              No            No  ...   \n",
       "2635            No  No phone service              No            No  ...   \n",
       "2986           Yes                No              No           Yes  ...   \n",
       "\n",
       "     multiple_lines_no multiple_lines_no phone service multiple_lines_yes  \\\n",
       "5310                 0                               0                  1   \n",
       "3790                 0                               0                  1   \n",
       "4398                 0                               0                  1   \n",
       "2635                 0                               1                  0   \n",
       "2986                 1                               0                  0   \n",
       "\n",
       "     online_security_no online_security_no internet service  \\\n",
       "5310                  0                                   0   \n",
       "3790                  1                                   0   \n",
       "4398                  1                                   0   \n",
       "2635                  1                                   0   \n",
       "2986                  1                                   0   \n",
       "\n",
       "      online_security_yes_internet contract_type_month-to-month  \\\n",
       "5310                             1                            0   \n",
       "3790                             0                            0   \n",
       "4398                             0                            0   \n",
       "2635                             0                            1   \n",
       "2986                             0                            1   \n",
       "\n",
       "     contract_type_one year contract_type_two year churn_numeric  \n",
       "5310                      0                      1             0  \n",
       "3790                      0                      1             0  \n",
       "4398                      1                      0             0  \n",
       "2635                      0                      0             0  \n",
       "2986                      0                      0             0  \n",
       "\n",
       "[5 rows x 33 columns]"
      ]
     },
     "execution_count": 3,
     "metadata": {},
     "output_type": "execute_result"
    }
   ],
   "source": [
    "train.head()"
   ]
  },
  {
   "cell_type": "markdown",
   "id": "2b41f37c",
   "metadata": {},
   "source": [
    "# Explore <a class=\"tocSkip\">"
   ]
  },
  {
   "cell_type": "markdown",
   "id": "78388ade",
   "metadata": {},
   "source": [
    "## How much of Telco's customer base has churned? <a class=\"tocSkip\">"
   ]
  },
  {
   "cell_type": "code",
   "execution_count": 5,
   "id": "8acdd545",
   "metadata": {
    "hide_input": true
   },
   "outputs": [
    {
     "data": {
      "text/plain": [
       "Text(0.5, 1.0, 'Percentage of Churned customers')"
      ]
     },
     "execution_count": 5,
     "metadata": {},
     "output_type": "execute_result"
    },
    {
     "data": {
      "image/png": "[encoded data removed]",
      "text/plain": [
       "<Figure size 640x480 with 1 Axes>"
      ]
     },
     "metadata": {},
     "output_type": "display_data"
    }
   ],
   "source": [
    "   # set values and labels for chart\n",
    "x = [len(telco_df.churn[telco_df.churn == 'Yes']), len(telco_df.churn[telco_df.churn == 'No'])] \n",
    "labels = ['Churned','Did not churn' ] \n",
    "\n",
    "# generate and show chart\n",
    "plt.pie(x, labels=labels, autopct='%.0f%%')\n",
    "plt.title('Percentage of Churned customers')\n"
   ]
  },
  {
   "cell_type": "markdown",
   "id": "2b3cee1f",
   "metadata": {},
   "source": [
    "## Are month-to-month contracts churning faster than 1 year or 2 year contracts? <a class=\"tocSkip\">"
   ]
  },
  {
   "cell_type": "markdown",
   "id": "a66521ce",
   "metadata": {},
   "source": [
    "### Count plot representing contract types of customers<a class=\"tocSkip\">"
   ]
  },
  {
   "cell_type": "code",
   "execution_count": 6,
   "id": "d2422377",
   "metadata": {
    "hide_input": true
   },
   "outputs": [
    {
     "data": {
      "text/plain": [
       "<matplotlib.legend.Legend at 0x14f403ee0>"
      ]
     },
     "execution_count": 6,
     "metadata": {},
     "output_type": "execute_result"
    },
    {
     "data": {
      "image/png": "[encoded data removed]",
      "text/plain": [
       "<Figure size 640x480 with 1 Axes>"
      ]
     },
     "metadata": {},
     "output_type": "display_data"
    }
   ],
   "source": [
    "# Count Plot for churn rate of contract types.\n",
    "sns.countplot(x='contract_type', hue='churn', data=train)\n",
    "plt.xlabel('Contract Type')\n",
    "plt.ylabel('Count')\n",
    "plt.legend(['Did not churn', 'Churned'])"
   ]
  },
  {
   "cell_type": "markdown",
   "id": "38d2be6f",
   "metadata": {},
   "source": [
    "- Month-to-month customers seemm to have a higher percentage of churn."
   ]
  },
  {
   "cell_type": "markdown",
   "id": "35da8155",
   "metadata": {},
   "source": [
    "***Chi-square test to see if there is significant difference in churn rates between contract types***"
   ]
  },
  {
   "cell_type": "markdown",
   "id": "7a7b2602",
   "metadata": {},
   "source": [
    "- H0: There is not a significant difference of churn rate and length of contracts.\n",
    "\n",
    "- Ha: There is a significant difference between churn rate and length of contracts.\n",
    "\n",
    "- Confidence interval: 95%\n",
    "\n",
    "- alpha = 0.05"
   ]
  },
  {
   "cell_type": "code",
   "execution_count": 7,
   "id": "68d9e074",
   "metadata": {
    "hide_input": true
   },
   "outputs": [],
   "source": [
    "# Variables for contract lengths \n",
    "month = train['contract_type']== 'Month-to-month'\n",
    "oneyear = train['contract_type']== 'One year'\n",
    "twoyear = train['contract_type']== 'Two year'\n",
    "\n",
    "# variable for churn\n",
    "churn = train['churn']"
   ]
  },
  {
   "cell_type": "code",
   "execution_count": 8,
   "id": "61acd6a7",
   "metadata": {
    "hide_input": false
   },
   "outputs": [
    {
     "data": {
      "text/html": [
       "<div>\n",
       "<style scoped>\n",
       "    .dataframe tbody tr th:only-of-type {\n",
       "        vertical-align: middle;\n",
       "    }\n",
       "\n",
       "    .dataframe tbody tr th {\n",
       "        vertical-align: top;\n",
       "    }\n",
       "\n",
       "    .dataframe thead th {\n",
       "        text-align: right;\n",
       "    }\n",
       "</style>\n",
       "<table border=\"1\" class=\"dataframe\">\n",
       "  <thead>\n",
       "    <tr style=\"text-align: right;\">\n",
       "      <th>month-to-month</th>\n",
       "      <th>False</th>\n",
       "      <th>True</th>\n",
       "    </tr>\n",
       "    <tr>\n",
       "      <th>churn</th>\n",
       "      <th></th>\n",
       "      <th></th>\n",
       "    </tr>\n",
       "  </thead>\n",
       "  <tbody>\n",
       "    <tr>\n",
       "      <th>No</th>\n",
       "      <td>1648</td>\n",
       "      <td>1249</td>\n",
       "    </tr>\n",
       "    <tr>\n",
       "      <th>Yes</th>\n",
       "      <td>125</td>\n",
       "      <td>921</td>\n",
       "    </tr>\n",
       "  </tbody>\n",
       "</table>\n",
       "</div>"
      ],
      "text/plain": [
       "month-to-month  False  True\n",
       "churn                      \n",
       "No               1648  1249\n",
       "Yes               125   921"
      ]
     },
     "execution_count": 8,
     "metadata": {},
     "output_type": "execute_result"
    }
   ],
   "source": [
    "# crosstab for month to month. Crosstab will be inputed into chi-squared algorithm.\n",
    "mtm_ct = pd.crosstab(churn, month, colnames=['month-to-month'])\n",
    "mtm_ct"
   ]
  },
  {
   "cell_type": "code",
   "execution_count": 9,
   "id": "98ed5c43",
   "metadata": {
    "hide_input": true
   },
   "outputs": [
    {
     "name": "stdout",
     "output_type": "stream",
     "text": [
      "Chi-square Test Results\n",
      "-----------------------\n",
      "Chi value: 625.28\n",
      "p-value: 5.32454352599958e-138\n"
     ]
    }
   ],
   "source": [
    "# Month-to-month\n",
    "chi, p, degf, expected = stats.chi2_contingency(mtm_ct)\n",
    "print('Chi-square Test Results')\n",
    "print('-----------------------')\n",
    "print(f'Chi value: {round(chi,2)}')\n",
    "print(f'p-value: {p}')"
   ]
  },
  {
   "cell_type": "code",
   "execution_count": 10,
   "id": "605ff743",
   "metadata": {
    "hide_input": false
   },
   "outputs": [
    {
     "data": {
      "text/html": [
       "<div>\n",
       "<style scoped>\n",
       "    .dataframe tbody tr th:only-of-type {\n",
       "        vertical-align: middle;\n",
       "    }\n",
       "\n",
       "    .dataframe tbody tr th {\n",
       "        vertical-align: top;\n",
       "    }\n",
       "\n",
       "    .dataframe thead th {\n",
       "        text-align: right;\n",
       "    }\n",
       "</style>\n",
       "<table border=\"1\" class=\"dataframe\">\n",
       "  <thead>\n",
       "    <tr style=\"text-align: right;\">\n",
       "      <th>one_year</th>\n",
       "      <th>False</th>\n",
       "      <th>True</th>\n",
       "    </tr>\n",
       "    <tr>\n",
       "      <th>churn</th>\n",
       "      <th></th>\n",
       "      <th></th>\n",
       "    </tr>\n",
       "  </thead>\n",
       "  <tbody>\n",
       "    <tr>\n",
       "      <th>No</th>\n",
       "      <td>2144</td>\n",
       "      <td>753</td>\n",
       "    </tr>\n",
       "    <tr>\n",
       "      <th>Yes</th>\n",
       "      <td>950</td>\n",
       "      <td>96</td>\n",
       "    </tr>\n",
       "  </tbody>\n",
       "</table>\n",
       "</div>"
      ],
      "text/plain": [
       "one_year  False  True\n",
       "churn                \n",
       "No         2144   753\n",
       "Yes         950    96"
      ]
     },
     "execution_count": 10,
     "metadata": {},
     "output_type": "execute_result"
    }
   ],
   "source": [
    "# Crosstab for 1 year churn. Crosstab will be inputed into chi-squared algorithm.\n",
    "oneyear_ct = pd.crosstab(churn, oneyear, colnames=['one_year'])\n",
    "oneyear_ct"
   ]
  },
  {
   "cell_type": "code",
   "execution_count": 11,
   "id": "27a50355",
   "metadata": {
    "hide_input": true
   },
   "outputs": [
    {
     "name": "stdout",
     "output_type": "stream",
     "text": [
      "Chi-square Test Results\n",
      "-----------------------\n",
      "Chi value: 127.61\n",
      "p-value: 1.3663034788444405e-29\n"
     ]
    }
   ],
   "source": [
    "# 1 year\n",
    "chi, p, degf, expected = stats.chi2_contingency(oneyear_ct)\n",
    "print('Chi-square Test Results')\n",
    "print('-----------------------')\n",
    "print(f'Chi value: {round(chi,2)}')\n",
    "print(f'p-value: {p}')"
   ]
  },
  {
   "cell_type": "code",
   "execution_count": 12,
   "id": "b0a5b72b",
   "metadata": {
    "hide_input": false
   },
   "outputs": [
    {
     "data": {
      "text/html": [
       "<div>\n",
       "<style scoped>\n",
       "    .dataframe tbody tr th:only-of-type {\n",
       "        vertical-align: middle;\n",
       "    }\n",
       "\n",
       "    .dataframe tbody tr th {\n",
       "        vertical-align: top;\n",
       "    }\n",
       "\n",
       "    .dataframe thead th {\n",
       "        text-align: right;\n",
       "    }\n",
       "</style>\n",
       "<table border=\"1\" class=\"dataframe\">\n",
       "  <thead>\n",
       "    <tr style=\"text-align: right;\">\n",
       "      <th>two_year</th>\n",
       "      <th>False</th>\n",
       "      <th>True</th>\n",
       "    </tr>\n",
       "    <tr>\n",
       "      <th>churn</th>\n",
       "      <th></th>\n",
       "      <th></th>\n",
       "    </tr>\n",
       "  </thead>\n",
       "  <tbody>\n",
       "    <tr>\n",
       "      <th>No</th>\n",
       "      <td>2002</td>\n",
       "      <td>895</td>\n",
       "    </tr>\n",
       "    <tr>\n",
       "      <th>Yes</th>\n",
       "      <td>1017</td>\n",
       "      <td>29</td>\n",
       "    </tr>\n",
       "  </tbody>\n",
       "</table>\n",
       "</div>"
      ],
      "text/plain": [
       "two_year  False  True\n",
       "churn                \n",
       "No         2002   895\n",
       "Yes        1017    29"
      ]
     },
     "execution_count": 12,
     "metadata": {},
     "output_type": "execute_result"
    }
   ],
   "source": [
    "# Crosstab for 2 year churn. Crosstab will be inputed into chi-squared algorithm.\n",
    "twoyear_ct = pd.crosstab(churn, twoyear, colnames=['two_year'])\n",
    "twoyear_ct"
   ]
  },
  {
   "cell_type": "code",
   "execution_count": 13,
   "id": "e26272f9",
   "metadata": {
    "hide_input": true
   },
   "outputs": [
    {
     "name": "stdout",
     "output_type": "stream",
     "text": [
      "Chi-square Test Results\n",
      "-----------------------\n",
      "Chi value: 337.16\n",
      "p-value: 2.6478708937714996e-75\n"
     ]
    }
   ],
   "source": [
    "# 2 year\n",
    "chi, p, degf, expected = stats.chi2_contingency(twoyear_ct)\n",
    "print('Chi-square Test Results')\n",
    "print('-----------------------')\n",
    "print(f'Chi value: {round(chi,2)}')\n",
    "print(f'p-value: {p}')"
   ]
  },
  {
   "cell_type": "markdown",
   "id": "538a44a5",
   "metadata": {},
   "source": [
    "<div class=\"alert alert-block alert-success\">\n",
    "<b> P-value is lower than 0.05 on all three Chi-square tests<b>\n",
    "<br>This result shows that there is significant difference in churn rate between month-to-month, one year, and two year contracts <br>\n",
    "    "
   ]
  },
  {
   "cell_type": "markdown",
   "id": "623ac04a",
   "metadata": {},
   "source": [
    "## Does having the online security add-on services affect churn rate? <a class=\"tocSkip\">"
   ]
  },
  {
   "cell_type": "markdown",
   "id": "c250b2cb",
   "metadata": {},
   "source": [
    "- H0: There is no significant difference in churn rate when customers have the online security add-on services.\n",
    "\n",
    "- Ha: There is a significant difference in churn rate when customers have the online security add-on services. \n",
    "\n",
    "- Confidence interval = 95%\n",
    "\n",
    "- alpha = 0.05"
   ]
  },
  {
   "cell_type": "code",
   "execution_count": 14,
   "id": "adac65d3",
   "metadata": {
    "hide_input": true
   },
   "outputs": [],
   "source": [
    "# Boolean Mask to remove 'No internet service'\n",
    "online_sec = train[train['online_security'] != 'No internet service']"
   ]
  },
  {
   "cell_type": "markdown",
   "id": "5b59957e",
   "metadata": {},
   "source": [
    "### Count plot representing customers with online-security <a class=\"tocSkip\">"
   ]
  },
  {
   "cell_type": "code",
   "execution_count": 15,
   "id": "ed9d488b",
   "metadata": {
    "hide_input": true
   },
   "outputs": [
    {
     "data": {
      "text/plain": [
       "<AxesSubplot:xlabel='online_security', ylabel='count'>"
      ]
     },
     "execution_count": 15,
     "metadata": {},
     "output_type": "execute_result"
    },
    {
     "data": {
      "image/png": "[encoded data removed]",
      "text/plain": [
       "<Figure size 640x480 with 1 Axes>"
      ]
     },
     "metadata": {},
     "output_type": "display_data"
    }
   ],
   "source": [
    "# Countplot for online security churn rate.\n",
    "sns.countplot(x=online_sec['online_security'], hue=online_sec['churn'], data= online_sec)"
   ]
  },
  {
   "cell_type": "code",
   "execution_count": 16,
   "id": "1f0fa703",
   "metadata": {
    "hide_input": false
   },
   "outputs": [
    {
     "data": {
      "text/html": [
       "<div>\n",
       "<style scoped>\n",
       "    .dataframe tbody tr th:only-of-type {\n",
       "        vertical-align: middle;\n",
       "    }\n",
       "\n",
       "    .dataframe tbody tr th {\n",
       "        vertical-align: top;\n",
       "    }\n",
       "\n",
       "    .dataframe thead th {\n",
       "        text-align: right;\n",
       "    }\n",
       "</style>\n",
       "<table border=\"1\" class=\"dataframe\">\n",
       "  <thead>\n",
       "    <tr style=\"text-align: right;\">\n",
       "      <th>churn</th>\n",
       "      <th>No</th>\n",
       "      <th>Yes</th>\n",
       "    </tr>\n",
       "    <tr>\n",
       "      <th>online_security</th>\n",
       "      <th></th>\n",
       "      <th></th>\n",
       "    </tr>\n",
       "  </thead>\n",
       "  <tbody>\n",
       "    <tr>\n",
       "      <th>No</th>\n",
       "      <td>1145</td>\n",
       "      <td>801</td>\n",
       "    </tr>\n",
       "    <tr>\n",
       "      <th>Yes</th>\n",
       "      <td>969</td>\n",
       "      <td>179</td>\n",
       "    </tr>\n",
       "  </tbody>\n",
       "</table>\n",
       "</div>"
      ],
      "text/plain": [
       "churn              No  Yes\n",
       "online_security           \n",
       "No               1145  801\n",
       "Yes               969  179"
      ]
     },
     "execution_count": 16,
     "metadata": {},
     "output_type": "execute_result"
    }
   ],
   "source": [
    "# Crosstab for customers with online-security add-on service. Will be input into the chi-square algorithm.\n",
    "online_sec_ct = pd.crosstab(online_sec['online_security'], online_sec['churn'])\n",
    "online_sec_ct"
   ]
  },
  {
   "cell_type": "code",
   "execution_count": 17,
   "id": "13b3d525",
   "metadata": {
    "hide_input": true
   },
   "outputs": [
    {
     "name": "stdout",
     "output_type": "stream",
     "text": [
      "Chi-square Test Results\n",
      "-----------------------\n",
      "Chi value: 216.94\n",
      "p-value: 4.1985954375412895e-49\n"
     ]
    }
   ],
   "source": [
    "# Chi^2 test for Online Security crosstab\n",
    "chi, p, degf, expected = stats.chi2_contingency(online_sec_ct)\n",
    "print('Chi-square Test Results')\n",
    "print('-----------------------')\n",
    "print(f'Chi value: {round(chi,2)}')\n",
    "print(f'p-value: {p}')"
   ]
  },
  {
   "cell_type": "markdown",
   "id": "e2ea595e",
   "metadata": {},
   "source": [
    "<div class=\"alert alert-block alert-success\">\n",
    "<b> P-value is lower than 0.05. <b>\n",
    "<br>This result shows that there is a signifcant difference in churn rate when customers have online security service. <br>"
   ]
  },
  {
   "cell_type": "markdown",
   "id": "d6d8d671",
   "metadata": {},
   "source": [
    "## Does having multiple lines affect churn rate? <a class=\"tocSkip\">"
   ]
  },
  {
   "cell_type": "markdown",
   "id": "0f535943",
   "metadata": {},
   "source": [
    "- H0: There is no signifcant difference in churn rate when customers have multiple lines.\n",
    "\n",
    "- Ha: There is a significant difference in churn rate when customers have multiple lines.\n",
    "    \n",
    "- Confidence interval = 95%\n",
    "\n",
    "- alpha = 0.05"
   ]
  },
  {
   "cell_type": "markdown",
   "id": "f3bed9c3",
   "metadata": {},
   "source": [
    "### Count plot representing churned customers with multiple lines. <a class=\"tocSkip\">\n",
    "\n"
   ]
  },
  {
   "cell_type": "code",
   "execution_count": 18,
   "id": "5114abb6",
   "metadata": {
    "hide_input": true
   },
   "outputs": [],
   "source": [
    "# Boolean Mask to remove 'No phone service'.\n",
    "mult_lines = train[train['multiple_lines'] != 'No phone service']"
   ]
  },
  {
   "cell_type": "code",
   "execution_count": 19,
   "id": "7598d359",
   "metadata": {
    "hide_input": true
   },
   "outputs": [
    {
     "data": {
      "text/plain": [
       "<AxesSubplot:xlabel='multiple_lines', ylabel='count'>"
      ]
     },
     "execution_count": 19,
     "metadata": {},
     "output_type": "execute_result"
    },
    {
     "data": {
      "image/png": "[encoded data removed]",
      "text/plain": [
       "<Figure size 640x480 with 1 Axes>"
      ]
     },
     "metadata": {},
     "output_type": "display_data"
    }
   ],
   "source": [
    "# Count Plot for multiple line churn rate.\n",
    "sns.countplot(x='multiple_lines', hue='churn', data=mult_lines)"
   ]
  },
  {
   "cell_type": "code",
   "execution_count": 20,
   "id": "a3f147df",
   "metadata": {},
   "outputs": [
    {
     "data": {
      "text/html": [
       "<div>\n",
       "<style scoped>\n",
       "    .dataframe tbody tr th:only-of-type {\n",
       "        vertical-align: middle;\n",
       "    }\n",
       "\n",
       "    .dataframe tbody tr th {\n",
       "        vertical-align: top;\n",
       "    }\n",
       "\n",
       "    .dataframe thead th {\n",
       "        text-align: right;\n",
       "    }\n",
       "</style>\n",
       "<table border=\"1\" class=\"dataframe\">\n",
       "  <thead>\n",
       "    <tr style=\"text-align: right;\">\n",
       "      <th>churn</th>\n",
       "      <th>No</th>\n",
       "      <th>Yes</th>\n",
       "    </tr>\n",
       "    <tr>\n",
       "      <th>multiple_lines</th>\n",
       "      <th></th>\n",
       "      <th></th>\n",
       "    </tr>\n",
       "  </thead>\n",
       "  <tbody>\n",
       "    <tr>\n",
       "      <th>No</th>\n",
       "      <td>1406</td>\n",
       "      <td>475</td>\n",
       "    </tr>\n",
       "    <tr>\n",
       "      <th>Yes</th>\n",
       "      <td>1218</td>\n",
       "      <td>479</td>\n",
       "    </tr>\n",
       "  </tbody>\n",
       "</table>\n",
       "</div>"
      ],
      "text/plain": [
       "churn             No  Yes\n",
       "multiple_lines           \n",
       "No              1406  475\n",
       "Yes             1218  479"
      ]
     },
     "execution_count": 20,
     "metadata": {},
     "output_type": "execute_result"
    }
   ],
   "source": [
    "# Crosstab for customers with multiple lines. Will be input into the chi-square algorithm.\n",
    "mult_lines_ct = pd.crosstab(mult_lines['multiple_lines'], mult_lines['churn'])\n",
    "mult_lines_ct"
   ]
  },
  {
   "cell_type": "code",
   "execution_count": 21,
   "id": "4ad8ac2b",
   "metadata": {
    "hide_input": true
   },
   "outputs": [
    {
     "name": "stdout",
     "output_type": "stream",
     "text": [
      "Chi-square Test Results\n",
      "-----------------------\n",
      "Chi value: 3.88\n",
      "p-value: 0.048747217941123785\n"
     ]
    }
   ],
   "source": [
    "chi, p, degf, expected = stats.chi2_contingency(mult_lines_ct)\n",
    "print('Chi-square Test Results')\n",
    "print('-----------------------')\n",
    "print(f'Chi value: {round(chi,2)}')\n",
    "print(f'p-value: {p}')"
   ]
  },
  {
   "cell_type": "markdown",
   "id": "4b8971a0",
   "metadata": {},
   "source": [
    "<div class=\"alert alert-block alert-success\">\n",
    "<b> P-value is lower than 0.05. <b>\n",
    "<br>This result shows that there is a signifcant difference in churn rate when customers have multiple lines.<br>"
   ]
  },
  {
   "cell_type": "markdown",
   "id": "5d44db9a",
   "metadata": {},
   "source": [
    "## Does having dependents affect churn rate? <a class=\"tocSkip\">"
   ]
  },
  {
   "cell_type": "markdown",
   "id": "d641dad1",
   "metadata": {},
   "source": [
    "- H0: There is no significant difference in churn rate when customers have dependents.\n",
    "\n",
    "- Ha: There is a significant difference in churn rate when customers have dependents.\n",
    "    \n",
    "- Cofidence interval = 95%\n",
    "\n",
    "- alpha = 0.05"
   ]
  },
  {
   "cell_type": "markdown",
   "id": "a6c67b71",
   "metadata": {},
   "source": [
    "### Count plot representing customers who have dependents <a class=\"tocSkip\">"
   ]
  },
  {
   "cell_type": "code",
   "execution_count": 22,
   "id": "f9014bf5",
   "metadata": {
    "hide_input": true
   },
   "outputs": [
    {
     "data": {
      "text/plain": [
       "<AxesSubplot:xlabel='dependents', ylabel='count'>"
      ]
     },
     "execution_count": 22,
     "metadata": {},
     "output_type": "execute_result"
    },
    {
     "data": {
      "image/png": "[encoded data removed]",
      "text/plain": [
       "<Figure size 640x480 with 1 Axes>"
      ]
     },
     "metadata": {},
     "output_type": "display_data"
    }
   ],
   "source": [
    "# Countplot for dependents and churn rate \n",
    "sns.countplot(x='dependents', hue='churn', data=train)"
   ]
  },
  {
   "cell_type": "code",
   "execution_count": 23,
   "id": "180e43a1",
   "metadata": {},
   "outputs": [
    {
     "data": {
      "text/html": [
       "<div>\n",
       "<style scoped>\n",
       "    .dataframe tbody tr th:only-of-type {\n",
       "        vertical-align: middle;\n",
       "    }\n",
       "\n",
       "    .dataframe tbody tr th {\n",
       "        vertical-align: top;\n",
       "    }\n",
       "\n",
       "    .dataframe thead th {\n",
       "        text-align: right;\n",
       "    }\n",
       "</style>\n",
       "<table border=\"1\" class=\"dataframe\">\n",
       "  <thead>\n",
       "    <tr style=\"text-align: right;\">\n",
       "      <th>churn</th>\n",
       "      <th>No</th>\n",
       "      <th>Yes</th>\n",
       "    </tr>\n",
       "    <tr>\n",
       "      <th>dependents</th>\n",
       "      <th></th>\n",
       "      <th></th>\n",
       "    </tr>\n",
       "  </thead>\n",
       "  <tbody>\n",
       "    <tr>\n",
       "      <th>No</th>\n",
       "      <td>1871</td>\n",
       "      <td>859</td>\n",
       "    </tr>\n",
       "    <tr>\n",
       "      <th>Yes</th>\n",
       "      <td>1026</td>\n",
       "      <td>187</td>\n",
       "    </tr>\n",
       "  </tbody>\n",
       "</table>\n",
       "</div>"
      ],
      "text/plain": [
       "churn         No  Yes\n",
       "dependents           \n",
       "No          1871  859\n",
       "Yes         1026  187"
      ]
     },
     "execution_count": 23,
     "metadata": {},
     "output_type": "execute_result"
    }
   ],
   "source": [
    "# Crosstab for customers with dependents. Will be input into the chi-square algorithm.\n",
    "deps_ct = pd.crosstab(train.dependents, train.churn)\n",
    "deps_ct"
   ]
  },
  {
   "cell_type": "code",
   "execution_count": 24,
   "id": "a7b28b10",
   "metadata": {
    "hide_input": true
   },
   "outputs": [
    {
     "name": "stdout",
     "output_type": "stream",
     "text": [
      "Chi-square Test Results\n",
      "-----------------------\n",
      "Chi value: 110.16\n",
      "p-value: 9.030713272299022e-26\n"
     ]
    }
   ],
   "source": [
    "chi, p, degf, expected = stats.chi2_contingency(deps_ct)\n",
    "print('Chi-square Test Results')\n",
    "print('-----------------------')\n",
    "print(f'Chi value: {round(chi,2)}')\n",
    "print(f'p-value: {p}')"
   ]
  },
  {
   "cell_type": "markdown",
   "id": "d8d06dad",
   "metadata": {
    "hide_input": false
   },
   "source": [
    "<div class=\"alert alert-block alert-success\">\n",
    "<b> P-value is lower than 0.05. <b>\n",
    "<br>This result shows that there is a significant difference in churn rate when customers have dependents.<br>"
   ]
  },
  {
   "cell_type": "markdown",
   "id": "cce8917f",
   "metadata": {},
   "source": [
    "## Exploration Summary <a class=\"tocSkip\">"
   ]
  },
  {
   "cell_type": "markdown",
   "id": "5b62f1f7",
   "metadata": {},
   "source": [
    "- \"Contract types\" will be considered as drivers of churn\n",
    "- Having \"online-security\" as a service  will be considered as a driver for churn.\n",
    "- Having \"multiple lines\" will be considered as a driver for churn.\n",
    "- Having \"dependents\" will be considered as a driver for churn."
   ]
  },
  {
   "cell_type": "markdown",
   "id": "5e3cd9d9",
   "metadata": {},
   "source": [
    "## Features that will be used in modeling <a class=\"tocSkip\">"
   ]
  },
  {
   "cell_type": "markdown",
   "id": "c1bb6f48",
   "metadata": {},
   "source": [
    "- \"Contract types\" ( Month-to-month, 1 year, 2 year)\n",
    "- \"Online-security\" (add-on service)\n",
    "- \"Multiple lines\" (more than one phone line)\n",
    "- \"Dependents\" (whether customer has dependents or not)"
   ]
  },
  {
   "cell_type": "markdown",
   "id": "c29b1fef",
   "metadata": {},
   "source": [
    "# Machine Learning Models <a class=\"tocSkip\">"
   ]
  },
  {
   "cell_type": "markdown",
   "id": "acc100ec",
   "metadata": {},
   "source": [
    "- Accuracy score will be the evaluation metric\n",
    "- Churned customers is about 27%. Non-churned customers is about 73%. "
   ]
  },
  {
   "cell_type": "markdown",
   "id": "6502d76f",
   "metadata": {},
   "source": [
    "**-Guessing that a customer churned has a 73% chance of being correct. This will be the baseline**\n",
    "\n",
    "**-Four different models will be used: Decision Tree, Random Forest, KNN, Logistic Regression.**\n",
    "\n",
    "**-Model that performs best will move on to the test dataset**"
   ]
  },
  {
   "cell_type": "code",
   "execution_count": 25,
   "id": "82041d41",
   "metadata": {
    "hide_input": true
   },
   "outputs": [],
   "source": [
    "# Dropping all 'Object' dtypes\n",
    "train = train.select_dtypes(exclude=['object'])\n",
    "validate = validate.select_dtypes(exclude=['object'])\n",
    "test= test.select_dtypes(exclude=['object'])"
   ]
  },
  {
   "cell_type": "code",
   "execution_count": 26,
   "id": "db1e03b8",
   "metadata": {
    "hide_input": false
   },
   "outputs": [],
   "source": [
    "# prep for modeling\n",
    "X_train = train.drop(['churn_numeric'], axis=1)\n",
    "y_train = train.churn_numeric\n",
    "\n",
    "X_validate = validate.drop(['churn_numeric'], axis=1)\n",
    "y_validate = validate.churn_numeric\n",
    "\n",
    "X_test = test.drop(['churn_numeric'], axis=1)\n",
    "y_test = test.churn_numeric"
   ]
  },
  {
   "cell_type": "markdown",
   "id": "72cfa85c",
   "metadata": {},
   "source": [
    "## Decision Tree Model <a class=\"tocSkip\">"
   ]
  },
  {
   "cell_type": "code",
   "execution_count": 27,
   "id": "801c3afa",
   "metadata": {},
   "outputs": [
    {
     "data": {
      "text/html": [
       "<style>#sk-container-id-1 {color: black;background-color: white;}#sk-container-id-1 pre{padding: 0;}#sk-container-id-1 div.sk-toggleable {background-color: white;}#sk-container-id-1 label.sk-toggleable__label {cursor: pointer;display: block;width: 100%;margin-bottom: 0;padding: 0.3em;box-sizing: border-box;text-align: center;}#sk-container-id-1 label.sk-toggleable__label-arrow:before {content: \"▸\";float: left;margin-right: 0.25em;color: #696969;}#sk-container-id-1 label.sk-toggleable__label-arrow:hover:before {color: black;}#sk-container-id-1 div.sk-estimator:hover label.sk-toggleable__label-arrow:before {color: black;}#sk-container-id-1 div.sk-toggleable__content {max-height: 0;max-width: 0;overflow: hidden;text-align: left;background-color: #f0f8ff;}#sk-container-id-1 div.sk-toggleable__content pre {margin: 0.2em;color: black;border-radius: 0.25em;background-color: #f0f8ff;}#sk-container-id-1 input.sk-toggleable__control:checked~div.sk-toggleable__content {max-height: 200px;max-width: 100%;overflow: auto;}#sk-container-id-1 input.sk-toggleable__control:checked~label.sk-toggleable__label-arrow:before {content: \"▾\";}#sk-container-id-1 div.sk-estimator input.sk-toggleable__control:checked~label.sk-toggleable__label {background-color: #d4ebff;}#sk-container-id-1 div.sk-label input.sk-toggleable__control:checked~label.sk-toggleable__label {background-color: #d4ebff;}#sk-container-id-1 input.sk-hidden--visually {border: 0;clip: rect(1px 1px 1px 1px);clip: rect(1px, 1px, 1px, 1px);height: 1px;margin: -1px;overflow: hidden;padding: 0;position: absolute;width: 1px;}#sk-container-id-1 div.sk-estimator {font-family: monospace;background-color: #f0f8ff;border: 1px dotted black;border-radius: 0.25em;box-sizing: border-box;margin-bottom: 0.5em;}#sk-container-id-1 div.sk-estimator:hover {background-color: #d4ebff;}#sk-container-id-1 div.sk-parallel-item::after {content: \"\";width: 100%;border-bottom: 1px solid gray;flex-grow: 1;}#sk-container-id-1 div.sk-label:hover label.sk-toggleable__label {background-color: #d4ebff;}#sk-container-id-1 div.sk-serial::before {content: \"\";position: absolute;border-left: 1px solid gray;box-sizing: border-box;top: 0;bottom: 0;left: 50%;z-index: 0;}#sk-container-id-1 div.sk-serial {display: flex;flex-direction: column;align-items: center;background-color: white;padding-right: 0.2em;padding-left: 0.2em;position: relative;}#sk-container-id-1 div.sk-item {position: relative;z-index: 1;}#sk-container-id-1 div.sk-parallel {display: flex;align-items: stretch;justify-content: center;background-color: white;position: relative;}#sk-container-id-1 div.sk-item::before, #sk-container-id-1 div.sk-parallel-item::before {content: \"\";position: absolute;border-left: 1px solid gray;box-sizing: border-box;top: 0;bottom: 0;left: 50%;z-index: -1;}#sk-container-id-1 div.sk-parallel-item {display: flex;flex-direction: column;z-index: 1;position: relative;background-color: white;}#sk-container-id-1 div.sk-parallel-item:first-child::after {align-self: flex-end;width: 50%;}#sk-container-id-1 div.sk-parallel-item:last-child::after {align-self: flex-start;width: 50%;}#sk-container-id-1 div.sk-parallel-item:only-child::after {width: 0;}#sk-container-id-1 div.sk-dashed-wrapped {border: 1px dashed gray;margin: 0 0.4em 0.5em 0.4em;box-sizing: border-box;padding-bottom: 0.4em;background-color: white;}#sk-container-id-1 div.sk-label label {font-family: monospace;font-weight: bold;display: inline-block;line-height: 1.2em;}#sk-container-id-1 div.sk-label-container {text-align: center;}#sk-container-id-1 div.sk-container {/* jupyter's `normalize.less` sets `[hidden] { display: none; }` but bootstrap.min.css set `[hidden] { display: none !important; }` so we also need the `!important` here to be able to override the default hidden behavior on the sphinx rendered scikit-learn.org. See: https://github.com/scikit-learn/scikit-learn/issues/21755 */display: inline-block !important;position: relative;}#sk-container-id-1 div.sk-text-repr-fallback {display: none;}</style><div id=\"sk-container-id-1\" class=\"sk-top-container\"><div class=\"sk-text-repr-fallback\"><pre>DecisionTreeClassifier(max_depth=5, random_state=42)</pre><b>In a Jupyter environment, please rerun this cell to show the HTML representation or trust the notebook. <br />On GitHub, the HTML representation is unable to render, please try loading this page with nbviewer.org.</b></div><div class=\"sk-container\" hidden><div class=\"sk-item\"><div class=\"sk-estimator sk-toggleable\"><input class=\"sk-toggleable__control sk-hidden--visually\" id=\"sk-estimator-id-1\" type=\"checkbox\" checked><label for=\"sk-estimator-id-1\" class=\"sk-toggleable__label sk-toggleable__label-arrow\">DecisionTreeClassifier</label><div class=\"sk-toggleable__content\"><pre>DecisionTreeClassifier(max_depth=5, random_state=42)</pre></div></div></div></div></div>"
      ],
      "text/plain": [
       "DecisionTreeClassifier(max_depth=5, random_state=42)"
      ]
     },
     "execution_count": 27,
     "metadata": {},
     "output_type": "execute_result"
    }
   ],
   "source": [
    "# Create Decision Tree Model Object\n",
    "clf = DecisionTreeClassifier(max_depth=5, random_state=42)\n",
    "# Fit Decision Tree Model\n",
    "clf.fit(X_train,y_train)"
   ]
  },
  {
   "cell_type": "code",
   "execution_count": 28,
   "id": "e966aa83",
   "metadata": {
    "hide_input": true
   },
   "outputs": [
    {
     "name": "stdout",
     "output_type": "stream",
     "text": [
      "Decision Tree Results\n",
      "---------------------\n",
      "Decision Tree Accuracy on train data: 0.79686\n",
      "Decision Tree Accuracy on validate data: 0.7877\n",
      "Difference: 0.00916\n"
     ]
    }
   ],
   "source": [
    "train_clf = clf.score(X_train,y_train)\n",
    "val_clf = clf.score(X_validate, y_validate)\n",
    "print('Decision Tree Results')\n",
    "print('---------------------')\n",
    "print(f'Decision Tree Accuracy on train data: {round(train_clf,5)}')\n",
    "print(f'Decision Tree Accuracy on validate data: {round(val_clf,5)}')\n",
    "print('Difference:',round(train_clf - val_clf,5))"
   ]
  },
  {
   "cell_type": "markdown",
   "id": "cd08d192",
   "metadata": {},
   "source": [
    "## Random Forest <a class=\"tocSkip\">"
   ]
  },
  {
   "cell_type": "code",
   "execution_count": 29,
   "id": "b86461da",
   "metadata": {
    "hide_input": false
   },
   "outputs": [
    {
     "data": {
      "text/html": [
       "<style>#sk-container-id-2 {color: black;background-color: white;}#sk-container-id-2 pre{padding: 0;}#sk-container-id-2 div.sk-toggleable {background-color: white;}#sk-container-id-2 label.sk-toggleable__label {cursor: pointer;display: block;width: 100%;margin-bottom: 0;padding: 0.3em;box-sizing: border-box;text-align: center;}#sk-container-id-2 label.sk-toggleable__label-arrow:before {content: \"▸\";float: left;margin-right: 0.25em;color: #696969;}#sk-container-id-2 label.sk-toggleable__label-arrow:hover:before {color: black;}#sk-container-id-2 div.sk-estimator:hover label.sk-toggleable__label-arrow:before {color: black;}#sk-container-id-2 div.sk-toggleable__content {max-height: 0;max-width: 0;overflow: hidden;text-align: left;background-color: #f0f8ff;}#sk-container-id-2 div.sk-toggleable__content pre {margin: 0.2em;color: black;border-radius: 0.25em;background-color: #f0f8ff;}#sk-container-id-2 input.sk-toggleable__control:checked~div.sk-toggleable__content {max-height: 200px;max-width: 100%;overflow: auto;}#sk-container-id-2 input.sk-toggleable__control:checked~label.sk-toggleable__label-arrow:before {content: \"▾\";}#sk-container-id-2 div.sk-estimator input.sk-toggleable__control:checked~label.sk-toggleable__label {background-color: #d4ebff;}#sk-container-id-2 div.sk-label input.sk-toggleable__control:checked~label.sk-toggleable__label {background-color: #d4ebff;}#sk-container-id-2 input.sk-hidden--visually {border: 0;clip: rect(1px 1px 1px 1px);clip: rect(1px, 1px, 1px, 1px);height: 1px;margin: -1px;overflow: hidden;padding: 0;position: absolute;width: 1px;}#sk-container-id-2 div.sk-estimator {font-family: monospace;background-color: #f0f8ff;border: 1px dotted black;border-radius: 0.25em;box-sizing: border-box;margin-bottom: 0.5em;}#sk-container-id-2 div.sk-estimator:hover {background-color: #d4ebff;}#sk-container-id-2 div.sk-parallel-item::after {content: \"\";width: 100%;border-bottom: 1px solid gray;flex-grow: 1;}#sk-container-id-2 div.sk-label:hover label.sk-toggleable__label {background-color: #d4ebff;}#sk-container-id-2 div.sk-serial::before {content: \"\";position: absolute;border-left: 1px solid gray;box-sizing: border-box;top: 0;bottom: 0;left: 50%;z-index: 0;}#sk-container-id-2 div.sk-serial {display: flex;flex-direction: column;align-items: center;background-color: white;padding-right: 0.2em;padding-left: 0.2em;position: relative;}#sk-container-id-2 div.sk-item {position: relative;z-index: 1;}#sk-container-id-2 div.sk-parallel {display: flex;align-items: stretch;justify-content: center;background-color: white;position: relative;}#sk-container-id-2 div.sk-item::before, #sk-container-id-2 div.sk-parallel-item::before {content: \"\";position: absolute;border-left: 1px solid gray;box-sizing: border-box;top: 0;bottom: 0;left: 50%;z-index: -1;}#sk-container-id-2 div.sk-parallel-item {display: flex;flex-direction: column;z-index: 1;position: relative;background-color: white;}#sk-container-id-2 div.sk-parallel-item:first-child::after {align-self: flex-end;width: 50%;}#sk-container-id-2 div.sk-parallel-item:last-child::after {align-self: flex-start;width: 50%;}#sk-container-id-2 div.sk-parallel-item:only-child::after {width: 0;}#sk-container-id-2 div.sk-dashed-wrapped {border: 1px dashed gray;margin: 0 0.4em 0.5em 0.4em;box-sizing: border-box;padding-bottom: 0.4em;background-color: white;}#sk-container-id-2 div.sk-label label {font-family: monospace;font-weight: bold;display: inline-block;line-height: 1.2em;}#sk-container-id-2 div.sk-label-container {text-align: center;}#sk-container-id-2 div.sk-container {/* jupyter's `normalize.less` sets `[hidden] { display: none; }` but bootstrap.min.css set `[hidden] { display: none !important; }` so we also need the `!important` here to be able to override the default hidden behavior on the sphinx rendered scikit-learn.org. See: https://github.com/scikit-learn/scikit-learn/issues/21755 */display: inline-block !important;position: relative;}#sk-container-id-2 div.sk-text-repr-fallback {display: none;}</style><div id=\"sk-container-id-2\" class=\"sk-top-container\"><div class=\"sk-text-repr-fallback\"><pre>RandomForestClassifier(max_depth=7, min_samples_leaf=2, random_state=123)</pre><b>In a Jupyter environment, please rerun this cell to show the HTML representation or trust the notebook. <br />On GitHub, the HTML representation is unable to render, please try loading this page with nbviewer.org.</b></div><div class=\"sk-container\" hidden><div class=\"sk-item\"><div class=\"sk-estimator sk-toggleable\"><input class=\"sk-toggleable__control sk-hidden--visually\" id=\"sk-estimator-id-2\" type=\"checkbox\" checked><label for=\"sk-estimator-id-2\" class=\"sk-toggleable__label sk-toggleable__label-arrow\">RandomForestClassifier</label><div class=\"sk-toggleable__content\"><pre>RandomForestClassifier(max_depth=7, min_samples_leaf=2, random_state=123)</pre></div></div></div></div></div>"
      ],
      "text/plain": [
       "RandomForestClassifier(max_depth=7, min_samples_leaf=2, random_state=123)"
      ]
     },
     "execution_count": 29,
     "metadata": {},
     "output_type": "execute_result"
    }
   ],
   "source": [
    "# Creating Random Forest Model\n",
    "rf = RandomForestClassifier(max_depth=7, min_samples_leaf=2, random_state=123)\n",
    "# Fitting the model\n",
    "rf.fit(X_train, y_train)"
   ]
  },
  {
   "cell_type": "code",
   "execution_count": 30,
   "id": "986c33f2",
   "metadata": {
    "hide_input": true
   },
   "outputs": [
    {
     "name": "stdout",
     "output_type": "stream",
     "text": [
      "Random Forest Results\n",
      "---------------------\n",
      "Random Forest Accuracy on train data: 0.81156\n",
      "Random Forest Accuracy on validate data: 0.80485\n",
      "Difference: 0.00672\n"
     ]
    }
   ],
   "source": [
    "train_rf = rf.score(X_train,y_train)\n",
    "val_rf = rf.score(X_validate, y_validate)\n",
    "print('Random Forest Results')\n",
    "print('---------------------')\n",
    "print(f'Random Forest Accuracy on train data: {round(train_rf,5)}')\n",
    "print(f'Random Forest Accuracy on validate data: {round(val_rf,5)}')\n",
    "print('Difference:',round(train_rf - val_rf,5))"
   ]
  },
  {
   "cell_type": "markdown",
   "id": "44c3d25b",
   "metadata": {},
   "source": [
    "## KNN <a class=\"tocSkip\">"
   ]
  },
  {
   "cell_type": "code",
   "execution_count": 31,
   "id": "d1b9b95d",
   "metadata": {},
   "outputs": [
    {
     "data": {
      "text/html": [
       "<style>#sk-container-id-3 {color: black;background-color: white;}#sk-container-id-3 pre{padding: 0;}#sk-container-id-3 div.sk-toggleable {background-color: white;}#sk-container-id-3 label.sk-toggleable__label {cursor: pointer;display: block;width: 100%;margin-bottom: 0;padding: 0.3em;box-sizing: border-box;text-align: center;}#sk-container-id-3 label.sk-toggleable__label-arrow:before {content: \"▸\";float: left;margin-right: 0.25em;color: #696969;}#sk-container-id-3 label.sk-toggleable__label-arrow:hover:before {color: black;}#sk-container-id-3 div.sk-estimator:hover label.sk-toggleable__label-arrow:before {color: black;}#sk-container-id-3 div.sk-toggleable__content {max-height: 0;max-width: 0;overflow: hidden;text-align: left;background-color: #f0f8ff;}#sk-container-id-3 div.sk-toggleable__content pre {margin: 0.2em;color: black;border-radius: 0.25em;background-color: #f0f8ff;}#sk-container-id-3 input.sk-toggleable__control:checked~div.sk-toggleable__content {max-height: 200px;max-width: 100%;overflow: auto;}#sk-container-id-3 input.sk-toggleable__control:checked~label.sk-toggleable__label-arrow:before {content: \"▾\";}#sk-container-id-3 div.sk-estimator input.sk-toggleable__control:checked~label.sk-toggleable__label {background-color: #d4ebff;}#sk-container-id-3 div.sk-label input.sk-toggleable__control:checked~label.sk-toggleable__label {background-color: #d4ebff;}#sk-container-id-3 input.sk-hidden--visually {border: 0;clip: rect(1px 1px 1px 1px);clip: rect(1px, 1px, 1px, 1px);height: 1px;margin: -1px;overflow: hidden;padding: 0;position: absolute;width: 1px;}#sk-container-id-3 div.sk-estimator {font-family: monospace;background-color: #f0f8ff;border: 1px dotted black;border-radius: 0.25em;box-sizing: border-box;margin-bottom: 0.5em;}#sk-container-id-3 div.sk-estimator:hover {background-color: #d4ebff;}#sk-container-id-3 div.sk-parallel-item::after {content: \"\";width: 100%;border-bottom: 1px solid gray;flex-grow: 1;}#sk-container-id-3 div.sk-label:hover label.sk-toggleable__label {background-color: #d4ebff;}#sk-container-id-3 div.sk-serial::before {content: \"\";position: absolute;border-left: 1px solid gray;box-sizing: border-box;top: 0;bottom: 0;left: 50%;z-index: 0;}#sk-container-id-3 div.sk-serial {display: flex;flex-direction: column;align-items: center;background-color: white;padding-right: 0.2em;padding-left: 0.2em;position: relative;}#sk-container-id-3 div.sk-item {position: relative;z-index: 1;}#sk-container-id-3 div.sk-parallel {display: flex;align-items: stretch;justify-content: center;background-color: white;position: relative;}#sk-container-id-3 div.sk-item::before, #sk-container-id-3 div.sk-parallel-item::before {content: \"\";position: absolute;border-left: 1px solid gray;box-sizing: border-box;top: 0;bottom: 0;left: 50%;z-index: -1;}#sk-container-id-3 div.sk-parallel-item {display: flex;flex-direction: column;z-index: 1;position: relative;background-color: white;}#sk-container-id-3 div.sk-parallel-item:first-child::after {align-self: flex-end;width: 50%;}#sk-container-id-3 div.sk-parallel-item:last-child::after {align-self: flex-start;width: 50%;}#sk-container-id-3 div.sk-parallel-item:only-child::after {width: 0;}#sk-container-id-3 div.sk-dashed-wrapped {border: 1px dashed gray;margin: 0 0.4em 0.5em 0.4em;box-sizing: border-box;padding-bottom: 0.4em;background-color: white;}#sk-container-id-3 div.sk-label label {font-family: monospace;font-weight: bold;display: inline-block;line-height: 1.2em;}#sk-container-id-3 div.sk-label-container {text-align: center;}#sk-container-id-3 div.sk-container {/* jupyter's `normalize.less` sets `[hidden] { display: none; }` but bootstrap.min.css set `[hidden] { display: none !important; }` so we also need the `!important` here to be able to override the default hidden behavior on the sphinx rendered scikit-learn.org. See: https://github.com/scikit-learn/scikit-learn/issues/21755 */display: inline-block !important;position: relative;}#sk-container-id-3 div.sk-text-repr-fallback {display: none;}</style><div id=\"sk-container-id-3\" class=\"sk-top-container\"><div class=\"sk-text-repr-fallback\"><pre>KNeighborsClassifier(n_neighbors=35)</pre><b>In a Jupyter environment, please rerun this cell to show the HTML representation or trust the notebook. <br />On GitHub, the HTML representation is unable to render, please try loading this page with nbviewer.org.</b></div><div class=\"sk-container\" hidden><div class=\"sk-item\"><div class=\"sk-estimator sk-toggleable\"><input class=\"sk-toggleable__control sk-hidden--visually\" id=\"sk-estimator-id-3\" type=\"checkbox\" checked><label for=\"sk-estimator-id-3\" class=\"sk-toggleable__label sk-toggleable__label-arrow\">KNeighborsClassifier</label><div class=\"sk-toggleable__content\"><pre>KNeighborsClassifier(n_neighbors=35)</pre></div></div></div></div></div>"
      ],
      "text/plain": [
       "KNeighborsClassifier(n_neighbors=35)"
      ]
     },
     "execution_count": 31,
     "metadata": {},
     "output_type": "execute_result"
    }
   ],
   "source": [
    "# Creating KNN Object\n",
    "knn = KNeighborsClassifier(n_neighbors=35, weights='uniform')\n",
    "# Fit the model\n",
    "knn.fit(X_train, y_train)"
   ]
  },
  {
   "cell_type": "code",
   "execution_count": 32,
   "id": "4f445baa",
   "metadata": {
    "hide_input": false
   },
   "outputs": [
    {
     "name": "stdout",
     "output_type": "stream",
     "text": [
      "KNN Results\n",
      "-----------\n",
      "KNN on train data: 0.79838\n",
      "KNN on validate data: 0.78297\n",
      "Difference: 0.01541\n"
     ]
    }
   ],
   "source": [
    "train_knn = knn.score(X_train,y_train)\n",
    "val_knn = knn.score(X_validate, y_validate)\n",
    "print('KNN Results')\n",
    "print('-----------')\n",
    "print(f'KNN on train data: {round(train_knn,5)}')\n",
    "print(f'KNN on validate data: {round(val_knn,5)}')\n",
    "print('Difference:',round(train_knn - val_knn,5))"
   ]
  },
  {
   "cell_type": "markdown",
   "id": "bad4bf42",
   "metadata": {},
   "source": [
    "## Logistic Regression <a class=\"tocSkip\">"
   ]
  },
  {
   "cell_type": "code",
   "execution_count": 33,
   "id": "e520bb98",
   "metadata": {},
   "outputs": [
    {
     "data": {
      "text/html": [
       "<style>#sk-container-id-4 {color: black;background-color: white;}#sk-container-id-4 pre{padding: 0;}#sk-container-id-4 div.sk-toggleable {background-color: white;}#sk-container-id-4 label.sk-toggleable__label {cursor: pointer;display: block;width: 100%;margin-bottom: 0;padding: 0.3em;box-sizing: border-box;text-align: center;}#sk-container-id-4 label.sk-toggleable__label-arrow:before {content: \"▸\";float: left;margin-right: 0.25em;color: #696969;}#sk-container-id-4 label.sk-toggleable__label-arrow:hover:before {color: black;}#sk-container-id-4 div.sk-estimator:hover label.sk-toggleable__label-arrow:before {color: black;}#sk-container-id-4 div.sk-toggleable__content {max-height: 0;max-width: 0;overflow: hidden;text-align: left;background-color: #f0f8ff;}#sk-container-id-4 div.sk-toggleable__content pre {margin: 0.2em;color: black;border-radius: 0.25em;background-color: #f0f8ff;}#sk-container-id-4 input.sk-toggleable__control:checked~div.sk-toggleable__content {max-height: 200px;max-width: 100%;overflow: auto;}#sk-container-id-4 input.sk-toggleable__control:checked~label.sk-toggleable__label-arrow:before {content: \"▾\";}#sk-container-id-4 div.sk-estimator input.sk-toggleable__control:checked~label.sk-toggleable__label {background-color: #d4ebff;}#sk-container-id-4 div.sk-label input.sk-toggleable__control:checked~label.sk-toggleable__label {background-color: #d4ebff;}#sk-container-id-4 input.sk-hidden--visually {border: 0;clip: rect(1px 1px 1px 1px);clip: rect(1px, 1px, 1px, 1px);height: 1px;margin: -1px;overflow: hidden;padding: 0;position: absolute;width: 1px;}#sk-container-id-4 div.sk-estimator {font-family: monospace;background-color: #f0f8ff;border: 1px dotted black;border-radius: 0.25em;box-sizing: border-box;margin-bottom: 0.5em;}#sk-container-id-4 div.sk-estimator:hover {background-color: #d4ebff;}#sk-container-id-4 div.sk-parallel-item::after {content: \"\";width: 100%;border-bottom: 1px solid gray;flex-grow: 1;}#sk-container-id-4 div.sk-label:hover label.sk-toggleable__label {background-color: #d4ebff;}#sk-container-id-4 div.sk-serial::before {content: \"\";position: absolute;border-left: 1px solid gray;box-sizing: border-box;top: 0;bottom: 0;left: 50%;z-index: 0;}#sk-container-id-4 div.sk-serial {display: flex;flex-direction: column;align-items: center;background-color: white;padding-right: 0.2em;padding-left: 0.2em;position: relative;}#sk-container-id-4 div.sk-item {position: relative;z-index: 1;}#sk-container-id-4 div.sk-parallel {display: flex;align-items: stretch;justify-content: center;background-color: white;position: relative;}#sk-container-id-4 div.sk-item::before, #sk-container-id-4 div.sk-parallel-item::before {content: \"\";position: absolute;border-left: 1px solid gray;box-sizing: border-box;top: 0;bottom: 0;left: 50%;z-index: -1;}#sk-container-id-4 div.sk-parallel-item {display: flex;flex-direction: column;z-index: 1;position: relative;background-color: white;}#sk-container-id-4 div.sk-parallel-item:first-child::after {align-self: flex-end;width: 50%;}#sk-container-id-4 div.sk-parallel-item:last-child::after {align-self: flex-start;width: 50%;}#sk-container-id-4 div.sk-parallel-item:only-child::after {width: 0;}#sk-container-id-4 div.sk-dashed-wrapped {border: 1px dashed gray;margin: 0 0.4em 0.5em 0.4em;box-sizing: border-box;padding-bottom: 0.4em;background-color: white;}#sk-container-id-4 div.sk-label label {font-family: monospace;font-weight: bold;display: inline-block;line-height: 1.2em;}#sk-container-id-4 div.sk-label-container {text-align: center;}#sk-container-id-4 div.sk-container {/* jupyter's `normalize.less` sets `[hidden] { display: none; }` but bootstrap.min.css set `[hidden] { display: none !important; }` so we also need the `!important` here to be able to override the default hidden behavior on the sphinx rendered scikit-learn.org. See: https://github.com/scikit-learn/scikit-learn/issues/21755 */display: inline-block !important;position: relative;}#sk-container-id-4 div.sk-text-repr-fallback {display: none;}</style><div id=\"sk-container-id-4\" class=\"sk-top-container\"><div class=\"sk-text-repr-fallback\"><pre>LogisticRegression(random_state=123, solver=&#x27;liblinear&#x27;)</pre><b>In a Jupyter environment, please rerun this cell to show the HTML representation or trust the notebook. <br />On GitHub, the HTML representation is unable to render, please try loading this page with nbviewer.org.</b></div><div class=\"sk-container\" hidden><div class=\"sk-item\"><div class=\"sk-estimator sk-toggleable\"><input class=\"sk-toggleable__control sk-hidden--visually\" id=\"sk-estimator-id-4\" type=\"checkbox\" checked><label for=\"sk-estimator-id-4\" class=\"sk-toggleable__label sk-toggleable__label-arrow\">LogisticRegression</label><div class=\"sk-toggleable__content\"><pre>LogisticRegression(random_state=123, solver=&#x27;liblinear&#x27;)</pre></div></div></div></div></div>"
      ],
      "text/plain": [
       "LogisticRegression(random_state=123, solver='liblinear')"
      ]
     },
     "execution_count": 33,
     "metadata": {},
     "output_type": "execute_result"
    }
   ],
   "source": [
    "# Logistic Regression Model Object\n",
    "logit = LogisticRegression(random_state=123, penalty='l2', max_iter=100, solver='liblinear')\n",
    "# Fit the model\n",
    "logit.fit(X_train, y_train)"
   ]
  },
  {
   "cell_type": "code",
   "execution_count": 34,
   "id": "de77fc20",
   "metadata": {
    "hide_input": true
   },
   "outputs": [
    {
     "name": "stdout",
     "output_type": "stream",
     "text": [
      "Logistic Regression Results\n",
      "---------------------------\n",
      "Logistic Regression on train data: 0.79254\n",
      "Logistic Regression on validate data: 0.79894\n",
      "Difference: -0.00639\n"
     ]
    }
   ],
   "source": [
    "train_logit = logit.score(X_train, y_train)\n",
    "val_logit = logit.score(X_validate, y_validate)\n",
    "print('Logistic Regression Results')\n",
    "print('---------------------------')\n",
    "print(f'Logistic Regression on train data: {round(train_logit,5)}')\n",
    "print(f'Logistic Regression on validate data: {round(val_logit,5)}')\n",
    "print('Difference:',round(train_logit - val_logit,5))"
   ]
  },
  {
   "cell_type": "markdown",
   "id": "50cc9cdd",
   "metadata": {},
   "source": [
    "### Comparing Models <a class=\"tocSkip\">"
   ]
  },
  {
   "cell_type": "markdown",
   "id": "d3f35fa9",
   "metadata": {},
   "source": [
    "- Decision Tree and Random Forest performed really well and had similar results. Random Forest model performs slightly better\n",
    "- KNN model performed okay.\n",
    "- Logistic Regression performed the worse.\n",
    "- I have chosen to move forward with the Random Forest model"
   ]
  },
  {
   "cell_type": "markdown",
   "id": "578fc1a2",
   "metadata": {},
   "source": [
    "## Random Forest on Test data <a class=\"tocSkip\">"
   ]
  },
  {
   "cell_type": "markdown",
   "id": "bb22e1a9",
   "metadata": {},
   "source": [
    "#### Accuracy score with Test data <a class=\"tocSkip\">\n"
   ]
  },
  {
   "cell_type": "code",
   "execution_count": 35,
   "id": "5694fb74",
   "metadata": {},
   "outputs": [
    {
     "name": "stdout",
     "output_type": "stream",
     "text": [
      "Radom Forest on Test data: 0.79702\n"
     ]
    }
   ],
   "source": [
    "test_rf = rf.score(X_test, y_test)\n",
    "print(f'Radom Forest on Test data: {round(test_rf,5)}')"
   ]
  },
  {
   "cell_type": "markdown",
   "id": "7508f997",
   "metadata": {},
   "source": [
    "<div class=\"alert alert-block alert-success\">\n",
    "<b> Random Forest accuracy is  79.7%. <b>\n"
   ]
  },
  {
   "cell_type": "markdown",
   "id": "c048dc39",
   "metadata": {},
   "source": [
    "# Conclusions <a class=\"tocSkip\">"
   ]
  },
  {
   "cell_type": "markdown",
   "id": "fb4f62ef",
   "metadata": {},
   "source": [
    "### Exploration <a class=\"tocSkip\">"
   ]
  },
  {
   "cell_type": "markdown",
   "id": "e2d53a2c",
   "metadata": {},
   "source": [
    "- About 3 of every 10 customers have churned.\n",
    "- Customers with month-to-month contracts are more likely to churn\n",
    "- Customers with online_security are less likely to churn\n",
    "- Customers with multiple lines are less likely to churn.\n",
    "- Customers that have dependents are less likely to churn."
   ]
  },
  {
   "cell_type": "markdown",
   "id": "27075207",
   "metadata": {},
   "source": [
    "### Modeling <a class=\"tocSkip\">"
   ]
  },
  {
   "cell_type": "markdown",
   "id": "b896c495",
   "metadata": {},
   "source": [
    "- The final model was able to perform about 7% better than the baseline with about an 80% accuracy.\n",
    "- Baseline: 73%\n",
    "- Random Forest: 79.7%"
   ]
  },
  {
   "cell_type": "markdown",
   "id": "0b3a8f5b",
   "metadata": {},
   "source": [
    "### Recommendations <a class=\"tocSkip\">"
   ]
  },
  {
   "cell_type": "markdown",
   "id": "c2a2b27f",
   "metadata": {},
   "source": [
    "- To decrease chance of a customer churning, upsell the importance of having online-security."
   ]
  },
  {
   "cell_type": "markdown",
   "id": "0d28cb28",
   "metadata": {},
   "source": [
    "### Next Steps <a class=\"tocSkip\">"
   ]
  },
  {
   "cell_type": "markdown",
   "id": "8703e149",
   "metadata": {},
   "source": [
    "- Test other add-on services to see if they influence the chance of a customer churning.\n",
    "- Check if monthly charges of contract types affect churn rate."
   ]
  }
 ],
 "metadata": {
  "kernelspec": {
   "display_name": "Python 3 (ipykernel)",
   "language": "python",
   "name": "python3"
  },
  "language_info": {
   "codemirror_mode": {
    "name": "ipython",
    "version": 3
   },
   "file_extension": ".py",
   "mimetype": "text/x-python",
   "name": "python",
   "nbconvert_exporter": "python",
   "pygments_lexer": "ipython3",
   "version": "3.9.15"
  },
  "toc": {
   "base_numbering": 1,
   "nav_menu": {},
   "number_sections": true,
   "sideBar": true,
   "skip_h1_title": false,
   "title_cell": "Table of Contents",
   "title_sidebar": "Contents",
   "toc_cell": false,
   "toc_position": {
    "height": "calc(100% - 180px)",
    "left": "10px",
    "top": "150px",
    "width": "251.195px"
   },
   "toc_section_display": true,
   "toc_window_display": false
  }
 },
 "nbformat": 4,
 "nbformat_minor": 5
}
