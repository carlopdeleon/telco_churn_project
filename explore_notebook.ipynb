{
 "cells": [
  {
   "cell_type": "code",
   "execution_count": 1,
   "id": "a7665517",
   "metadata": {},
   "outputs": [],
   "source": [
    "import pandas as pd\n",
    "import numpy as np\n",
    "from scipy import stats\n",
    "from pydataset import data\n",
    "import os\n",
    "import env\n",
    "import acquire \n",
    "import prepare\n",
    "\n",
    "import matplotlib.pyplot as plt\n",
    "import seaborn as sns\n",
    "%matplotlib inline\n",
    "\n",
    "from sklearn.model_selection import train_test_split\n",
    "from sklearn.impute import SimpleImputer\n",
    "from sklearn.metrics import accuracy_score\n",
    "from sklearn.metrics import precision_score\n",
    "from sklearn.metrics import recall_score\n",
    "from sklearn.metrics import classification_report\n",
    "from sklearn.tree import DecisionTreeClassifier, plot_tree\n",
    "from sklearn.model_selection import train_test_split\n",
    "from sklearn.metrics import confusion_matrix\n",
    "from sklearn.ensemble import RandomForestClassifier\n",
    "from sklearn.neighbors import KNeighborsClassifier\n",
    "from sklearn.metrics import ConfusionMatrixDisplay\n",
    "from sklearn.linear_model import LogisticRegression\n",
    "\n",
    "\n",
    "import warnings\n",
    "warnings.filterwarnings(\"ignore\")"
   ]
  },
  {
   "cell_type": "code",
   "execution_count": 2,
   "id": "fd19ebff",
   "metadata": {},
   "outputs": [],
   "source": [
    "# Acquiring telco churn data\n",
    "\n",
    "telco_df = acquire.get_telco_data()"
   ]
  },
  {
   "cell_type": "code",
   "execution_count": 3,
   "id": "928304e0",
   "metadata": {},
   "outputs": [
    {
     "data": {
      "text/html": [
       "<div>\n",
       "<style scoped>\n",
       "    .dataframe tbody tr th:only-of-type {\n",
       "        vertical-align: middle;\n",
       "    }\n",
       "\n",
       "    .dataframe tbody tr th {\n",
       "        vertical-align: top;\n",
       "    }\n",
       "\n",
       "    .dataframe thead th {\n",
       "        text-align: right;\n",
       "    }\n",
       "</style>\n",
       "<table border=\"1\" class=\"dataframe\">\n",
       "  <thead>\n",
       "    <tr style=\"text-align: right;\">\n",
       "      <th></th>\n",
       "      <th>internet_service_type_id</th>\n",
       "      <th>contract_type_id</th>\n",
       "      <th>customer_id</th>\n",
       "      <th>gender</th>\n",
       "      <th>senior_citizen</th>\n",
       "      <th>partner</th>\n",
       "      <th>dependents</th>\n",
       "      <th>tenure</th>\n",
       "      <th>phone_service</th>\n",
       "      <th>multiple_lines</th>\n",
       "      <th>...</th>\n",
       "      <th>tech_support</th>\n",
       "      <th>streaming_tv</th>\n",
       "      <th>streaming_movies</th>\n",
       "      <th>paperless_billing</th>\n",
       "      <th>monthly_charges</th>\n",
       "      <th>total_charges</th>\n",
       "      <th>churn</th>\n",
       "      <th>contract_type</th>\n",
       "      <th>internet_service_type</th>\n",
       "      <th>payment_type</th>\n",
       "    </tr>\n",
       "    <tr>\n",
       "      <th>payment_type_id</th>\n",
       "      <th></th>\n",
       "      <th></th>\n",
       "      <th></th>\n",
       "      <th></th>\n",
       "      <th></th>\n",
       "      <th></th>\n",
       "      <th></th>\n",
       "      <th></th>\n",
       "      <th></th>\n",
       "      <th></th>\n",
       "      <th></th>\n",
       "      <th></th>\n",
       "      <th></th>\n",
       "      <th></th>\n",
       "      <th></th>\n",
       "      <th></th>\n",
       "      <th></th>\n",
       "      <th></th>\n",
       "      <th></th>\n",
       "      <th></th>\n",
       "      <th></th>\n",
       "    </tr>\n",
       "  </thead>\n",
       "  <tbody>\n",
       "    <tr>\n",
       "      <th>2</th>\n",
       "      <td>1</td>\n",
       "      <td>2</td>\n",
       "      <td>0002-ORFBO</td>\n",
       "      <td>Female</td>\n",
       "      <td>0</td>\n",
       "      <td>Yes</td>\n",
       "      <td>Yes</td>\n",
       "      <td>9</td>\n",
       "      <td>Yes</td>\n",
       "      <td>No</td>\n",
       "      <td>...</td>\n",
       "      <td>Yes</td>\n",
       "      <td>Yes</td>\n",
       "      <td>No</td>\n",
       "      <td>Yes</td>\n",
       "      <td>65.6</td>\n",
       "      <td>593.3</td>\n",
       "      <td>No</td>\n",
       "      <td>One year</td>\n",
       "      <td>DSL</td>\n",
       "      <td>Mailed check</td>\n",
       "    </tr>\n",
       "    <tr>\n",
       "      <th>2</th>\n",
       "      <td>1</td>\n",
       "      <td>1</td>\n",
       "      <td>0003-MKNFE</td>\n",
       "      <td>Male</td>\n",
       "      <td>0</td>\n",
       "      <td>No</td>\n",
       "      <td>No</td>\n",
       "      <td>9</td>\n",
       "      <td>Yes</td>\n",
       "      <td>Yes</td>\n",
       "      <td>...</td>\n",
       "      <td>No</td>\n",
       "      <td>No</td>\n",
       "      <td>Yes</td>\n",
       "      <td>No</td>\n",
       "      <td>59.9</td>\n",
       "      <td>542.4</td>\n",
       "      <td>No</td>\n",
       "      <td>Month-to-month</td>\n",
       "      <td>DSL</td>\n",
       "      <td>Mailed check</td>\n",
       "    </tr>\n",
       "    <tr>\n",
       "      <th>1</th>\n",
       "      <td>2</td>\n",
       "      <td>1</td>\n",
       "      <td>0004-TLHLJ</td>\n",
       "      <td>Male</td>\n",
       "      <td>0</td>\n",
       "      <td>No</td>\n",
       "      <td>No</td>\n",
       "      <td>4</td>\n",
       "      <td>Yes</td>\n",
       "      <td>No</td>\n",
       "      <td>...</td>\n",
       "      <td>No</td>\n",
       "      <td>No</td>\n",
       "      <td>No</td>\n",
       "      <td>Yes</td>\n",
       "      <td>73.9</td>\n",
       "      <td>280.85</td>\n",
       "      <td>Yes</td>\n",
       "      <td>Month-to-month</td>\n",
       "      <td>Fiber optic</td>\n",
       "      <td>Electronic check</td>\n",
       "    </tr>\n",
       "    <tr>\n",
       "      <th>1</th>\n",
       "      <td>2</td>\n",
       "      <td>1</td>\n",
       "      <td>0011-IGKFF</td>\n",
       "      <td>Male</td>\n",
       "      <td>1</td>\n",
       "      <td>Yes</td>\n",
       "      <td>No</td>\n",
       "      <td>13</td>\n",
       "      <td>Yes</td>\n",
       "      <td>No</td>\n",
       "      <td>...</td>\n",
       "      <td>No</td>\n",
       "      <td>Yes</td>\n",
       "      <td>Yes</td>\n",
       "      <td>Yes</td>\n",
       "      <td>98.0</td>\n",
       "      <td>1237.85</td>\n",
       "      <td>Yes</td>\n",
       "      <td>Month-to-month</td>\n",
       "      <td>Fiber optic</td>\n",
       "      <td>Electronic check</td>\n",
       "    </tr>\n",
       "    <tr>\n",
       "      <th>2</th>\n",
       "      <td>2</td>\n",
       "      <td>1</td>\n",
       "      <td>0013-EXCHZ</td>\n",
       "      <td>Female</td>\n",
       "      <td>1</td>\n",
       "      <td>Yes</td>\n",
       "      <td>No</td>\n",
       "      <td>3</td>\n",
       "      <td>Yes</td>\n",
       "      <td>No</td>\n",
       "      <td>...</td>\n",
       "      <td>Yes</td>\n",
       "      <td>Yes</td>\n",
       "      <td>No</td>\n",
       "      <td>Yes</td>\n",
       "      <td>83.9</td>\n",
       "      <td>267.4</td>\n",
       "      <td>Yes</td>\n",
       "      <td>Month-to-month</td>\n",
       "      <td>Fiber optic</td>\n",
       "      <td>Mailed check</td>\n",
       "    </tr>\n",
       "  </tbody>\n",
       "</table>\n",
       "<p>5 rows × 23 columns</p>\n",
       "</div>"
      ],
      "text/plain": [
       "                 internet_service_type_id  contract_type_id customer_id  \\\n",
       "payment_type_id                                                           \n",
       "2                                       1                 2  0002-ORFBO   \n",
       "2                                       1                 1  0003-MKNFE   \n",
       "1                                       2                 1  0004-TLHLJ   \n",
       "1                                       2                 1  0011-IGKFF   \n",
       "2                                       2                 1  0013-EXCHZ   \n",
       "\n",
       "                 gender  senior_citizen partner dependents  tenure  \\\n",
       "payment_type_id                                                      \n",
       "2                Female               0     Yes        Yes       9   \n",
       "2                  Male               0      No         No       9   \n",
       "1                  Male               0      No         No       4   \n",
       "1                  Male               1     Yes         No      13   \n",
       "2                Female               1     Yes         No       3   \n",
       "\n",
       "                phone_service multiple_lines  ... tech_support streaming_tv  \\\n",
       "payment_type_id                               ...                             \n",
       "2                         Yes             No  ...          Yes          Yes   \n",
       "2                         Yes            Yes  ...           No           No   \n",
       "1                         Yes             No  ...           No           No   \n",
       "1                         Yes             No  ...           No          Yes   \n",
       "2                         Yes             No  ...          Yes          Yes   \n",
       "\n",
       "                streaming_movies paperless_billing monthly_charges  \\\n",
       "payment_type_id                                                      \n",
       "2                             No               Yes            65.6   \n",
       "2                            Yes                No            59.9   \n",
       "1                             No               Yes            73.9   \n",
       "1                            Yes               Yes            98.0   \n",
       "2                             No               Yes            83.9   \n",
       "\n",
       "                total_charges churn   contract_type internet_service_type  \\\n",
       "payment_type_id                                                             \n",
       "2                       593.3    No        One year                   DSL   \n",
       "2                       542.4    No  Month-to-month                   DSL   \n",
       "1                      280.85   Yes  Month-to-month           Fiber optic   \n",
       "1                     1237.85   Yes  Month-to-month           Fiber optic   \n",
       "2                       267.4   Yes  Month-to-month           Fiber optic   \n",
       "\n",
       "                     payment_type  \n",
       "payment_type_id                    \n",
       "2                    Mailed check  \n",
       "2                    Mailed check  \n",
       "1                Electronic check  \n",
       "1                Electronic check  \n",
       "2                    Mailed check  \n",
       "\n",
       "[5 rows x 23 columns]"
      ]
     },
     "execution_count": 3,
     "metadata": {},
     "output_type": "execute_result"
    }
   ],
   "source": [
    "telco_df.head()"
   ]
  },
  {
   "cell_type": "code",
   "execution_count": 4,
   "id": "317b2772",
   "metadata": {},
   "outputs": [],
   "source": [
    "# Reset Index so that payment_type_id is not the index\n",
    "telco_df = telco_df.reset_index()\n"
   ]
  },
  {
   "cell_type": "code",
   "execution_count": 5,
   "id": "05fda761",
   "metadata": {},
   "outputs": [],
   "source": [
    "# prepare telco_df\n",
    "telco_df = prepare.prep_telco(telco_df)"
   ]
  },
  {
   "cell_type": "code",
   "execution_count": 6,
   "id": "c36ec8e8",
   "metadata": {},
   "outputs": [
    {
     "data": {
      "text/html": [
       "<div>\n",
       "<style scoped>\n",
       "    .dataframe tbody tr th:only-of-type {\n",
       "        vertical-align: middle;\n",
       "    }\n",
       "\n",
       "    .dataframe tbody tr th {\n",
       "        vertical-align: top;\n",
       "    }\n",
       "\n",
       "    .dataframe thead th {\n",
       "        text-align: right;\n",
       "    }\n",
       "</style>\n",
       "<table border=\"1\" class=\"dataframe\">\n",
       "  <thead>\n",
       "    <tr style=\"text-align: right;\">\n",
       "      <th></th>\n",
       "      <th>index</th>\n",
       "      <th>customer_id</th>\n",
       "      <th>gender</th>\n",
       "      <th>senior_citizen</th>\n",
       "      <th>partner</th>\n",
       "      <th>dependents</th>\n",
       "      <th>tenure</th>\n",
       "      <th>phone_service</th>\n",
       "      <th>multiple_lines</th>\n",
       "      <th>online_security</th>\n",
       "      <th>...</th>\n",
       "      <th>multiple_lines_no</th>\n",
       "      <th>multiple_lines_no phone service</th>\n",
       "      <th>multiple_lines_yes</th>\n",
       "      <th>online_security_no</th>\n",
       "      <th>online_security_no internet service</th>\n",
       "      <th>online_security_yes_internet</th>\n",
       "      <th>contract_type_month-to-month</th>\n",
       "      <th>contract_type_one year</th>\n",
       "      <th>contract_type_two year</th>\n",
       "      <th>churn_numeric</th>\n",
       "    </tr>\n",
       "  </thead>\n",
       "  <tbody>\n",
       "    <tr>\n",
       "      <th>0</th>\n",
       "      <td>0</td>\n",
       "      <td>0002-ORFBO</td>\n",
       "      <td>Female</td>\n",
       "      <td>0</td>\n",
       "      <td>Yes</td>\n",
       "      <td>Yes</td>\n",
       "      <td>9</td>\n",
       "      <td>Yes</td>\n",
       "      <td>No</td>\n",
       "      <td>No</td>\n",
       "      <td>...</td>\n",
       "      <td>1</td>\n",
       "      <td>0</td>\n",
       "      <td>0</td>\n",
       "      <td>1</td>\n",
       "      <td>0</td>\n",
       "      <td>0</td>\n",
       "      <td>0</td>\n",
       "      <td>1</td>\n",
       "      <td>0</td>\n",
       "      <td>0</td>\n",
       "    </tr>\n",
       "    <tr>\n",
       "      <th>1</th>\n",
       "      <td>1</td>\n",
       "      <td>0003-MKNFE</td>\n",
       "      <td>Male</td>\n",
       "      <td>0</td>\n",
       "      <td>No</td>\n",
       "      <td>No</td>\n",
       "      <td>9</td>\n",
       "      <td>Yes</td>\n",
       "      <td>Yes</td>\n",
       "      <td>No</td>\n",
       "      <td>...</td>\n",
       "      <td>0</td>\n",
       "      <td>0</td>\n",
       "      <td>1</td>\n",
       "      <td>1</td>\n",
       "      <td>0</td>\n",
       "      <td>0</td>\n",
       "      <td>1</td>\n",
       "      <td>0</td>\n",
       "      <td>0</td>\n",
       "      <td>0</td>\n",
       "    </tr>\n",
       "    <tr>\n",
       "      <th>2</th>\n",
       "      <td>2</td>\n",
       "      <td>0004-TLHLJ</td>\n",
       "      <td>Male</td>\n",
       "      <td>0</td>\n",
       "      <td>No</td>\n",
       "      <td>No</td>\n",
       "      <td>4</td>\n",
       "      <td>Yes</td>\n",
       "      <td>No</td>\n",
       "      <td>No</td>\n",
       "      <td>...</td>\n",
       "      <td>1</td>\n",
       "      <td>0</td>\n",
       "      <td>0</td>\n",
       "      <td>1</td>\n",
       "      <td>0</td>\n",
       "      <td>0</td>\n",
       "      <td>1</td>\n",
       "      <td>0</td>\n",
       "      <td>0</td>\n",
       "      <td>1</td>\n",
       "    </tr>\n",
       "    <tr>\n",
       "      <th>3</th>\n",
       "      <td>3</td>\n",
       "      <td>0011-IGKFF</td>\n",
       "      <td>Male</td>\n",
       "      <td>1</td>\n",
       "      <td>Yes</td>\n",
       "      <td>No</td>\n",
       "      <td>13</td>\n",
       "      <td>Yes</td>\n",
       "      <td>No</td>\n",
       "      <td>No</td>\n",
       "      <td>...</td>\n",
       "      <td>1</td>\n",
       "      <td>0</td>\n",
       "      <td>0</td>\n",
       "      <td>1</td>\n",
       "      <td>0</td>\n",
       "      <td>0</td>\n",
       "      <td>1</td>\n",
       "      <td>0</td>\n",
       "      <td>0</td>\n",
       "      <td>1</td>\n",
       "    </tr>\n",
       "    <tr>\n",
       "      <th>4</th>\n",
       "      <td>4</td>\n",
       "      <td>0013-EXCHZ</td>\n",
       "      <td>Female</td>\n",
       "      <td>1</td>\n",
       "      <td>Yes</td>\n",
       "      <td>No</td>\n",
       "      <td>3</td>\n",
       "      <td>Yes</td>\n",
       "      <td>No</td>\n",
       "      <td>No</td>\n",
       "      <td>...</td>\n",
       "      <td>1</td>\n",
       "      <td>0</td>\n",
       "      <td>0</td>\n",
       "      <td>1</td>\n",
       "      <td>0</td>\n",
       "      <td>0</td>\n",
       "      <td>1</td>\n",
       "      <td>0</td>\n",
       "      <td>0</td>\n",
       "      <td>1</td>\n",
       "    </tr>\n",
       "  </tbody>\n",
       "</table>\n",
       "<p>5 rows × 34 columns</p>\n",
       "</div>"
      ],
      "text/plain": [
       "   index customer_id  gender  senior_citizen partner dependents  tenure  \\\n",
       "0      0  0002-ORFBO  Female               0     Yes        Yes       9   \n",
       "1      1  0003-MKNFE    Male               0      No         No       9   \n",
       "2      2  0004-TLHLJ    Male               0      No         No       4   \n",
       "3      3  0011-IGKFF    Male               1     Yes         No      13   \n",
       "4      4  0013-EXCHZ  Female               1     Yes         No       3   \n",
       "\n",
       "  phone_service multiple_lines online_security  ... multiple_lines_no  \\\n",
       "0           Yes             No              No  ...                 1   \n",
       "1           Yes            Yes              No  ...                 0   \n",
       "2           Yes             No              No  ...                 1   \n",
       "3           Yes             No              No  ...                 1   \n",
       "4           Yes             No              No  ...                 1   \n",
       "\n",
       "  multiple_lines_no phone service multiple_lines_yes online_security_no  \\\n",
       "0                               0                  0                  1   \n",
       "1                               0                  1                  1   \n",
       "2                               0                  0                  1   \n",
       "3                               0                  0                  1   \n",
       "4                               0                  0                  1   \n",
       "\n",
       "  online_security_no internet service online_security_yes_internet  \\\n",
       "0                                   0                            0   \n",
       "1                                   0                            0   \n",
       "2                                   0                            0   \n",
       "3                                   0                            0   \n",
       "4                                   0                            0   \n",
       "\n",
       "   contract_type_month-to-month contract_type_one year contract_type_two year  \\\n",
       "0                             0                      1                      0   \n",
       "1                             1                      0                      0   \n",
       "2                             1                      0                      0   \n",
       "3                             1                      0                      0   \n",
       "4                             1                      0                      0   \n",
       "\n",
       "  churn_numeric  \n",
       "0             0  \n",
       "1             0  \n",
       "2             1  \n",
       "3             1  \n",
       "4             1  \n",
       "\n",
       "[5 rows x 34 columns]"
      ]
     },
     "execution_count": 6,
     "metadata": {},
     "output_type": "execute_result"
    }
   ],
   "source": [
    "# telco df\n",
    "telco_df.head()"
   ]
  },
  {
   "cell_type": "code",
   "execution_count": 7,
   "id": "ba476970",
   "metadata": {},
   "outputs": [
    {
     "data": {
      "text/plain": [
       "No                     3498\n",
       "Yes                    2019\n",
       "No internet service    1526\n",
       "Name: online_security, dtype: int64"
      ]
     },
     "execution_count": 7,
     "metadata": {},
     "output_type": "execute_result"
    }
   ],
   "source": [
    "# Value counts for online security. Will remove No internet service before pulling dummies\n",
    "telco_df.online_security.value_counts()"
   ]
  },
  {
   "cell_type": "code",
   "execution_count": 8,
   "id": "1f62e102",
   "metadata": {},
   "outputs": [
    {
     "data": {
      "text/html": [
       "<div>\n",
       "<style scoped>\n",
       "    .dataframe tbody tr th:only-of-type {\n",
       "        vertical-align: middle;\n",
       "    }\n",
       "\n",
       "    .dataframe tbody tr th {\n",
       "        vertical-align: top;\n",
       "    }\n",
       "\n",
       "    .dataframe thead th {\n",
       "        text-align: right;\n",
       "    }\n",
       "</style>\n",
       "<table border=\"1\" class=\"dataframe\">\n",
       "  <thead>\n",
       "    <tr style=\"text-align: right;\">\n",
       "      <th></th>\n",
       "      <th>index</th>\n",
       "      <th>customer_id</th>\n",
       "      <th>gender</th>\n",
       "      <th>senior_citizen</th>\n",
       "      <th>partner</th>\n",
       "      <th>dependents</th>\n",
       "      <th>tenure</th>\n",
       "      <th>phone_service</th>\n",
       "      <th>multiple_lines</th>\n",
       "      <th>online_security</th>\n",
       "      <th>...</th>\n",
       "      <th>multiple_lines_no</th>\n",
       "      <th>multiple_lines_no phone service</th>\n",
       "      <th>multiple_lines_yes</th>\n",
       "      <th>online_security_no</th>\n",
       "      <th>online_security_no internet service</th>\n",
       "      <th>online_security_yes_internet</th>\n",
       "      <th>contract_type_month-to-month</th>\n",
       "      <th>contract_type_one year</th>\n",
       "      <th>contract_type_two year</th>\n",
       "      <th>churn_numeric</th>\n",
       "    </tr>\n",
       "  </thead>\n",
       "  <tbody>\n",
       "    <tr>\n",
       "      <th>0</th>\n",
       "      <td>0</td>\n",
       "      <td>0002-ORFBO</td>\n",
       "      <td>Female</td>\n",
       "      <td>0</td>\n",
       "      <td>Yes</td>\n",
       "      <td>Yes</td>\n",
       "      <td>9</td>\n",
       "      <td>Yes</td>\n",
       "      <td>No</td>\n",
       "      <td>No</td>\n",
       "      <td>...</td>\n",
       "      <td>1</td>\n",
       "      <td>0</td>\n",
       "      <td>0</td>\n",
       "      <td>1</td>\n",
       "      <td>0</td>\n",
       "      <td>0</td>\n",
       "      <td>0</td>\n",
       "      <td>1</td>\n",
       "      <td>0</td>\n",
       "      <td>0</td>\n",
       "    </tr>\n",
       "    <tr>\n",
       "      <th>1</th>\n",
       "      <td>1</td>\n",
       "      <td>0003-MKNFE</td>\n",
       "      <td>Male</td>\n",
       "      <td>0</td>\n",
       "      <td>No</td>\n",
       "      <td>No</td>\n",
       "      <td>9</td>\n",
       "      <td>Yes</td>\n",
       "      <td>Yes</td>\n",
       "      <td>No</td>\n",
       "      <td>...</td>\n",
       "      <td>0</td>\n",
       "      <td>0</td>\n",
       "      <td>1</td>\n",
       "      <td>1</td>\n",
       "      <td>0</td>\n",
       "      <td>0</td>\n",
       "      <td>1</td>\n",
       "      <td>0</td>\n",
       "      <td>0</td>\n",
       "      <td>0</td>\n",
       "    </tr>\n",
       "    <tr>\n",
       "      <th>2</th>\n",
       "      <td>2</td>\n",
       "      <td>0004-TLHLJ</td>\n",
       "      <td>Male</td>\n",
       "      <td>0</td>\n",
       "      <td>No</td>\n",
       "      <td>No</td>\n",
       "      <td>4</td>\n",
       "      <td>Yes</td>\n",
       "      <td>No</td>\n",
       "      <td>No</td>\n",
       "      <td>...</td>\n",
       "      <td>1</td>\n",
       "      <td>0</td>\n",
       "      <td>0</td>\n",
       "      <td>1</td>\n",
       "      <td>0</td>\n",
       "      <td>0</td>\n",
       "      <td>1</td>\n",
       "      <td>0</td>\n",
       "      <td>0</td>\n",
       "      <td>1</td>\n",
       "    </tr>\n",
       "  </tbody>\n",
       "</table>\n",
       "<p>3 rows × 34 columns</p>\n",
       "</div>"
      ],
      "text/plain": [
       "   index customer_id  gender  senior_citizen partner dependents  tenure  \\\n",
       "0      0  0002-ORFBO  Female               0     Yes        Yes       9   \n",
       "1      1  0003-MKNFE    Male               0      No         No       9   \n",
       "2      2  0004-TLHLJ    Male               0      No         No       4   \n",
       "\n",
       "  phone_service multiple_lines online_security  ... multiple_lines_no  \\\n",
       "0           Yes             No              No  ...                 1   \n",
       "1           Yes            Yes              No  ...                 0   \n",
       "2           Yes             No              No  ...                 1   \n",
       "\n",
       "  multiple_lines_no phone service multiple_lines_yes online_security_no  \\\n",
       "0                               0                  0                  1   \n",
       "1                               0                  1                  1   \n",
       "2                               0                  0                  1   \n",
       "\n",
       "  online_security_no internet service online_security_yes_internet  \\\n",
       "0                                   0                            0   \n",
       "1                                   0                            0   \n",
       "2                                   0                            0   \n",
       "\n",
       "   contract_type_month-to-month contract_type_one year contract_type_two year  \\\n",
       "0                             0                      1                      0   \n",
       "1                             1                      0                      0   \n",
       "2                             1                      0                      0   \n",
       "\n",
       "  churn_numeric  \n",
       "0             0  \n",
       "1             0  \n",
       "2             1  \n",
       "\n",
       "[3 rows x 34 columns]"
      ]
     },
     "execution_count": 8,
     "metadata": {},
     "output_type": "execute_result"
    }
   ],
   "source": [
    "telco_df.head(3)"
   ]
  },
  {
   "cell_type": "code",
   "execution_count": 9,
   "id": "9e7d6013",
   "metadata": {},
   "outputs": [],
   "source": [
    "# removing spaces from columns\n",
    "telco_df.columns = [c.replace(' ','_') for c in telco_df.columns]"
   ]
  },
  {
   "cell_type": "code",
   "execution_count": 10,
   "id": "a9fef4a5",
   "metadata": {},
   "outputs": [
    {
     "data": {
      "text/html": [
       "<div>\n",
       "<style scoped>\n",
       "    .dataframe tbody tr th:only-of-type {\n",
       "        vertical-align: middle;\n",
       "    }\n",
       "\n",
       "    .dataframe tbody tr th {\n",
       "        vertical-align: top;\n",
       "    }\n",
       "\n",
       "    .dataframe thead th {\n",
       "        text-align: right;\n",
       "    }\n",
       "</style>\n",
       "<table border=\"1\" class=\"dataframe\">\n",
       "  <thead>\n",
       "    <tr style=\"text-align: right;\">\n",
       "      <th></th>\n",
       "      <th>index</th>\n",
       "      <th>customer_id</th>\n",
       "      <th>gender</th>\n",
       "      <th>senior_citizen</th>\n",
       "      <th>partner</th>\n",
       "      <th>dependents</th>\n",
       "      <th>tenure</th>\n",
       "      <th>phone_service</th>\n",
       "      <th>multiple_lines</th>\n",
       "      <th>online_security</th>\n",
       "      <th>...</th>\n",
       "      <th>multiple_lines_no</th>\n",
       "      <th>multiple_lines_no_phone_service</th>\n",
       "      <th>multiple_lines_yes</th>\n",
       "      <th>online_security_no</th>\n",
       "      <th>online_security_no_internet_service</th>\n",
       "      <th>online_security_yes_internet</th>\n",
       "      <th>contract_type_month-to-month</th>\n",
       "      <th>contract_type_one_year</th>\n",
       "      <th>contract_type_two_year</th>\n",
       "      <th>churn_numeric</th>\n",
       "    </tr>\n",
       "  </thead>\n",
       "  <tbody>\n",
       "    <tr>\n",
       "      <th>0</th>\n",
       "      <td>0</td>\n",
       "      <td>0002-ORFBO</td>\n",
       "      <td>Female</td>\n",
       "      <td>0</td>\n",
       "      <td>Yes</td>\n",
       "      <td>Yes</td>\n",
       "      <td>9</td>\n",
       "      <td>Yes</td>\n",
       "      <td>No</td>\n",
       "      <td>No</td>\n",
       "      <td>...</td>\n",
       "      <td>1</td>\n",
       "      <td>0</td>\n",
       "      <td>0</td>\n",
       "      <td>1</td>\n",
       "      <td>0</td>\n",
       "      <td>0</td>\n",
       "      <td>0</td>\n",
       "      <td>1</td>\n",
       "      <td>0</td>\n",
       "      <td>0</td>\n",
       "    </tr>\n",
       "    <tr>\n",
       "      <th>1</th>\n",
       "      <td>1</td>\n",
       "      <td>0003-MKNFE</td>\n",
       "      <td>Male</td>\n",
       "      <td>0</td>\n",
       "      <td>No</td>\n",
       "      <td>No</td>\n",
       "      <td>9</td>\n",
       "      <td>Yes</td>\n",
       "      <td>Yes</td>\n",
       "      <td>No</td>\n",
       "      <td>...</td>\n",
       "      <td>0</td>\n",
       "      <td>0</td>\n",
       "      <td>1</td>\n",
       "      <td>1</td>\n",
       "      <td>0</td>\n",
       "      <td>0</td>\n",
       "      <td>1</td>\n",
       "      <td>0</td>\n",
       "      <td>0</td>\n",
       "      <td>0</td>\n",
       "    </tr>\n",
       "  </tbody>\n",
       "</table>\n",
       "<p>2 rows × 34 columns</p>\n",
       "</div>"
      ],
      "text/plain": [
       "   index customer_id  gender  senior_citizen partner dependents  tenure  \\\n",
       "0      0  0002-ORFBO  Female               0     Yes        Yes       9   \n",
       "1      1  0003-MKNFE    Male               0      No         No       9   \n",
       "\n",
       "  phone_service multiple_lines online_security  ... multiple_lines_no  \\\n",
       "0           Yes             No              No  ...                 1   \n",
       "1           Yes            Yes              No  ...                 0   \n",
       "\n",
       "  multiple_lines_no_phone_service multiple_lines_yes online_security_no  \\\n",
       "0                               0                  0                  1   \n",
       "1                               0                  1                  1   \n",
       "\n",
       "  online_security_no_internet_service online_security_yes_internet  \\\n",
       "0                                   0                            0   \n",
       "1                                   0                            0   \n",
       "\n",
       "   contract_type_month-to-month contract_type_one_year contract_type_two_year  \\\n",
       "0                             0                      1                      0   \n",
       "1                             1                      0                      0   \n",
       "\n",
       "  churn_numeric  \n",
       "0             0  \n",
       "1             0  \n",
       "\n",
       "[2 rows x 34 columns]"
      ]
     },
     "execution_count": 10,
     "metadata": {},
     "output_type": "execute_result"
    }
   ],
   "source": [
    "telco_df.head(2)"
   ]
  },
  {
   "cell_type": "code",
   "execution_count": 11,
   "id": "417dfced",
   "metadata": {},
   "outputs": [
    {
     "name": "stdout",
     "output_type": "stream",
     "text": [
      "<class 'pandas.core.frame.DataFrame'>\n",
      "Int64Index: 7043 entries, 0 to 7042\n",
      "Data columns (total 34 columns):\n",
      " #   Column                               Non-Null Count  Dtype  \n",
      "---  ------                               --------------  -----  \n",
      " 0   index                                7043 non-null   int64  \n",
      " 1   customer_id                          7043 non-null   object \n",
      " 2   gender                               7043 non-null   object \n",
      " 3   senior_citizen                       7043 non-null   int64  \n",
      " 4   partner                              7043 non-null   object \n",
      " 5   dependents                           7043 non-null   object \n",
      " 6   tenure                               7043 non-null   int64  \n",
      " 7   phone_service                        7043 non-null   object \n",
      " 8   multiple_lines                       7043 non-null   object \n",
      " 9   online_security                      7043 non-null   object \n",
      " 10  online_backup                        7043 non-null   object \n",
      " 11  device_protection                    7043 non-null   object \n",
      " 12  tech_support                         7043 non-null   object \n",
      " 13  streaming_tv                         7043 non-null   object \n",
      " 14  streaming_movies                     7043 non-null   object \n",
      " 15  paperless_billing                    7043 non-null   object \n",
      " 16  monthly_charges                      7043 non-null   float64\n",
      " 17  total_charges                        7043 non-null   object \n",
      " 18  churn                                7043 non-null   object \n",
      " 19  contract_type                        7043 non-null   object \n",
      " 20  internet_service_type                7043 non-null   object \n",
      " 21  payment_type                         7043 non-null   object \n",
      " 22  dependents_no                        7043 non-null   uint8  \n",
      " 23  dependents_yes                       7043 non-null   uint8  \n",
      " 24  multiple_lines_no                    7043 non-null   uint8  \n",
      " 25  multiple_lines_no_phone_service      7043 non-null   uint8  \n",
      " 26  multiple_lines_yes                   7043 non-null   uint8  \n",
      " 27  online_security_no                   7043 non-null   uint8  \n",
      " 28  online_security_no_internet_service  7043 non-null   uint8  \n",
      " 29  online_security_yes_internet         7043 non-null   uint8  \n",
      " 30  contract_type_month-to-month         7043 non-null   uint8  \n",
      " 31  contract_type_one_year               7043 non-null   uint8  \n",
      " 32  contract_type_two_year               7043 non-null   uint8  \n",
      " 33  churn_numeric                        7043 non-null   int64  \n",
      "dtypes: float64(1), int64(4), object(18), uint8(11)\n",
      "memory usage: 1.4+ MB\n"
     ]
    }
   ],
   "source": [
    "# telco_df info. Checking column names\n",
    "telco_df.info()"
   ]
  },
  {
   "cell_type": "code",
   "execution_count": 12,
   "id": "70974ee7",
   "metadata": {},
   "outputs": [],
   "source": [
    "# Splitting data. random state=123\n",
    "train, validate, test = prepare.split_data(df=telco_df, target='churn')"
   ]
  },
  {
   "cell_type": "code",
   "execution_count": 13,
   "id": "957c4370",
   "metadata": {},
   "outputs": [
    {
     "data": {
      "text/plain": [
       "((3943, 34), (1691, 34), (1409, 34))"
      ]
     },
     "execution_count": 13,
     "metadata": {},
     "output_type": "execute_result"
    }
   ],
   "source": [
    "train.shape, validate.shape, test.shape"
   ]
  },
  {
   "cell_type": "markdown",
   "id": "fb8e186c",
   "metadata": {},
   "source": [
    "## Q1. Are month-to-month contracts churning faster than 1yr and 2yr contracts?"
   ]
  },
  {
   "cell_type": "markdown",
   "id": "1507304f",
   "metadata": {},
   "source": [
    "### Visuals for Contracts vs Churn"
   ]
  },
  {
   "cell_type": "code",
   "execution_count": 14,
   "id": "54674fed",
   "metadata": {},
   "outputs": [
    {
     "data": {
      "text/plain": [
       "<matplotlib.legend.Legend at 0x14fd10d90>"
      ]
     },
     "execution_count": 14,
     "metadata": {},
     "output_type": "execute_result"
    },
    {
     "data": {
      "image/png": "[encoded data removed]",
      "text/plain": [
       "<Figure size 640x480 with 1 Axes>"
      ]
     },
     "metadata": {},
     "output_type": "display_data"
    }
   ],
   "source": [
    "sns.countplot(x='contract_type', hue='churn', data=train)\n",
    "plt.xlabel('Contract Type')\n",
    "plt.ylabel('Count')\n",
    "plt.legend(['Did not churn', 'Churned'])"
   ]
  },
  {
   "cell_type": "markdown",
   "id": "c9530ed9",
   "metadata": {},
   "source": [
    "### Crosstabs for Contracts vs. Churn"
   ]
  },
  {
   "cell_type": "code",
   "execution_count": 15,
   "id": "f323e0e0",
   "metadata": {},
   "outputs": [],
   "source": [
    "# Variables for contract lengths \n",
    "month = train['contract_type']== 'Month-to-month'\n",
    "oneyear = train['contract_type']== 'One year'\n",
    "twoyear = train['contract_type']== 'Two year'"
   ]
  },
  {
   "cell_type": "code",
   "execution_count": 16,
   "id": "fbaab9c7",
   "metadata": {},
   "outputs": [],
   "source": [
    "# variable for churn\n",
    "churn = train['churn']"
   ]
  },
  {
   "cell_type": "code",
   "execution_count": 17,
   "id": "559b7fbb",
   "metadata": {},
   "outputs": [
    {
     "data": {
      "text/html": [
       "<div>\n",
       "<style scoped>\n",
       "    .dataframe tbody tr th:only-of-type {\n",
       "        vertical-align: middle;\n",
       "    }\n",
       "\n",
       "    .dataframe tbody tr th {\n",
       "        vertical-align: top;\n",
       "    }\n",
       "\n",
       "    .dataframe thead th {\n",
       "        text-align: right;\n",
       "    }\n",
       "</style>\n",
       "<table border=\"1\" class=\"dataframe\">\n",
       "  <thead>\n",
       "    <tr style=\"text-align: right;\">\n",
       "      <th>month-to-month</th>\n",
       "      <th>False</th>\n",
       "      <th>True</th>\n",
       "    </tr>\n",
       "    <tr>\n",
       "      <th>churn</th>\n",
       "      <th></th>\n",
       "      <th></th>\n",
       "    </tr>\n",
       "  </thead>\n",
       "  <tbody>\n",
       "    <tr>\n",
       "      <th>No</th>\n",
       "      <td>1648</td>\n",
       "      <td>1249</td>\n",
       "    </tr>\n",
       "    <tr>\n",
       "      <th>Yes</th>\n",
       "      <td>125</td>\n",
       "      <td>921</td>\n",
       "    </tr>\n",
       "  </tbody>\n",
       "</table>\n",
       "</div>"
      ],
      "text/plain": [
       "month-to-month  False  True\n",
       "churn                      \n",
       "No               1648  1249\n",
       "Yes               125   921"
      ]
     },
     "execution_count": 17,
     "metadata": {},
     "output_type": "execute_result"
    }
   ],
   "source": [
    "# Crosstab for Mtm churn\n",
    "mtm_ct = pd.crosstab(churn, month, colnames=['month-to-month'])\n",
    "mtm_ct"
   ]
  },
  {
   "cell_type": "code",
   "execution_count": 18,
   "id": "7113c7f7",
   "metadata": {},
   "outputs": [
    {
     "data": {
      "text/html": [
       "<div>\n",
       "<style scoped>\n",
       "    .dataframe tbody tr th:only-of-type {\n",
       "        vertical-align: middle;\n",
       "    }\n",
       "\n",
       "    .dataframe tbody tr th {\n",
       "        vertical-align: top;\n",
       "    }\n",
       "\n",
       "    .dataframe thead th {\n",
       "        text-align: right;\n",
       "    }\n",
       "</style>\n",
       "<table border=\"1\" class=\"dataframe\">\n",
       "  <thead>\n",
       "    <tr style=\"text-align: right;\">\n",
       "      <th>one_year</th>\n",
       "      <th>False</th>\n",
       "      <th>True</th>\n",
       "    </tr>\n",
       "    <tr>\n",
       "      <th>churn</th>\n",
       "      <th></th>\n",
       "      <th></th>\n",
       "    </tr>\n",
       "  </thead>\n",
       "  <tbody>\n",
       "    <tr>\n",
       "      <th>No</th>\n",
       "      <td>2144</td>\n",
       "      <td>753</td>\n",
       "    </tr>\n",
       "    <tr>\n",
       "      <th>Yes</th>\n",
       "      <td>950</td>\n",
       "      <td>96</td>\n",
       "    </tr>\n",
       "  </tbody>\n",
       "</table>\n",
       "</div>"
      ],
      "text/plain": [
       "one_year  False  True\n",
       "churn                \n",
       "No         2144   753\n",
       "Yes         950    96"
      ]
     },
     "execution_count": 18,
     "metadata": {},
     "output_type": "execute_result"
    }
   ],
   "source": [
    "# Crosstab for 1yr churn\n",
    "oneyear_ct = pd.crosstab(churn, oneyear, colnames=['one_year'])\n",
    "oneyear_ct"
   ]
  },
  {
   "cell_type": "code",
   "execution_count": 19,
   "id": "6ca974e0",
   "metadata": {},
   "outputs": [
    {
     "data": {
      "text/html": [
       "<div>\n",
       "<style scoped>\n",
       "    .dataframe tbody tr th:only-of-type {\n",
       "        vertical-align: middle;\n",
       "    }\n",
       "\n",
       "    .dataframe tbody tr th {\n",
       "        vertical-align: top;\n",
       "    }\n",
       "\n",
       "    .dataframe thead th {\n",
       "        text-align: right;\n",
       "    }\n",
       "</style>\n",
       "<table border=\"1\" class=\"dataframe\">\n",
       "  <thead>\n",
       "    <tr style=\"text-align: right;\">\n",
       "      <th>two_year</th>\n",
       "      <th>False</th>\n",
       "      <th>True</th>\n",
       "    </tr>\n",
       "    <tr>\n",
       "      <th>churn</th>\n",
       "      <th></th>\n",
       "      <th></th>\n",
       "    </tr>\n",
       "  </thead>\n",
       "  <tbody>\n",
       "    <tr>\n",
       "      <th>No</th>\n",
       "      <td>2002</td>\n",
       "      <td>895</td>\n",
       "    </tr>\n",
       "    <tr>\n",
       "      <th>Yes</th>\n",
       "      <td>1017</td>\n",
       "      <td>29</td>\n",
       "    </tr>\n",
       "  </tbody>\n",
       "</table>\n",
       "</div>"
      ],
      "text/plain": [
       "two_year  False  True\n",
       "churn                \n",
       "No         2002   895\n",
       "Yes        1017    29"
      ]
     },
     "execution_count": 19,
     "metadata": {},
     "output_type": "execute_result"
    }
   ],
   "source": [
    "# Crosstab for 2yr churn\n",
    "twoyear_ct = pd.crosstab(churn, twoyear, colnames=['two_year'])\n",
    "twoyear_ct"
   ]
  },
  {
   "cell_type": "markdown",
   "id": "d1bc2d84",
   "metadata": {},
   "source": [
    "### Stats Testing: Chi^2 test for Contract lenghts vs. Churn"
   ]
  },
  {
   "cell_type": "markdown",
   "id": "d6dcdedd",
   "metadata": {},
   "source": [
    "H0: There is not a significant difference of churn rate and length of contracts.\n",
    "\n",
    "Ha: There is a significant difference between churn rate and length of contracts.\n",
    "\n",
    "Confidence interval: 95%\n",
    "\n",
    "alpha = 0.05"
   ]
  },
  {
   "cell_type": "code",
   "execution_count": 20,
   "id": "12d987c8",
   "metadata": {},
   "outputs": [
    {
     "data": {
      "text/plain": [
       "(625.2758701470489, 5.32454352599958e-138)"
      ]
     },
     "execution_count": 20,
     "metadata": {},
     "output_type": "execute_result"
    }
   ],
   "source": [
    "# Mtm \n",
    "chi, p, degf, expected = stats.chi2_contingency(mtm_ct)\n",
    "chi, p"
   ]
  },
  {
   "cell_type": "code",
   "execution_count": 21,
   "id": "755327dc",
   "metadata": {},
   "outputs": [
    {
     "data": {
      "text/plain": [
       "(127.60978087886741, 1.3663034788444405e-29)"
      ]
     },
     "execution_count": 21,
     "metadata": {},
     "output_type": "execute_result"
    }
   ],
   "source": [
    "# 1yr\n",
    "chi, p, degf, expected = stats.chi2_contingency(oneyear_ct)\n",
    "chi, p"
   ]
  },
  {
   "cell_type": "code",
   "execution_count": 22,
   "id": "ef2183cb",
   "metadata": {},
   "outputs": [
    {
     "data": {
      "text/plain": [
       "(337.16221680297303, 2.6478708937714996e-75)"
      ]
     },
     "execution_count": 22,
     "metadata": {},
     "output_type": "execute_result"
    }
   ],
   "source": [
    "# 2yr\n",
    "chi, p, degf, expected = stats.chi2_contingency(twoyear_ct)\n",
    "chi, p"
   ]
  },
  {
   "cell_type": "markdown",
   "id": "0f1d4be0",
   "metadata": {},
   "source": [
    "<div class=\"alert alert-block alert-success\">\n",
    "<b> P-value is lower than 0.05 on all three Chi^2 tests, thus the null hypothesis on all three are rejected. <b>\n",
    "<br>There is a signifcant difference between monthly charges of month-to-month contracts and 1yr/2yr contracts. <br>\n",
    "    \n"
   ]
  },
  {
   "cell_type": "markdown",
   "id": "0ca30f5e",
   "metadata": {},
   "source": [
    "## Q2. Does having the online security add-on services affect churn rate? (add other add-on services after MVP)"
   ]
  },
  {
   "cell_type": "markdown",
   "id": "bdc06350",
   "metadata": {},
   "source": [
    "H0: There is no significant difference in churn rate when customers have the online security add-on services.\n",
    "\n",
    "Ha: There is a significant difference in churn rate when customers have the online security add-on services. \n",
    "\n",
    "Confidence interval = 95%\n",
    "\n",
    "alpha = 0.05"
   ]
  },
  {
   "cell_type": "code",
   "execution_count": 23,
   "id": "3d7a5740",
   "metadata": {},
   "outputs": [
    {
     "data": {
      "text/plain": [
       "<AxesSubplot:xlabel='online_security', ylabel='count'>"
      ]
     },
     "execution_count": 23,
     "metadata": {},
     "output_type": "execute_result"
    },
    {
     "data": {
      "image/png": "[encoded data removed]",
      "text/plain": [
       "<Figure size 640x480 with 1 Axes>"
      ]
     },
     "metadata": {},
     "output_type": "display_data"
    }
   ],
   "source": [
    "sns.countplot(x='online_security', hue='churn', data=train)"
   ]
  },
  {
   "cell_type": "code",
   "execution_count": 24,
   "id": "b6a099ce",
   "metadata": {},
   "outputs": [
    {
     "data": {
      "text/plain": [
       "No                     1946\n",
       "Yes                    1148\n",
       "No internet service     849\n",
       "Name: online_security, dtype: int64"
      ]
     },
     "execution_count": 24,
     "metadata": {},
     "output_type": "execute_result"
    }
   ],
   "source": [
    "# Do not want to include 'No Internet Service'. Will use a boolean mask to get rid of it for the Chi^2 test.\n",
    "train.online_security.value_counts()"
   ]
  },
  {
   "cell_type": "code",
   "execution_count": 25,
   "id": "8c2a3a57",
   "metadata": {},
   "outputs": [],
   "source": [
    "# Boolean Mask to remove 'No internet service'\n",
    "online_sec = train[train['online_security'] != 'No internet service']"
   ]
  },
  {
   "cell_type": "code",
   "execution_count": 26,
   "id": "972cc3e4",
   "metadata": {},
   "outputs": [],
   "source": [
    "# Crosstab\n",
    "online_sec_ct = pd.crosstab(online_sec['online_security'], online_sec['churn'])"
   ]
  },
  {
   "cell_type": "code",
   "execution_count": 27,
   "id": "d1c5bb5d",
   "metadata": {},
   "outputs": [
    {
     "data": {
      "text/plain": [
       "(216.94350424593094, 4.1985954375412895e-49)"
      ]
     },
     "execution_count": 27,
     "metadata": {},
     "output_type": "execute_result"
    }
   ],
   "source": [
    "# Chi^2 test for Online Security crosstab\n",
    "chi, p, degf, expected = stats.chi2_contingency(online_sec_ct)\n",
    "chi, p"
   ]
  },
  {
   "cell_type": "code",
   "execution_count": 28,
   "id": "0fbeb21f",
   "metadata": {},
   "outputs": [
    {
     "data": {
      "text/plain": [
       "<AxesSubplot:xlabel='online_security', ylabel='count'>"
      ]
     },
     "execution_count": 28,
     "metadata": {},
     "output_type": "execute_result"
    },
    {
     "data": {
      "image/png": "[encoded data removed]",
      "text/plain": [
       "<Figure size 640x480 with 1 Axes>"
      ]
     },
     "metadata": {},
     "output_type": "display_data"
    }
   ],
   "source": [
    "# Countplot with 'No internet service' removed\n",
    "sns.countplot(x=online_sec['online_security'], hue=online_sec['churn'], data= online_sec)"
   ]
  },
  {
   "cell_type": "markdown",
   "id": "6519847b",
   "metadata": {},
   "source": [
    "<div class=\"alert alert-block alert-success\">\n",
    "<b> P-value is lower than 0.05, thus the null hypothesis is rejected. <b>\n",
    "<br>There is a signifcant difference in churn rate when customers have online security service. <br>"
   ]
  },
  {
   "cell_type": "markdown",
   "id": "8e3d038c",
   "metadata": {},
   "source": [
    "## Q3. Does having multiple lines affect churn rate? \n",
    "***(multiple lines likely means more than one user is on the plan, maybe family, so I expect churn to be less since more people depend on the service)***"
   ]
  },
  {
   "cell_type": "markdown",
   "id": "fe136adb",
   "metadata": {},
   "source": [
    "H0: There is no signifcant difference in churn rate when customers have multiple lines.\n",
    "\n",
    "Ha: There is a significant difference in churn rate when customers have multiple lines.\n",
    "    \n",
    "Confidence interval = 95%abs\n",
    "\n",
    "alpha = 0.05"
   ]
  },
  {
   "cell_type": "code",
   "execution_count": 29,
   "id": "baaceffe",
   "metadata": {},
   "outputs": [
    {
     "data": {
      "text/plain": [
       "<AxesSubplot:xlabel='multiple_lines', ylabel='count'>"
      ]
     },
     "execution_count": 29,
     "metadata": {},
     "output_type": "execute_result"
    },
    {
     "data": {
      "image/png": "[encoded data removed]",
      "text/plain": [
       "<Figure size 640x480 with 1 Axes>"
      ]
     },
     "metadata": {},
     "output_type": "display_data"
    }
   ],
   "source": [
    "# Countplot for multiple lines. Has extra columnn 'No phone service'.\n",
    "sns.countplot(x='multiple_lines', hue='churn', data=train)"
   ]
  },
  {
   "cell_type": "code",
   "execution_count": 30,
   "id": "db87695a",
   "metadata": {},
   "outputs": [],
   "source": [
    "# Boolean Mask to remove 'No phone service'.\n",
    "mult_lines = train[train['multiple_lines'] != 'No phone service']"
   ]
  },
  {
   "cell_type": "code",
   "execution_count": 31,
   "id": "fce036e7",
   "metadata": {},
   "outputs": [
    {
     "data": {
      "text/plain": [
       "<AxesSubplot:xlabel='multiple_lines', ylabel='count'>"
      ]
     },
     "execution_count": 31,
     "metadata": {},
     "output_type": "execute_result"
    },
    {
     "data": {
      "image/png": "[encoded data removed]",
      "text/plain": [
       "<Figure size 640x480 with 1 Axes>"
      ]
     },
     "metadata": {},
     "output_type": "display_data"
    }
   ],
   "source": [
    "# Visual with Boolean Mask\n",
    "sns.countplot(x='multiple_lines', hue='churn', data=mult_lines)"
   ]
  },
  {
   "cell_type": "code",
   "execution_count": 32,
   "id": "1901bf0c",
   "metadata": {},
   "outputs": [
    {
     "data": {
      "text/html": [
       "<div>\n",
       "<style scoped>\n",
       "    .dataframe tbody tr th:only-of-type {\n",
       "        vertical-align: middle;\n",
       "    }\n",
       "\n",
       "    .dataframe tbody tr th {\n",
       "        vertical-align: top;\n",
       "    }\n",
       "\n",
       "    .dataframe thead th {\n",
       "        text-align: right;\n",
       "    }\n",
       "</style>\n",
       "<table border=\"1\" class=\"dataframe\">\n",
       "  <thead>\n",
       "    <tr style=\"text-align: right;\">\n",
       "      <th>churn</th>\n",
       "      <th>No</th>\n",
       "      <th>Yes</th>\n",
       "    </tr>\n",
       "    <tr>\n",
       "      <th>multiple_lines</th>\n",
       "      <th></th>\n",
       "      <th></th>\n",
       "    </tr>\n",
       "  </thead>\n",
       "  <tbody>\n",
       "    <tr>\n",
       "      <th>No</th>\n",
       "      <td>1406</td>\n",
       "      <td>475</td>\n",
       "    </tr>\n",
       "    <tr>\n",
       "      <th>Yes</th>\n",
       "      <td>1218</td>\n",
       "      <td>479</td>\n",
       "    </tr>\n",
       "  </tbody>\n",
       "</table>\n",
       "</div>"
      ],
      "text/plain": [
       "churn             No  Yes\n",
       "multiple_lines           \n",
       "No              1406  475\n",
       "Yes             1218  479"
      ]
     },
     "execution_count": 32,
     "metadata": {},
     "output_type": "execute_result"
    }
   ],
   "source": [
    "mult_lines_ct = pd.crosstab(mult_lines['multiple_lines'], mult_lines['churn'])\n",
    "mult_lines_ct"
   ]
  },
  {
   "cell_type": "code",
   "execution_count": 33,
   "id": "1248812d",
   "metadata": {},
   "outputs": [
    {
     "data": {
      "text/plain": [
       "(3.884036752625903, 0.048747217941123785)"
      ]
     },
     "execution_count": 33,
     "metadata": {},
     "output_type": "execute_result"
    }
   ],
   "source": [
    "chi, p, degf, expected = stats.chi2_contingency(mult_lines_ct)\n",
    "chi, p"
   ]
  },
  {
   "cell_type": "markdown",
   "id": "cd539c77",
   "metadata": {},
   "source": [
    "<div class=\"alert alert-block alert-success\">\n",
    "<b> P-value is lower than 0.05, thus the null hypothesis is rejected. <b>\n",
    "<br>There is a signifcant difference in churn rate when customers have multiple lines.<br>"
   ]
  },
  {
   "cell_type": "markdown",
   "id": "84d31dec",
   "metadata": {},
   "source": [
    "## Q4. Does having dependents affect churn rate?"
   ]
  },
  {
   "cell_type": "markdown",
   "id": "177acb91",
   "metadata": {},
   "source": [
    "H0: There is no significant difference in churn rate when customers have dependents.\n",
    "\n",
    "Ha: There is a significant difference in churn rate when customers have dependents.\n",
    "    \n",
    "Cofidence interval = 95%\n",
    "\n",
    "alpha = 0.05"
   ]
  },
  {
   "cell_type": "code",
   "execution_count": 34,
   "id": "d8f6c946",
   "metadata": {},
   "outputs": [
    {
     "data": {
      "text/plain": [
       "<AxesSubplot:xlabel='dependents', ylabel='count'>"
      ]
     },
     "execution_count": 34,
     "metadata": {},
     "output_type": "execute_result"
    },
    {
     "data": {
      "image/png": "[encoded data removed]",
      "text/plain": [
       "<Figure size 640x480 with 1 Axes>"
      ]
     },
     "metadata": {},
     "output_type": "display_data"
    }
   ],
   "source": [
    "# Countplot for dependents and churn rate (try to find a way to add percentage in this chart or use another viz.)\n",
    "sns.countplot(x='dependents', hue='churn', data=train)"
   ]
  },
  {
   "cell_type": "code",
   "execution_count": 35,
   "id": "d012da87",
   "metadata": {},
   "outputs": [],
   "source": [
    "deps_ct = pd.crosstab(train.dependents, train.churn)"
   ]
  },
  {
   "cell_type": "code",
   "execution_count": 36,
   "id": "55d9d0ad",
   "metadata": {},
   "outputs": [
    {
     "data": {
      "text/plain": [
       "(110.161868173847, 9.030713272299022e-26)"
      ]
     },
     "execution_count": 36,
     "metadata": {},
     "output_type": "execute_result"
    }
   ],
   "source": [
    "chi, p, degf, expected = stats.chi2_contingency(deps_ct)\n",
    "chi, p"
   ]
  },
  {
   "cell_type": "markdown",
   "id": "bf507fae",
   "metadata": {},
   "source": [
    "<div class=\"alert alert-block alert-success\">\n",
    "<b> P-value is lower than 0.05, thus the null hypothesis is rejected. <b>\n",
    "<br>There is a significant difference in churn rate when customers have dependents.<br>"
   ]
  },
  {
   "cell_type": "markdown",
   "id": "44079d96",
   "metadata": {},
   "source": [
    "## Machine Learning Models"
   ]
  },
  {
   "cell_type": "markdown",
   "id": "1d98e051",
   "metadata": {},
   "source": [
    "<b> Drivers I will be moving forward with: <b>\n",
    "\n",
    "<br>Month-to-month vs 1yr/ Month-to-month vs. 2yr<br>\n",
    "<br>Online Security add-on service<br>\n",
    "<br>Multiple lines<br>\n",
    "<br>Dependents<br>\n"
   ]
  },
  {
   "cell_type": "markdown",
   "id": "16cc5f7d",
   "metadata": {},
   "source": [
    "### Baseline Accuracy"
   ]
  },
  {
   "cell_type": "code",
   "execution_count": 37,
   "id": "6928fdd4",
   "metadata": {},
   "outputs": [],
   "source": [
    "# Baseline will be 'no' = 0 for churn\n",
    "baseline_df = train\n",
    "baseline_df['baseline'] = 0\n",
    "baseline_df['churn_numeric'] = train.churn.str.replace('No','0').str.replace('Yes','1').astype(int)"
   ]
  },
  {
   "cell_type": "code",
   "execution_count": 38,
   "id": "927aa75f",
   "metadata": {},
   "outputs": [
    {
     "data": {
      "text/plain": [
       "0.7347197565305605"
      ]
     },
     "execution_count": 38,
     "metadata": {},
     "output_type": "execute_result"
    }
   ],
   "source": [
    "# accuracy of baseline\n",
    "accuracy_score(baseline_df.churn_numeric, baseline_df.baseline)"
   ]
  },
  {
   "cell_type": "code",
   "execution_count": 39,
   "id": "d4749d54",
   "metadata": {},
   "outputs": [],
   "source": [
    "# Dropped baseline column\n",
    "train = train.drop(['baseline'], axis=1)"
   ]
  },
  {
   "cell_type": "markdown",
   "id": "c762ab55",
   "metadata": {},
   "source": [
    "<div class=\"alert alert-block alert-success\">\n",
    "<b> Baseline Accuracy = 73.5% <b>\n"
   ]
  },
  {
   "cell_type": "code",
   "execution_count": 40,
   "id": "5daf56d4",
   "metadata": {},
   "outputs": [
    {
     "data": {
      "text/html": [
       "<div>\n",
       "<style scoped>\n",
       "    .dataframe tbody tr th:only-of-type {\n",
       "        vertical-align: middle;\n",
       "    }\n",
       "\n",
       "    .dataframe tbody tr th {\n",
       "        vertical-align: top;\n",
       "    }\n",
       "\n",
       "    .dataframe thead th {\n",
       "        text-align: right;\n",
       "    }\n",
       "</style>\n",
       "<table border=\"1\" class=\"dataframe\">\n",
       "  <thead>\n",
       "    <tr style=\"text-align: right;\">\n",
       "      <th></th>\n",
       "      <th>index</th>\n",
       "      <th>customer_id</th>\n",
       "      <th>gender</th>\n",
       "      <th>senior_citizen</th>\n",
       "      <th>partner</th>\n",
       "      <th>dependents</th>\n",
       "      <th>tenure</th>\n",
       "      <th>phone_service</th>\n",
       "      <th>multiple_lines</th>\n",
       "      <th>online_security</th>\n",
       "      <th>...</th>\n",
       "      <th>multiple_lines_no</th>\n",
       "      <th>multiple_lines_no_phone_service</th>\n",
       "      <th>multiple_lines_yes</th>\n",
       "      <th>online_security_no</th>\n",
       "      <th>online_security_no_internet_service</th>\n",
       "      <th>online_security_yes_internet</th>\n",
       "      <th>contract_type_month-to-month</th>\n",
       "      <th>contract_type_one_year</th>\n",
       "      <th>contract_type_two_year</th>\n",
       "      <th>churn_numeric</th>\n",
       "    </tr>\n",
       "  </thead>\n",
       "  <tbody>\n",
       "    <tr>\n",
       "      <th>5310</th>\n",
       "      <td>5310</td>\n",
       "      <td>7503-MIOGA</td>\n",
       "      <td>Female</td>\n",
       "      <td>1</td>\n",
       "      <td>Yes</td>\n",
       "      <td>No</td>\n",
       "      <td>72</td>\n",
       "      <td>Yes</td>\n",
       "      <td>Yes</td>\n",
       "      <td>Yes</td>\n",
       "      <td>...</td>\n",
       "      <td>0</td>\n",
       "      <td>0</td>\n",
       "      <td>1</td>\n",
       "      <td>0</td>\n",
       "      <td>0</td>\n",
       "      <td>1</td>\n",
       "      <td>0</td>\n",
       "      <td>0</td>\n",
       "      <td>1</td>\n",
       "      <td>0</td>\n",
       "    </tr>\n",
       "    <tr>\n",
       "      <th>3790</th>\n",
       "      <td>3790</td>\n",
       "      <td>5329-KRDTM</td>\n",
       "      <td>Male</td>\n",
       "      <td>1</td>\n",
       "      <td>Yes</td>\n",
       "      <td>No</td>\n",
       "      <td>72</td>\n",
       "      <td>Yes</td>\n",
       "      <td>Yes</td>\n",
       "      <td>No</td>\n",
       "      <td>...</td>\n",
       "      <td>0</td>\n",
       "      <td>0</td>\n",
       "      <td>1</td>\n",
       "      <td>1</td>\n",
       "      <td>0</td>\n",
       "      <td>0</td>\n",
       "      <td>0</td>\n",
       "      <td>0</td>\n",
       "      <td>1</td>\n",
       "      <td>0</td>\n",
       "    </tr>\n",
       "  </tbody>\n",
       "</table>\n",
       "<p>2 rows × 34 columns</p>\n",
       "</div>"
      ],
      "text/plain": [
       "      index customer_id  gender  senior_citizen partner dependents  tenure  \\\n",
       "5310   5310  7503-MIOGA  Female               1     Yes         No      72   \n",
       "3790   3790  5329-KRDTM    Male               1     Yes         No      72   \n",
       "\n",
       "     phone_service multiple_lines online_security  ... multiple_lines_no  \\\n",
       "5310           Yes            Yes             Yes  ...                 0   \n",
       "3790           Yes            Yes              No  ...                 0   \n",
       "\n",
       "     multiple_lines_no_phone_service multiple_lines_yes online_security_no  \\\n",
       "5310                               0                  1                  0   \n",
       "3790                               0                  1                  1   \n",
       "\n",
       "     online_security_no_internet_service online_security_yes_internet  \\\n",
       "5310                                   0                            1   \n",
       "3790                                   0                            0   \n",
       "\n",
       "      contract_type_month-to-month contract_type_one_year  \\\n",
       "5310                             0                      0   \n",
       "3790                             0                      0   \n",
       "\n",
       "     contract_type_two_year churn_numeric  \n",
       "5310                      1             0  \n",
       "3790                      1             0  \n",
       "\n",
       "[2 rows x 34 columns]"
      ]
     },
     "execution_count": 40,
     "metadata": {},
     "output_type": "execute_result"
    }
   ],
   "source": [
    "train.head(2)"
   ]
  },
  {
   "cell_type": "code",
   "execution_count": 41,
   "id": "7811261f",
   "metadata": {},
   "outputs": [
    {
     "name": "stdout",
     "output_type": "stream",
     "text": [
      "<class 'pandas.core.frame.DataFrame'>\n",
      "Int64Index: 3943 entries, 5310 to 6817\n",
      "Data columns (total 34 columns):\n",
      " #   Column                               Non-Null Count  Dtype  \n",
      "---  ------                               --------------  -----  \n",
      " 0   index                                3943 non-null   int64  \n",
      " 1   customer_id                          3943 non-null   object \n",
      " 2   gender                               3943 non-null   object \n",
      " 3   senior_citizen                       3943 non-null   int64  \n",
      " 4   partner                              3943 non-null   object \n",
      " 5   dependents                           3943 non-null   object \n",
      " 6   tenure                               3943 non-null   int64  \n",
      " 7   phone_service                        3943 non-null   object \n",
      " 8   multiple_lines                       3943 non-null   object \n",
      " 9   online_security                      3943 non-null   object \n",
      " 10  online_backup                        3943 non-null   object \n",
      " 11  device_protection                    3943 non-null   object \n",
      " 12  tech_support                         3943 non-null   object \n",
      " 13  streaming_tv                         3943 non-null   object \n",
      " 14  streaming_movies                     3943 non-null   object \n",
      " 15  paperless_billing                    3943 non-null   object \n",
      " 16  monthly_charges                      3943 non-null   float64\n",
      " 17  total_charges                        3943 non-null   object \n",
      " 18  churn                                3943 non-null   object \n",
      " 19  contract_type                        3943 non-null   object \n",
      " 20  internet_service_type                3943 non-null   object \n",
      " 21  payment_type                         3943 non-null   object \n",
      " 22  dependents_no                        3943 non-null   uint8  \n",
      " 23  dependents_yes                       3943 non-null   uint8  \n",
      " 24  multiple_lines_no                    3943 non-null   uint8  \n",
      " 25  multiple_lines_no_phone_service      3943 non-null   uint8  \n",
      " 26  multiple_lines_yes                   3943 non-null   uint8  \n",
      " 27  online_security_no                   3943 non-null   uint8  \n",
      " 28  online_security_no_internet_service  3943 non-null   uint8  \n",
      " 29  online_security_yes_internet         3943 non-null   uint8  \n",
      " 30  contract_type_month-to-month         3943 non-null   uint8  \n",
      " 31  contract_type_one_year               3943 non-null   uint8  \n",
      " 32  contract_type_two_year               3943 non-null   uint8  \n",
      " 33  churn_numeric                        3943 non-null   int64  \n",
      "dtypes: float64(1), int64(4), object(18), uint8(11)\n",
      "memory usage: 781.7+ KB\n"
     ]
    }
   ],
   "source": [
    "train.info()"
   ]
  },
  {
   "cell_type": "code",
   "execution_count": 42,
   "id": "473bdda1",
   "metadata": {},
   "outputs": [],
   "source": [
    "# Dropping all 'Object' dtypes\n",
    "train = train.select_dtypes(exclude=['object'])\n",
    "validate = validate.select_dtypes(exclude=['object'])\n",
    "test= test.select_dtypes(exclude=['object'])\n"
   ]
  },
  {
   "cell_type": "code",
   "execution_count": 43,
   "id": "77229097",
   "metadata": {},
   "outputs": [],
   "source": [
    "# X and y model variables\n",
    "X_train = train.drop(['churn_numeric'], axis=1)\n",
    "y_train = train.churn_numeric\n",
    "\n",
    "X_validate = validate.drop(['churn_numeric'], axis=1)\n",
    "y_validate = validate.churn_numeric\n",
    "\n",
    "X_test = test.drop(['churn_numeric'], axis=1)\n",
    "y_test = test.churn_numeric"
   ]
  },
  {
   "cell_type": "markdown",
   "id": "be12bac2",
   "metadata": {},
   "source": [
    "### Decision Tree Model"
   ]
  },
  {
   "cell_type": "code",
   "execution_count": 44,
   "id": "f36595c8",
   "metadata": {},
   "outputs": [],
   "source": [
    "# Create Decision Tree Model Object\n",
    "clf = DecisionTreeClassifier(max_depth=4, random_state=42)"
   ]
  },
  {
   "cell_type": "code",
   "execution_count": 45,
   "id": "1eb3e16b",
   "metadata": {},
   "outputs": [
    {
     "data": {
      "text/html": [
       "<style>#sk-container-id-1 {color: black;background-color: white;}#sk-container-id-1 pre{padding: 0;}#sk-container-id-1 div.sk-toggleable {background-color: white;}#sk-container-id-1 label.sk-toggleable__label {cursor: pointer;display: block;width: 100%;margin-bottom: 0;padding: 0.3em;box-sizing: border-box;text-align: center;}#sk-container-id-1 label.sk-toggleable__label-arrow:before {content: \"▸\";float: left;margin-right: 0.25em;color: #696969;}#sk-container-id-1 label.sk-toggleable__label-arrow:hover:before {color: black;}#sk-container-id-1 div.sk-estimator:hover label.sk-toggleable__label-arrow:before {color: black;}#sk-container-id-1 div.sk-toggleable__content {max-height: 0;max-width: 0;overflow: hidden;text-align: left;background-color: #f0f8ff;}#sk-container-id-1 div.sk-toggleable__content pre {margin: 0.2em;color: black;border-radius: 0.25em;background-color: #f0f8ff;}#sk-container-id-1 input.sk-toggleable__control:checked~div.sk-toggleable__content {max-height: 200px;max-width: 100%;overflow: auto;}#sk-container-id-1 input.sk-toggleable__control:checked~label.sk-toggleable__label-arrow:before {content: \"▾\";}#sk-container-id-1 div.sk-estimator input.sk-toggleable__control:checked~label.sk-toggleable__label {background-color: #d4ebff;}#sk-container-id-1 div.sk-label input.sk-toggleable__control:checked~label.sk-toggleable__label {background-color: #d4ebff;}#sk-container-id-1 input.sk-hidden--visually {border: 0;clip: rect(1px 1px 1px 1px);clip: rect(1px, 1px, 1px, 1px);height: 1px;margin: -1px;overflow: hidden;padding: 0;position: absolute;width: 1px;}#sk-container-id-1 div.sk-estimator {font-family: monospace;background-color: #f0f8ff;border: 1px dotted black;border-radius: 0.25em;box-sizing: border-box;margin-bottom: 0.5em;}#sk-container-id-1 div.sk-estimator:hover {background-color: #d4ebff;}#sk-container-id-1 div.sk-parallel-item::after {content: \"\";width: 100%;border-bottom: 1px solid gray;flex-grow: 1;}#sk-container-id-1 div.sk-label:hover label.sk-toggleable__label {background-color: #d4ebff;}#sk-container-id-1 div.sk-serial::before {content: \"\";position: absolute;border-left: 1px solid gray;box-sizing: border-box;top: 0;bottom: 0;left: 50%;z-index: 0;}#sk-container-id-1 div.sk-serial {display: flex;flex-direction: column;align-items: center;background-color: white;padding-right: 0.2em;padding-left: 0.2em;position: relative;}#sk-container-id-1 div.sk-item {position: relative;z-index: 1;}#sk-container-id-1 div.sk-parallel {display: flex;align-items: stretch;justify-content: center;background-color: white;position: relative;}#sk-container-id-1 div.sk-item::before, #sk-container-id-1 div.sk-parallel-item::before {content: \"\";position: absolute;border-left: 1px solid gray;box-sizing: border-box;top: 0;bottom: 0;left: 50%;z-index: -1;}#sk-container-id-1 div.sk-parallel-item {display: flex;flex-direction: column;z-index: 1;position: relative;background-color: white;}#sk-container-id-1 div.sk-parallel-item:first-child::after {align-self: flex-end;width: 50%;}#sk-container-id-1 div.sk-parallel-item:last-child::after {align-self: flex-start;width: 50%;}#sk-container-id-1 div.sk-parallel-item:only-child::after {width: 0;}#sk-container-id-1 div.sk-dashed-wrapped {border: 1px dashed gray;margin: 0 0.4em 0.5em 0.4em;box-sizing: border-box;padding-bottom: 0.4em;background-color: white;}#sk-container-id-1 div.sk-label label {font-family: monospace;font-weight: bold;display: inline-block;line-height: 1.2em;}#sk-container-id-1 div.sk-label-container {text-align: center;}#sk-container-id-1 div.sk-container {/* jupyter's `normalize.less` sets `[hidden] { display: none; }` but bootstrap.min.css set `[hidden] { display: none !important; }` so we also need the `!important` here to be able to override the default hidden behavior on the sphinx rendered scikit-learn.org. See: https://github.com/scikit-learn/scikit-learn/issues/21755 */display: inline-block !important;position: relative;}#sk-container-id-1 div.sk-text-repr-fallback {display: none;}</style><div id=\"sk-container-id-1\" class=\"sk-top-container\"><div class=\"sk-text-repr-fallback\"><pre>DecisionTreeClassifier(max_depth=4, random_state=42)</pre><b>In a Jupyter environment, please rerun this cell to show the HTML representation or trust the notebook. <br />On GitHub, the HTML representation is unable to render, please try loading this page with nbviewer.org.</b></div><div class=\"sk-container\" hidden><div class=\"sk-item\"><div class=\"sk-estimator sk-toggleable\"><input class=\"sk-toggleable__control sk-hidden--visually\" id=\"sk-estimator-id-1\" type=\"checkbox\" checked><label for=\"sk-estimator-id-1\" class=\"sk-toggleable__label sk-toggleable__label-arrow\">DecisionTreeClassifier</label><div class=\"sk-toggleable__content\"><pre>DecisionTreeClassifier(max_depth=4, random_state=42)</pre></div></div></div></div></div>"
      ],
      "text/plain": [
       "DecisionTreeClassifier(max_depth=4, random_state=42)"
      ]
     },
     "execution_count": 45,
     "metadata": {},
     "output_type": "execute_result"
    }
   ],
   "source": [
    "# Fit Decision Tree Model\n",
    "clf.fit(X_train,y_train)"
   ]
  },
  {
   "cell_type": "code",
   "execution_count": 46,
   "id": "f9ec91ca",
   "metadata": {},
   "outputs": [
    {
     "data": {
      "text/plain": [
       "0.7917829064164342"
      ]
     },
     "execution_count": 46,
     "metadata": {},
     "output_type": "execute_result"
    }
   ],
   "source": [
    "clf.score(X_train,y_train)"
   ]
  },
  {
   "cell_type": "code",
   "execution_count": 47,
   "id": "f23bdeaf",
   "metadata": {},
   "outputs": [
    {
     "data": {
      "text/plain": [
       "0.7971614429331756"
      ]
     },
     "execution_count": 47,
     "metadata": {},
     "output_type": "execute_result"
    }
   ],
   "source": [
    "clf.score(X_validate, y_validate)"
   ]
  },
  {
   "cell_type": "code",
   "execution_count": 48,
   "id": "79b9ab17",
   "metadata": {},
   "outputs": [
    {
     "name": "stdout",
     "output_type": "stream",
     "text": [
      " Tree with depth of 2. Training acc: 0.74968, Validate acc: 0.75695\n",
      "------------------------------------------------\n",
      "\n",
      " Tree with depth of 3. Training acc: 0.78519, Validate acc: 0.78533\n",
      "------------------------------------------------\n",
      "\n",
      " Tree with depth of 4. Training acc: 0.79178, Validate acc: 0.79716\n",
      "------------------------------------------------\n",
      "\n",
      " Tree with depth of 5. Training acc: 0.79762, Validate acc: 0.7877\n",
      "------------------------------------------------\n",
      "\n",
      " Tree with depth of 6. Training acc: 0.81182, Validate acc: 0.78947\n",
      "------------------------------------------------\n",
      "\n",
      " Tree with depth of 7. Training acc: 0.82171, Validate acc: 0.78356\n",
      "------------------------------------------------\n",
      "\n",
      " Tree with depth of 8. Training acc: 0.83287, Validate acc: 0.7806\n",
      "------------------------------------------------\n",
      "\n",
      " Tree with depth of 9. Training acc: 0.85366, Validate acc: 0.76641\n",
      "------------------------------------------------\n",
      "\n",
      " Tree with depth of 10. Training acc: 0.87852, Validate acc: 0.76818\n",
      "------------------------------------------------\n",
      "\n"
     ]
    }
   ],
   "source": [
    "for i in range(2,11):\n",
    "    clf = DecisionTreeClassifier(max_depth=i, random_state=123)\n",
    "    clf.fit(X_train,y_train)\n",
    "    train_acc = clf.score(X_train, y_train)\n",
    "    val_acc = clf.score(X_validate, y_validate)\n",
    "    print(f' Tree with depth of {i}. Training acc: {round(train_acc,5)}, Validate acc: {round(val_acc,5)}')\n",
    "    print('------------------------------------------------')   \n",
    "    print()\n",
    "    "
   ]
  },
  {
   "cell_type": "code",
   "execution_count": 49,
   "id": "8f80b47e",
   "metadata": {},
   "outputs": [
    {
     "data": {
      "text/html": [
       "<div>\n",
       "<style scoped>\n",
       "    .dataframe tbody tr th:only-of-type {\n",
       "        vertical-align: middle;\n",
       "    }\n",
       "\n",
       "    .dataframe tbody tr th {\n",
       "        vertical-align: top;\n",
       "    }\n",
       "\n",
       "    .dataframe thead th {\n",
       "        text-align: right;\n",
       "    }\n",
       "</style>\n",
       "<table border=\"1\" class=\"dataframe\">\n",
       "  <thead>\n",
       "    <tr style=\"text-align: right;\">\n",
       "      <th></th>\n",
       "      <th>max_depth</th>\n",
       "      <th>train_accuracy</th>\n",
       "      <th>validate_accuracy</th>\n",
       "      <th>difference</th>\n",
       "    </tr>\n",
       "  </thead>\n",
       "  <tbody>\n",
       "    <tr>\n",
       "      <th>0</th>\n",
       "      <td>2</td>\n",
       "      <td>0.749683</td>\n",
       "      <td>0.756949</td>\n",
       "      <td>-0.007266</td>\n",
       "    </tr>\n",
       "    <tr>\n",
       "      <th>1</th>\n",
       "      <td>3</td>\n",
       "      <td>0.785189</td>\n",
       "      <td>0.785334</td>\n",
       "      <td>-0.000145</td>\n",
       "    </tr>\n",
       "    <tr>\n",
       "      <th>2</th>\n",
       "      <td>4</td>\n",
       "      <td>0.791783</td>\n",
       "      <td>0.797161</td>\n",
       "      <td>-0.005379</td>\n",
       "    </tr>\n",
       "    <tr>\n",
       "      <th>3</th>\n",
       "      <td>5</td>\n",
       "      <td>0.797616</td>\n",
       "      <td>0.787700</td>\n",
       "      <td>0.009916</td>\n",
       "    </tr>\n",
       "    <tr>\n",
       "      <th>4</th>\n",
       "      <td>6</td>\n",
       "      <td>0.811818</td>\n",
       "      <td>0.789474</td>\n",
       "      <td>0.022345</td>\n",
       "    </tr>\n",
       "    <tr>\n",
       "      <th>5</th>\n",
       "      <td>7</td>\n",
       "      <td>0.821709</td>\n",
       "      <td>0.783560</td>\n",
       "      <td>0.038149</td>\n",
       "    </tr>\n",
       "    <tr>\n",
       "      <th>6</th>\n",
       "      <td>8</td>\n",
       "      <td>0.832868</td>\n",
       "      <td>0.780603</td>\n",
       "      <td>0.052265</td>\n",
       "    </tr>\n",
       "    <tr>\n",
       "      <th>7</th>\n",
       "      <td>9</td>\n",
       "      <td>0.853665</td>\n",
       "      <td>0.766410</td>\n",
       "      <td>0.087254</td>\n",
       "    </tr>\n",
       "    <tr>\n",
       "      <th>8</th>\n",
       "      <td>10</td>\n",
       "      <td>0.878519</td>\n",
       "      <td>0.768185</td>\n",
       "      <td>0.110334</td>\n",
       "    </tr>\n",
       "  </tbody>\n",
       "</table>\n",
       "</div>"
      ],
      "text/plain": [
       "   max_depth  train_accuracy  validate_accuracy  difference\n",
       "0          2        0.749683           0.756949   -0.007266\n",
       "1          3        0.785189           0.785334   -0.000145\n",
       "2          4        0.791783           0.797161   -0.005379\n",
       "3          5        0.797616           0.787700    0.009916\n",
       "4          6        0.811818           0.789474    0.022345\n",
       "5          7        0.821709           0.783560    0.038149\n",
       "6          8        0.832868           0.780603    0.052265\n",
       "7          9        0.853665           0.766410    0.087254\n",
       "8         10        0.878519           0.768185    0.110334"
      ]
     },
     "execution_count": 49,
     "metadata": {},
     "output_type": "execute_result"
    }
   ],
   "source": [
    "metrics = []\n",
    "\n",
    "for i in range (2,11):\n",
    "    clf = DecisionTreeClassifier(max_depth=i, random_state=123)\n",
    "    clf.fit(X_train,y_train)\n",
    "    train_acc = clf.score(X_train, y_train)\n",
    "    val_acc = clf.score(X_validate, y_validate)\n",
    "    \n",
    "    output = {\n",
    "        'max_depth': i,\n",
    "        'train_accuracy': train_acc,\n",
    "        'validate_accuracy': val_acc\n",
    "    }\n",
    "    \n",
    "    metrics.append(output)\n",
    "\n",
    "df = pd.DataFrame(metrics)\n",
    "df[\"difference\"] = df.train_accuracy - df.validate_accuracy\n",
    "df"
   ]
  },
  {
   "cell_type": "code",
   "execution_count": 50,
   "id": "36624c40",
   "metadata": {},
   "outputs": [
    {
     "data": {
      "text/plain": [
       "Text(0, 0.5, 'Accuracy')"
      ]
     },
     "execution_count": 50,
     "metadata": {},
     "output_type": "execute_result"
    },
    {
     "data": {
      "image/png": "[encoded data removed]",
      "text/plain": [
       "<Figure size 640x480 with 1 Axes>"
      ]
     },
     "metadata": {},
     "output_type": "display_data"
    }
   ],
   "source": [
    "plt.plot(df.max_depth, df.train_accuracy, marker='o', label='Train')\n",
    "plt.plot(df.max_depth, df.validate_accuracy, marker='o', label='Validate')\n",
    "plt.legend()\n",
    "plt.xlabel('Max Depth')\n",
    "plt.ylabel('Accuracy')"
   ]
  },
  {
   "cell_type": "markdown",
   "id": "29bd8188",
   "metadata": {},
   "source": [
    "### Random Forest Model"
   ]
  },
  {
   "cell_type": "code",
   "execution_count": 51,
   "id": "8afae813",
   "metadata": {},
   "outputs": [],
   "source": [
    "rf = RandomForestClassifier(max_depth=10, min_samples_leaf=2, random_state=123)"
   ]
  },
  {
   "cell_type": "code",
   "execution_count": 52,
   "id": "5295a038",
   "metadata": {
    "scrolled": true
   },
   "outputs": [
    {
     "data": {
      "text/html": [
       "<style>#sk-container-id-2 {color: black;background-color: white;}#sk-container-id-2 pre{padding: 0;}#sk-container-id-2 div.sk-toggleable {background-color: white;}#sk-container-id-2 label.sk-toggleable__label {cursor: pointer;display: block;width: 100%;margin-bottom: 0;padding: 0.3em;box-sizing: border-box;text-align: center;}#sk-container-id-2 label.sk-toggleable__label-arrow:before {content: \"▸\";float: left;margin-right: 0.25em;color: #696969;}#sk-container-id-2 label.sk-toggleable__label-arrow:hover:before {color: black;}#sk-container-id-2 div.sk-estimator:hover label.sk-toggleable__label-arrow:before {color: black;}#sk-container-id-2 div.sk-toggleable__content {max-height: 0;max-width: 0;overflow: hidden;text-align: left;background-color: #f0f8ff;}#sk-container-id-2 div.sk-toggleable__content pre {margin: 0.2em;color: black;border-radius: 0.25em;background-color: #f0f8ff;}#sk-container-id-2 input.sk-toggleable__control:checked~div.sk-toggleable__content {max-height: 200px;max-width: 100%;overflow: auto;}#sk-container-id-2 input.sk-toggleable__control:checked~label.sk-toggleable__label-arrow:before {content: \"▾\";}#sk-container-id-2 div.sk-estimator input.sk-toggleable__control:checked~label.sk-toggleable__label {background-color: #d4ebff;}#sk-container-id-2 div.sk-label input.sk-toggleable__control:checked~label.sk-toggleable__label {background-color: #d4ebff;}#sk-container-id-2 input.sk-hidden--visually {border: 0;clip: rect(1px 1px 1px 1px);clip: rect(1px, 1px, 1px, 1px);height: 1px;margin: -1px;overflow: hidden;padding: 0;position: absolute;width: 1px;}#sk-container-id-2 div.sk-estimator {font-family: monospace;background-color: #f0f8ff;border: 1px dotted black;border-radius: 0.25em;box-sizing: border-box;margin-bottom: 0.5em;}#sk-container-id-2 div.sk-estimator:hover {background-color: #d4ebff;}#sk-container-id-2 div.sk-parallel-item::after {content: \"\";width: 100%;border-bottom: 1px solid gray;flex-grow: 1;}#sk-container-id-2 div.sk-label:hover label.sk-toggleable__label {background-color: #d4ebff;}#sk-container-id-2 div.sk-serial::before {content: \"\";position: absolute;border-left: 1px solid gray;box-sizing: border-box;top: 0;bottom: 0;left: 50%;z-index: 0;}#sk-container-id-2 div.sk-serial {display: flex;flex-direction: column;align-items: center;background-color: white;padding-right: 0.2em;padding-left: 0.2em;position: relative;}#sk-container-id-2 div.sk-item {position: relative;z-index: 1;}#sk-container-id-2 div.sk-parallel {display: flex;align-items: stretch;justify-content: center;background-color: white;position: relative;}#sk-container-id-2 div.sk-item::before, #sk-container-id-2 div.sk-parallel-item::before {content: \"\";position: absolute;border-left: 1px solid gray;box-sizing: border-box;top: 0;bottom: 0;left: 50%;z-index: -1;}#sk-container-id-2 div.sk-parallel-item {display: flex;flex-direction: column;z-index: 1;position: relative;background-color: white;}#sk-container-id-2 div.sk-parallel-item:first-child::after {align-self: flex-end;width: 50%;}#sk-container-id-2 div.sk-parallel-item:last-child::after {align-self: flex-start;width: 50%;}#sk-container-id-2 div.sk-parallel-item:only-child::after {width: 0;}#sk-container-id-2 div.sk-dashed-wrapped {border: 1px dashed gray;margin: 0 0.4em 0.5em 0.4em;box-sizing: border-box;padding-bottom: 0.4em;background-color: white;}#sk-container-id-2 div.sk-label label {font-family: monospace;font-weight: bold;display: inline-block;line-height: 1.2em;}#sk-container-id-2 div.sk-label-container {text-align: center;}#sk-container-id-2 div.sk-container {/* jupyter's `normalize.less` sets `[hidden] { display: none; }` but bootstrap.min.css set `[hidden] { display: none !important; }` so we also need the `!important` here to be able to override the default hidden behavior on the sphinx rendered scikit-learn.org. See: https://github.com/scikit-learn/scikit-learn/issues/21755 */display: inline-block !important;position: relative;}#sk-container-id-2 div.sk-text-repr-fallback {display: none;}</style><div id=\"sk-container-id-2\" class=\"sk-top-container\"><div class=\"sk-text-repr-fallback\"><pre>RandomForestClassifier(max_depth=10, min_samples_leaf=2, random_state=123)</pre><b>In a Jupyter environment, please rerun this cell to show the HTML representation or trust the notebook. <br />On GitHub, the HTML representation is unable to render, please try loading this page with nbviewer.org.</b></div><div class=\"sk-container\" hidden><div class=\"sk-item\"><div class=\"sk-estimator sk-toggleable\"><input class=\"sk-toggleable__control sk-hidden--visually\" id=\"sk-estimator-id-2\" type=\"checkbox\" checked><label for=\"sk-estimator-id-2\" class=\"sk-toggleable__label sk-toggleable__label-arrow\">RandomForestClassifier</label><div class=\"sk-toggleable__content\"><pre>RandomForestClassifier(max_depth=10, min_samples_leaf=2, random_state=123)</pre></div></div></div></div></div>"
      ],
      "text/plain": [
       "RandomForestClassifier(max_depth=10, min_samples_leaf=2, random_state=123)"
      ]
     },
     "execution_count": 52,
     "metadata": {},
     "output_type": "execute_result"
    }
   ],
   "source": [
    "rf.fit(X_train, y_train)"
   ]
  },
  {
   "cell_type": "code",
   "execution_count": 53,
   "id": "c479bf05",
   "metadata": {},
   "outputs": [
    {
     "data": {
      "text/plain": [
       "0.862033984275932"
      ]
     },
     "execution_count": 53,
     "metadata": {},
     "output_type": "execute_result"
    }
   ],
   "source": [
    "rf.score(X_train, y_train)"
   ]
  },
  {
   "cell_type": "code",
   "execution_count": 68,
   "id": "f1322fd2",
   "metadata": {},
   "outputs": [
    {
     "data": {
      "text/plain": [
       "0.8013010053222945"
      ]
     },
     "execution_count": 68,
     "metadata": {},
     "output_type": "execute_result"
    }
   ],
   "source": [
    "rf.score(X_validate, y_validate)"
   ]
  },
  {
   "cell_type": "code",
   "execution_count": 54,
   "id": "c8b627ec",
   "metadata": {},
   "outputs": [
    {
     "name": "stdout",
     "output_type": "stream",
     "text": [
      " Random Forest with depth of 2 and minimum 2 leaf samples. Training acc: 0.73472, Validate acc: 0.73448\n",
      "------------------------------------------------\n",
      "\n",
      " Random Forest with depth of 3 and minimum 2 leaf samples. Training acc: 0.77834, Validate acc: 0.78119\n",
      "------------------------------------------------\n",
      "\n",
      " Random Forest with depth of 4 and minimum 2 leaf samples. Training acc: 0.78925, Validate acc: 0.79361\n",
      "------------------------------------------------\n",
      "\n",
      " Random Forest with depth of 5 and minimum 2 leaf samples. Training acc: 0.79863, Validate acc: 0.80248\n",
      "------------------------------------------------\n",
      "\n",
      " Random Forest with depth of 6 and minimum 2 leaf samples. Training acc: 0.80573, Validate acc: 0.8084\n",
      "------------------------------------------------\n",
      "\n",
      " Random Forest with depth of 7 and minimum 2 leaf samples. Training acc: 0.81156, Validate acc: 0.80662\n",
      "------------------------------------------------\n",
      "\n",
      " Random Forest with depth of 8 and minimum 2 leaf samples. Training acc: 0.82602, Validate acc: 0.80721\n",
      "------------------------------------------------\n",
      "\n",
      " Random Forest with depth of 9 and minimum 2 leaf samples. Training acc: 0.83794, Validate acc: 0.80603\n",
      "------------------------------------------------\n",
      "\n",
      " Random Forest with depth of 10 and minimum 2 leaf samples. Training acc: 0.84707, Validate acc: 0.8013\n",
      "------------------------------------------------\n",
      "\n"
     ]
    }
   ],
   "source": [
    "# Random Forest Loop\n",
    "for i in range (2,11):\n",
    "    rf = RandomForestClassifier(max_depth=i, min_samples_leaf=3, random_state=123)\n",
    "    rf.fit(X_train, y_train)\n",
    "    train_acc = rf.score(X_train, y_train)\n",
    "    val_acc = rf.score(X_validate, y_validate)\n",
    "    print(f' Random Forest with depth of {i} and minimum 2 leaf samples. Training acc: {round(train_acc,5)}, Validate acc: {round(val_acc,5)}')\n",
    "    print('------------------------------------------------')   \n",
    "    print()"
   ]
  },
  {
   "cell_type": "code",
   "execution_count": 55,
   "id": "504d2d4a",
   "metadata": {},
   "outputs": [
    {
     "data": {
      "text/html": [
       "<div>\n",
       "<style scoped>\n",
       "    .dataframe tbody tr th:only-of-type {\n",
       "        vertical-align: middle;\n",
       "    }\n",
       "\n",
       "    .dataframe tbody tr th {\n",
       "        vertical-align: top;\n",
       "    }\n",
       "\n",
       "    .dataframe thead th {\n",
       "        text-align: right;\n",
       "    }\n",
       "</style>\n",
       "<table border=\"1\" class=\"dataframe\">\n",
       "  <thead>\n",
       "    <tr style=\"text-align: right;\">\n",
       "      <th></th>\n",
       "      <th>max_depth</th>\n",
       "      <th>train_accuracy</th>\n",
       "      <th>validate_accuracy</th>\n",
       "      <th>difference</th>\n",
       "    </tr>\n",
       "  </thead>\n",
       "  <tbody>\n",
       "    <tr>\n",
       "      <th>0</th>\n",
       "      <td>2</td>\n",
       "      <td>0.734720</td>\n",
       "      <td>0.734477</td>\n",
       "      <td>0.000243</td>\n",
       "    </tr>\n",
       "    <tr>\n",
       "      <th>1</th>\n",
       "      <td>3</td>\n",
       "      <td>0.778341</td>\n",
       "      <td>0.781195</td>\n",
       "      <td>-0.002853</td>\n",
       "    </tr>\n",
       "    <tr>\n",
       "      <th>2</th>\n",
       "      <td>4</td>\n",
       "      <td>0.789247</td>\n",
       "      <td>0.793613</td>\n",
       "      <td>-0.004366</td>\n",
       "    </tr>\n",
       "    <tr>\n",
       "      <th>3</th>\n",
       "      <td>5</td>\n",
       "      <td>0.798630</td>\n",
       "      <td>0.802484</td>\n",
       "      <td>-0.003853</td>\n",
       "    </tr>\n",
       "    <tr>\n",
       "      <th>4</th>\n",
       "      <td>6</td>\n",
       "      <td>0.805732</td>\n",
       "      <td>0.808397</td>\n",
       "      <td>-0.002666</td>\n",
       "    </tr>\n",
       "    <tr>\n",
       "      <th>5</th>\n",
       "      <td>7</td>\n",
       "      <td>0.811565</td>\n",
       "      <td>0.806623</td>\n",
       "      <td>0.004941</td>\n",
       "    </tr>\n",
       "    <tr>\n",
       "      <th>6</th>\n",
       "      <td>8</td>\n",
       "      <td>0.826021</td>\n",
       "      <td>0.807215</td>\n",
       "      <td>0.018806</td>\n",
       "    </tr>\n",
       "    <tr>\n",
       "      <th>7</th>\n",
       "      <td>9</td>\n",
       "      <td>0.837941</td>\n",
       "      <td>0.806032</td>\n",
       "      <td>0.031909</td>\n",
       "    </tr>\n",
       "    <tr>\n",
       "      <th>8</th>\n",
       "      <td>10</td>\n",
       "      <td>0.847071</td>\n",
       "      <td>0.801301</td>\n",
       "      <td>0.045770</td>\n",
       "    </tr>\n",
       "  </tbody>\n",
       "</table>\n",
       "</div>"
      ],
      "text/plain": [
       "   max_depth  train_accuracy  validate_accuracy  difference\n",
       "0          2        0.734720           0.734477    0.000243\n",
       "1          3        0.778341           0.781195   -0.002853\n",
       "2          4        0.789247           0.793613   -0.004366\n",
       "3          5        0.798630           0.802484   -0.003853\n",
       "4          6        0.805732           0.808397   -0.002666\n",
       "5          7        0.811565           0.806623    0.004941\n",
       "6          8        0.826021           0.807215    0.018806\n",
       "7          9        0.837941           0.806032    0.031909\n",
       "8         10        0.847071           0.801301    0.045770"
      ]
     },
     "execution_count": 55,
     "metadata": {},
     "output_type": "execute_result"
    }
   ],
   "source": [
    "metrics = []\n",
    "\n",
    "for i in range (2,11):\n",
    "    rf = RandomForestClassifier(max_depth=i, min_samples_leaf=3, random_state=123)\n",
    "    rf.fit(X_train, y_train)\n",
    "    train_acc = rf.score(X_train, y_train)\n",
    "    val_acc = rf.score(X_validate, y_validate)\n",
    "    \n",
    "    output = {\n",
    "        'max_depth': i,\n",
    "        'train_accuracy': train_acc,\n",
    "        'validate_accuracy': val_acc\n",
    "    }\n",
    "    \n",
    "    metrics.append(output)\n",
    "\n",
    "df = pd.DataFrame(metrics)\n",
    "df[\"difference\"] = df.train_accuracy - df.validate_accuracy\n",
    "df\n"
   ]
  },
  {
   "cell_type": "code",
   "execution_count": 56,
   "id": "1221ab19",
   "metadata": {},
   "outputs": [
    {
     "data": {
      "text/plain": [
       "Text(0, 0.5, 'Accuracy')"
      ]
     },
     "execution_count": 56,
     "metadata": {},
     "output_type": "execute_result"
    },
    {
     "data": {
      "image/png": "[encoded data removed]",
      "text/plain": [
       "<Figure size 640x480 with 1 Axes>"
      ]
     },
     "metadata": {},
     "output_type": "display_data"
    }
   ],
   "source": [
    "plt.plot(df.max_depth, df.train_accuracy, marker='o', label='Train')\n",
    "plt.plot(df.max_depth, df.validate_accuracy, marker='o', label='Validate')\n",
    "plt.legend()\n",
    "plt.xlabel('Max Depth')\n",
    "plt.ylabel('Accuracy')"
   ]
  },
  {
   "cell_type": "markdown",
   "id": "4ed7b911",
   "metadata": {},
   "source": [
    "### KNN Model"
   ]
  },
  {
   "cell_type": "code",
   "execution_count": 57,
   "id": "096e7592",
   "metadata": {},
   "outputs": [],
   "source": [
    "# Create KNN Object\n",
    "knn = KNeighborsClassifier(n_neighbors=5, weights='uniform')"
   ]
  },
  {
   "cell_type": "code",
   "execution_count": 58,
   "id": "7c53588e",
   "metadata": {},
   "outputs": [
    {
     "data": {
      "text/html": [
       "<style>#sk-container-id-3 {color: black;background-color: white;}#sk-container-id-3 pre{padding: 0;}#sk-container-id-3 div.sk-toggleable {background-color: white;}#sk-container-id-3 label.sk-toggleable__label {cursor: pointer;display: block;width: 100%;margin-bottom: 0;padding: 0.3em;box-sizing: border-box;text-align: center;}#sk-container-id-3 label.sk-toggleable__label-arrow:before {content: \"▸\";float: left;margin-right: 0.25em;color: #696969;}#sk-container-id-3 label.sk-toggleable__label-arrow:hover:before {color: black;}#sk-container-id-3 div.sk-estimator:hover label.sk-toggleable__label-arrow:before {color: black;}#sk-container-id-3 div.sk-toggleable__content {max-height: 0;max-width: 0;overflow: hidden;text-align: left;background-color: #f0f8ff;}#sk-container-id-3 div.sk-toggleable__content pre {margin: 0.2em;color: black;border-radius: 0.25em;background-color: #f0f8ff;}#sk-container-id-3 input.sk-toggleable__control:checked~div.sk-toggleable__content {max-height: 200px;max-width: 100%;overflow: auto;}#sk-container-id-3 input.sk-toggleable__control:checked~label.sk-toggleable__label-arrow:before {content: \"▾\";}#sk-container-id-3 div.sk-estimator input.sk-toggleable__control:checked~label.sk-toggleable__label {background-color: #d4ebff;}#sk-container-id-3 div.sk-label input.sk-toggleable__control:checked~label.sk-toggleable__label {background-color: #d4ebff;}#sk-container-id-3 input.sk-hidden--visually {border: 0;clip: rect(1px 1px 1px 1px);clip: rect(1px, 1px, 1px, 1px);height: 1px;margin: -1px;overflow: hidden;padding: 0;position: absolute;width: 1px;}#sk-container-id-3 div.sk-estimator {font-family: monospace;background-color: #f0f8ff;border: 1px dotted black;border-radius: 0.25em;box-sizing: border-box;margin-bottom: 0.5em;}#sk-container-id-3 div.sk-estimator:hover {background-color: #d4ebff;}#sk-container-id-3 div.sk-parallel-item::after {content: \"\";width: 100%;border-bottom: 1px solid gray;flex-grow: 1;}#sk-container-id-3 div.sk-label:hover label.sk-toggleable__label {background-color: #d4ebff;}#sk-container-id-3 div.sk-serial::before {content: \"\";position: absolute;border-left: 1px solid gray;box-sizing: border-box;top: 0;bottom: 0;left: 50%;z-index: 0;}#sk-container-id-3 div.sk-serial {display: flex;flex-direction: column;align-items: center;background-color: white;padding-right: 0.2em;padding-left: 0.2em;position: relative;}#sk-container-id-3 div.sk-item {position: relative;z-index: 1;}#sk-container-id-3 div.sk-parallel {display: flex;align-items: stretch;justify-content: center;background-color: white;position: relative;}#sk-container-id-3 div.sk-item::before, #sk-container-id-3 div.sk-parallel-item::before {content: \"\";position: absolute;border-left: 1px solid gray;box-sizing: border-box;top: 0;bottom: 0;left: 50%;z-index: -1;}#sk-container-id-3 div.sk-parallel-item {display: flex;flex-direction: column;z-index: 1;position: relative;background-color: white;}#sk-container-id-3 div.sk-parallel-item:first-child::after {align-self: flex-end;width: 50%;}#sk-container-id-3 div.sk-parallel-item:last-child::after {align-self: flex-start;width: 50%;}#sk-container-id-3 div.sk-parallel-item:only-child::after {width: 0;}#sk-container-id-3 div.sk-dashed-wrapped {border: 1px dashed gray;margin: 0 0.4em 0.5em 0.4em;box-sizing: border-box;padding-bottom: 0.4em;background-color: white;}#sk-container-id-3 div.sk-label label {font-family: monospace;font-weight: bold;display: inline-block;line-height: 1.2em;}#sk-container-id-3 div.sk-label-container {text-align: center;}#sk-container-id-3 div.sk-container {/* jupyter's `normalize.less` sets `[hidden] { display: none; }` but bootstrap.min.css set `[hidden] { display: none !important; }` so we also need the `!important` here to be able to override the default hidden behavior on the sphinx rendered scikit-learn.org. See: https://github.com/scikit-learn/scikit-learn/issues/21755 */display: inline-block !important;position: relative;}#sk-container-id-3 div.sk-text-repr-fallback {display: none;}</style><div id=\"sk-container-id-3\" class=\"sk-top-container\"><div class=\"sk-text-repr-fallback\"><pre>KNeighborsClassifier()</pre><b>In a Jupyter environment, please rerun this cell to show the HTML representation or trust the notebook. <br />On GitHub, the HTML representation is unable to render, please try loading this page with nbviewer.org.</b></div><div class=\"sk-container\" hidden><div class=\"sk-item\"><div class=\"sk-estimator sk-toggleable\"><input class=\"sk-toggleable__control sk-hidden--visually\" id=\"sk-estimator-id-3\" type=\"checkbox\" checked><label for=\"sk-estimator-id-3\" class=\"sk-toggleable__label sk-toggleable__label-arrow\">KNeighborsClassifier</label><div class=\"sk-toggleable__content\"><pre>KNeighborsClassifier()</pre></div></div></div></div></div>"
      ],
      "text/plain": [
       "KNeighborsClassifier()"
      ]
     },
     "execution_count": 58,
     "metadata": {},
     "output_type": "execute_result"
    }
   ],
   "source": [
    "# Fit the model\n",
    "knn.fit(X_train, y_train)"
   ]
  },
  {
   "cell_type": "code",
   "execution_count": 59,
   "id": "1844050a",
   "metadata": {},
   "outputs": [
    {
     "data": {
      "text/plain": [
       "0.8219629723560741"
      ]
     },
     "execution_count": 59,
     "metadata": {},
     "output_type": "execute_result"
    }
   ],
   "source": [
    "knn.score(X_train, y_train)"
   ]
  },
  {
   "cell_type": "code",
   "execution_count": 60,
   "id": "1b553cb6",
   "metadata": {},
   "outputs": [
    {
     "name": "stdout",
     "output_type": "stream",
     "text": [
      " KNN model with 15 neighbors. Train Acc: 0.77454, Validate Acc: 0.73862\n",
      "---------------------------------------------------------------\n",
      "\n",
      " KNN model with 16 neighbors. Train Acc: 0.77428, Validate Acc: 0.73448\n",
      "---------------------------------------------------------------\n",
      "\n",
      " KNN model with 17 neighbors. Train Acc: 0.77936, Validate Acc: 0.73743\n",
      "---------------------------------------------------------------\n",
      "\n",
      " KNN model with 18 neighbors. Train Acc: 0.77099, Validate Acc: 0.73093\n",
      "---------------------------------------------------------------\n",
      "\n",
      " KNN model with 19 neighbors. Train Acc: 0.772, Validate Acc: 0.73152\n",
      "---------------------------------------------------------------\n",
      "\n",
      " KNN model with 20 neighbors. Train Acc: 0.76794, Validate Acc: 0.73093\n",
      "---------------------------------------------------------------\n",
      "\n",
      " KNN model with 21 neighbors. Train Acc: 0.77276, Validate Acc: 0.7327\n",
      "---------------------------------------------------------------\n",
      "\n",
      " KNN model with 22 neighbors. Train Acc: 0.76566, Validate Acc: 0.73448\n",
      "---------------------------------------------------------------\n",
      "\n",
      " KNN model with 23 neighbors. Train Acc: 0.76896, Validate Acc: 0.73684\n",
      "---------------------------------------------------------------\n",
      "\n",
      " KNN model with 24 neighbors. Train Acc: 0.76312, Validate Acc: 0.73507\n",
      "---------------------------------------------------------------\n",
      "\n",
      " KNN model with 25 neighbors. Train Acc: 0.76439, Validate Acc: 0.73862\n",
      "---------------------------------------------------------------\n",
      "\n",
      " KNN model with 26 neighbors. Train Acc: 0.76033, Validate Acc: 0.73448\n",
      "---------------------------------------------------------------\n",
      "\n",
      " KNN model with 27 neighbors. Train Acc: 0.76312, Validate Acc: 0.7327\n",
      "---------------------------------------------------------------\n",
      "\n",
      " KNN model with 28 neighbors. Train Acc: 0.75678, Validate Acc: 0.73684\n",
      "---------------------------------------------------------------\n",
      "\n",
      " KNN model with 29 neighbors. Train Acc: 0.75856, Validate Acc: 0.73448\n",
      "---------------------------------------------------------------\n",
      "\n",
      " KNN model with 30 neighbors. Train Acc: 0.75501, Validate Acc: 0.73389\n",
      "---------------------------------------------------------------\n",
      "\n",
      " KNN model with 31 neighbors. Train Acc: 0.75602, Validate Acc: 0.73448\n",
      "---------------------------------------------------------------\n",
      "\n",
      " KNN model with 32 neighbors. Train Acc: 0.75425, Validate Acc: 0.73448\n",
      "---------------------------------------------------------------\n",
      "\n",
      " KNN model with 33 neighbors. Train Acc: 0.75501, Validate Acc: 0.73448\n",
      "---------------------------------------------------------------\n",
      "\n",
      " KNN model with 34 neighbors. Train Acc: 0.75247, Validate Acc: 0.73448\n",
      "---------------------------------------------------------------\n",
      "\n"
     ]
    }
   ],
   "source": [
    "for i in range(15,35):\n",
    "    knn = KNeighborsClassifier(n_neighbors=i, weights='uniform')\n",
    "    knn.fit(X_train, y_train)\n",
    "    train_acc = knn.score(X_train, y_train)\n",
    "    val_acc = knn.score(X_validate, y_validate)\n",
    "    \n",
    "    print(f' KNN model with {i} neighbors. Train Acc: {round(train_acc, 5)}, Validate Acc: {round(val_acc, 5)}')\n",
    "    print('---------------------------------------------------------------')\n",
    "    print()"
   ]
  },
  {
   "cell_type": "code",
   "execution_count": 61,
   "id": "8714d3c5",
   "metadata": {},
   "outputs": [
    {
     "data": {
      "text/html": [
       "<div>\n",
       "<style scoped>\n",
       "    .dataframe tbody tr th:only-of-type {\n",
       "        vertical-align: middle;\n",
       "    }\n",
       "\n",
       "    .dataframe tbody tr th {\n",
       "        vertical-align: top;\n",
       "    }\n",
       "\n",
       "    .dataframe thead th {\n",
       "        text-align: right;\n",
       "    }\n",
       "</style>\n",
       "<table border=\"1\" class=\"dataframe\">\n",
       "  <thead>\n",
       "    <tr style=\"text-align: right;\">\n",
       "      <th></th>\n",
       "      <th>neighbors</th>\n",
       "      <th>train_accuracy</th>\n",
       "      <th>validate_accuracy</th>\n",
       "      <th>difference</th>\n",
       "    </tr>\n",
       "  </thead>\n",
       "  <tbody>\n",
       "    <tr>\n",
       "      <th>0</th>\n",
       "      <td>5</td>\n",
       "      <td>0.821963</td>\n",
       "      <td>0.732703</td>\n",
       "      <td>0.089260</td>\n",
       "    </tr>\n",
       "    <tr>\n",
       "      <th>1</th>\n",
       "      <td>6</td>\n",
       "      <td>0.805985</td>\n",
       "      <td>0.745713</td>\n",
       "      <td>0.060273</td>\n",
       "    </tr>\n",
       "    <tr>\n",
       "      <th>2</th>\n",
       "      <td>7</td>\n",
       "      <td>0.809282</td>\n",
       "      <td>0.738616</td>\n",
       "      <td>0.070666</td>\n",
       "    </tr>\n",
       "    <tr>\n",
       "      <th>3</th>\n",
       "      <td>8</td>\n",
       "      <td>0.793305</td>\n",
       "      <td>0.741573</td>\n",
       "      <td>0.051732</td>\n",
       "    </tr>\n",
       "    <tr>\n",
       "      <th>4</th>\n",
       "      <td>9</td>\n",
       "      <td>0.793558</td>\n",
       "      <td>0.738025</td>\n",
       "      <td>0.055533</td>\n",
       "    </tr>\n",
       "    <tr>\n",
       "      <th>5</th>\n",
       "      <td>10</td>\n",
       "      <td>0.785696</td>\n",
       "      <td>0.744530</td>\n",
       "      <td>0.041166</td>\n",
       "    </tr>\n",
       "    <tr>\n",
       "      <th>6</th>\n",
       "      <td>11</td>\n",
       "      <td>0.786203</td>\n",
       "      <td>0.735659</td>\n",
       "      <td>0.050544</td>\n",
       "    </tr>\n",
       "    <tr>\n",
       "      <th>7</th>\n",
       "      <td>12</td>\n",
       "      <td>0.777834</td>\n",
       "      <td>0.734477</td>\n",
       "      <td>0.043357</td>\n",
       "    </tr>\n",
       "    <tr>\n",
       "      <th>8</th>\n",
       "      <td>13</td>\n",
       "      <td>0.778595</td>\n",
       "      <td>0.735659</td>\n",
       "      <td>0.042936</td>\n",
       "    </tr>\n",
       "    <tr>\n",
       "      <th>9</th>\n",
       "      <td>14</td>\n",
       "      <td>0.775044</td>\n",
       "      <td>0.735068</td>\n",
       "      <td>0.039976</td>\n",
       "    </tr>\n",
       "    <tr>\n",
       "      <th>10</th>\n",
       "      <td>15</td>\n",
       "      <td>0.774537</td>\n",
       "      <td>0.738616</td>\n",
       "      <td>0.035921</td>\n",
       "    </tr>\n",
       "    <tr>\n",
       "      <th>11</th>\n",
       "      <td>16</td>\n",
       "      <td>0.774284</td>\n",
       "      <td>0.734477</td>\n",
       "      <td>0.039807</td>\n",
       "    </tr>\n",
       "    <tr>\n",
       "      <th>12</th>\n",
       "      <td>17</td>\n",
       "      <td>0.779356</td>\n",
       "      <td>0.737433</td>\n",
       "      <td>0.041922</td>\n",
       "    </tr>\n",
       "    <tr>\n",
       "      <th>13</th>\n",
       "      <td>18</td>\n",
       "      <td>0.770987</td>\n",
       "      <td>0.730928</td>\n",
       "      <td>0.040058</td>\n",
       "    </tr>\n",
       "    <tr>\n",
       "      <th>14</th>\n",
       "      <td>19</td>\n",
       "      <td>0.772001</td>\n",
       "      <td>0.731520</td>\n",
       "      <td>0.040481</td>\n",
       "    </tr>\n",
       "    <tr>\n",
       "      <th>15</th>\n",
       "      <td>20</td>\n",
       "      <td>0.767943</td>\n",
       "      <td>0.730928</td>\n",
       "      <td>0.037015</td>\n",
       "    </tr>\n",
       "    <tr>\n",
       "      <th>16</th>\n",
       "      <td>21</td>\n",
       "      <td>0.772762</td>\n",
       "      <td>0.732703</td>\n",
       "      <td>0.040059</td>\n",
       "    </tr>\n",
       "    <tr>\n",
       "      <th>17</th>\n",
       "      <td>22</td>\n",
       "      <td>0.765661</td>\n",
       "      <td>0.734477</td>\n",
       "      <td>0.031184</td>\n",
       "    </tr>\n",
       "    <tr>\n",
       "      <th>18</th>\n",
       "      <td>23</td>\n",
       "      <td>0.768958</td>\n",
       "      <td>0.736842</td>\n",
       "      <td>0.032116</td>\n",
       "    </tr>\n",
       "    <tr>\n",
       "      <th>19</th>\n",
       "      <td>24</td>\n",
       "      <td>0.763125</td>\n",
       "      <td>0.735068</td>\n",
       "      <td>0.028057</td>\n",
       "    </tr>\n",
       "    <tr>\n",
       "      <th>20</th>\n",
       "      <td>25</td>\n",
       "      <td>0.764393</td>\n",
       "      <td>0.738616</td>\n",
       "      <td>0.025776</td>\n",
       "    </tr>\n",
       "    <tr>\n",
       "      <th>21</th>\n",
       "      <td>26</td>\n",
       "      <td>0.760335</td>\n",
       "      <td>0.734477</td>\n",
       "      <td>0.025858</td>\n",
       "    </tr>\n",
       "    <tr>\n",
       "      <th>22</th>\n",
       "      <td>27</td>\n",
       "      <td>0.763125</td>\n",
       "      <td>0.732703</td>\n",
       "      <td>0.030422</td>\n",
       "    </tr>\n",
       "    <tr>\n",
       "      <th>23</th>\n",
       "      <td>28</td>\n",
       "      <td>0.756784</td>\n",
       "      <td>0.736842</td>\n",
       "      <td>0.019942</td>\n",
       "    </tr>\n",
       "    <tr>\n",
       "      <th>24</th>\n",
       "      <td>29</td>\n",
       "      <td>0.758559</td>\n",
       "      <td>0.734477</td>\n",
       "      <td>0.024083</td>\n",
       "    </tr>\n",
       "    <tr>\n",
       "      <th>25</th>\n",
       "      <td>30</td>\n",
       "      <td>0.755009</td>\n",
       "      <td>0.733885</td>\n",
       "      <td>0.021124</td>\n",
       "    </tr>\n",
       "    <tr>\n",
       "      <th>26</th>\n",
       "      <td>31</td>\n",
       "      <td>0.756023</td>\n",
       "      <td>0.734477</td>\n",
       "      <td>0.021547</td>\n",
       "    </tr>\n",
       "    <tr>\n",
       "      <th>27</th>\n",
       "      <td>32</td>\n",
       "      <td>0.754248</td>\n",
       "      <td>0.734477</td>\n",
       "      <td>0.019771</td>\n",
       "    </tr>\n",
       "    <tr>\n",
       "      <th>28</th>\n",
       "      <td>33</td>\n",
       "      <td>0.755009</td>\n",
       "      <td>0.734477</td>\n",
       "      <td>0.020532</td>\n",
       "    </tr>\n",
       "    <tr>\n",
       "      <th>29</th>\n",
       "      <td>34</td>\n",
       "      <td>0.752473</td>\n",
       "      <td>0.734477</td>\n",
       "      <td>0.017996</td>\n",
       "    </tr>\n",
       "  </tbody>\n",
       "</table>\n",
       "</div>"
      ],
      "text/plain": [
       "    neighbors  train_accuracy  validate_accuracy  difference\n",
       "0           5        0.821963           0.732703    0.089260\n",
       "1           6        0.805985           0.745713    0.060273\n",
       "2           7        0.809282           0.738616    0.070666\n",
       "3           8        0.793305           0.741573    0.051732\n",
       "4           9        0.793558           0.738025    0.055533\n",
       "5          10        0.785696           0.744530    0.041166\n",
       "6          11        0.786203           0.735659    0.050544\n",
       "7          12        0.777834           0.734477    0.043357\n",
       "8          13        0.778595           0.735659    0.042936\n",
       "9          14        0.775044           0.735068    0.039976\n",
       "10         15        0.774537           0.738616    0.035921\n",
       "11         16        0.774284           0.734477    0.039807\n",
       "12         17        0.779356           0.737433    0.041922\n",
       "13         18        0.770987           0.730928    0.040058\n",
       "14         19        0.772001           0.731520    0.040481\n",
       "15         20        0.767943           0.730928    0.037015\n",
       "16         21        0.772762           0.732703    0.040059\n",
       "17         22        0.765661           0.734477    0.031184\n",
       "18         23        0.768958           0.736842    0.032116\n",
       "19         24        0.763125           0.735068    0.028057\n",
       "20         25        0.764393           0.738616    0.025776\n",
       "21         26        0.760335           0.734477    0.025858\n",
       "22         27        0.763125           0.732703    0.030422\n",
       "23         28        0.756784           0.736842    0.019942\n",
       "24         29        0.758559           0.734477    0.024083\n",
       "25         30        0.755009           0.733885    0.021124\n",
       "26         31        0.756023           0.734477    0.021547\n",
       "27         32        0.754248           0.734477    0.019771\n",
       "28         33        0.755009           0.734477    0.020532\n",
       "29         34        0.752473           0.734477    0.017996"
      ]
     },
     "execution_count": 61,
     "metadata": {},
     "output_type": "execute_result"
    }
   ],
   "source": [
    "# Visual aid to see model performances\n",
    "metrics = []\n",
    "\n",
    "for i in range(5,35):\n",
    "    knn = KNeighborsClassifier(n_neighbors=i, weights='uniform')\n",
    "    knn.fit(X_train, y_train)\n",
    "    train_acc = knn.score(X_train, y_train)\n",
    "    val_acc = knn.score(X_validate, y_validate)\n",
    "    \n",
    "    output = {\n",
    "        'neighbors': i,\n",
    "        'train_accuracy': train_acc,\n",
    "        'validate_accuracy': val_acc\n",
    "    }\n",
    "    \n",
    "    metrics.append(output)\n",
    "\n",
    "df = pd.DataFrame(metrics)\n",
    "df[\"difference\"] = df.train_accuracy - df.validate_accuracy\n",
    "df\n"
   ]
  },
  {
   "cell_type": "code",
   "execution_count": 62,
   "id": "8f5de4b8",
   "metadata": {},
   "outputs": [
    {
     "data": {
      "text/plain": [
       "Text(0, 0.5, 'Accuracy')"
      ]
     },
     "execution_count": 62,
     "metadata": {},
     "output_type": "execute_result"
    },
    {
     "data": {
      "image/png": "[encoded data removed]",
      "text/plain": [
       "<Figure size 640x480 with 1 Axes>"
      ]
     },
     "metadata": {},
     "output_type": "display_data"
    }
   ],
   "source": [
    "plt.plot(df.neighbors, df.train_accuracy, marker='o', label='Train')\n",
    "plt.plot(df.neighbors, df.validate_accuracy, marker='o', label='Validate')\n",
    "plt.legend()\n",
    "plt.xlabel('Neighbors')\n",
    "plt.ylabel('Accuracy')"
   ]
  },
  {
   "cell_type": "markdown",
   "id": "04664603",
   "metadata": {},
   "source": [
    "### Logistic Regression Model"
   ]
  },
  {
   "cell_type": "code",
   "execution_count": 63,
   "id": "2ae25ed4",
   "metadata": {},
   "outputs": [],
   "source": [
    "# Logistic Regression Model Object\n",
    "logit = LogisticRegression(random_state=123, penalty='l2', max_iter=100, solver='liblinear')"
   ]
  },
  {
   "cell_type": "code",
   "execution_count": 64,
   "id": "39e06949",
   "metadata": {},
   "outputs": [
    {
     "data": {
      "text/html": [
       "<style>#sk-container-id-4 {color: black;background-color: white;}#sk-container-id-4 pre{padding: 0;}#sk-container-id-4 div.sk-toggleable {background-color: white;}#sk-container-id-4 label.sk-toggleable__label {cursor: pointer;display: block;width: 100%;margin-bottom: 0;padding: 0.3em;box-sizing: border-box;text-align: center;}#sk-container-id-4 label.sk-toggleable__label-arrow:before {content: \"▸\";float: left;margin-right: 0.25em;color: #696969;}#sk-container-id-4 label.sk-toggleable__label-arrow:hover:before {color: black;}#sk-container-id-4 div.sk-estimator:hover label.sk-toggleable__label-arrow:before {color: black;}#sk-container-id-4 div.sk-toggleable__content {max-height: 0;max-width: 0;overflow: hidden;text-align: left;background-color: #f0f8ff;}#sk-container-id-4 div.sk-toggleable__content pre {margin: 0.2em;color: black;border-radius: 0.25em;background-color: #f0f8ff;}#sk-container-id-4 input.sk-toggleable__control:checked~div.sk-toggleable__content {max-height: 200px;max-width: 100%;overflow: auto;}#sk-container-id-4 input.sk-toggleable__control:checked~label.sk-toggleable__label-arrow:before {content: \"▾\";}#sk-container-id-4 div.sk-estimator input.sk-toggleable__control:checked~label.sk-toggleable__label {background-color: #d4ebff;}#sk-container-id-4 div.sk-label input.sk-toggleable__control:checked~label.sk-toggleable__label {background-color: #d4ebff;}#sk-container-id-4 input.sk-hidden--visually {border: 0;clip: rect(1px 1px 1px 1px);clip: rect(1px, 1px, 1px, 1px);height: 1px;margin: -1px;overflow: hidden;padding: 0;position: absolute;width: 1px;}#sk-container-id-4 div.sk-estimator {font-family: monospace;background-color: #f0f8ff;border: 1px dotted black;border-radius: 0.25em;box-sizing: border-box;margin-bottom: 0.5em;}#sk-container-id-4 div.sk-estimator:hover {background-color: #d4ebff;}#sk-container-id-4 div.sk-parallel-item::after {content: \"\";width: 100%;border-bottom: 1px solid gray;flex-grow: 1;}#sk-container-id-4 div.sk-label:hover label.sk-toggleable__label {background-color: #d4ebff;}#sk-container-id-4 div.sk-serial::before {content: \"\";position: absolute;border-left: 1px solid gray;box-sizing: border-box;top: 0;bottom: 0;left: 50%;z-index: 0;}#sk-container-id-4 div.sk-serial {display: flex;flex-direction: column;align-items: center;background-color: white;padding-right: 0.2em;padding-left: 0.2em;position: relative;}#sk-container-id-4 div.sk-item {position: relative;z-index: 1;}#sk-container-id-4 div.sk-parallel {display: flex;align-items: stretch;justify-content: center;background-color: white;position: relative;}#sk-container-id-4 div.sk-item::before, #sk-container-id-4 div.sk-parallel-item::before {content: \"\";position: absolute;border-left: 1px solid gray;box-sizing: border-box;top: 0;bottom: 0;left: 50%;z-index: -1;}#sk-container-id-4 div.sk-parallel-item {display: flex;flex-direction: column;z-index: 1;position: relative;background-color: white;}#sk-container-id-4 div.sk-parallel-item:first-child::after {align-self: flex-end;width: 50%;}#sk-container-id-4 div.sk-parallel-item:last-child::after {align-self: flex-start;width: 50%;}#sk-container-id-4 div.sk-parallel-item:only-child::after {width: 0;}#sk-container-id-4 div.sk-dashed-wrapped {border: 1px dashed gray;margin: 0 0.4em 0.5em 0.4em;box-sizing: border-box;padding-bottom: 0.4em;background-color: white;}#sk-container-id-4 div.sk-label label {font-family: monospace;font-weight: bold;display: inline-block;line-height: 1.2em;}#sk-container-id-4 div.sk-label-container {text-align: center;}#sk-container-id-4 div.sk-container {/* jupyter's `normalize.less` sets `[hidden] { display: none; }` but bootstrap.min.css set `[hidden] { display: none !important; }` so we also need the `!important` here to be able to override the default hidden behavior on the sphinx rendered scikit-learn.org. See: https://github.com/scikit-learn/scikit-learn/issues/21755 */display: inline-block !important;position: relative;}#sk-container-id-4 div.sk-text-repr-fallback {display: none;}</style><div id=\"sk-container-id-4\" class=\"sk-top-container\"><div class=\"sk-text-repr-fallback\"><pre>LogisticRegression(random_state=123, solver=&#x27;liblinear&#x27;)</pre><b>In a Jupyter environment, please rerun this cell to show the HTML representation or trust the notebook. <br />On GitHub, the HTML representation is unable to render, please try loading this page with nbviewer.org.</b></div><div class=\"sk-container\" hidden><div class=\"sk-item\"><div class=\"sk-estimator sk-toggleable\"><input class=\"sk-toggleable__control sk-hidden--visually\" id=\"sk-estimator-id-4\" type=\"checkbox\" checked><label for=\"sk-estimator-id-4\" class=\"sk-toggleable__label sk-toggleable__label-arrow\">LogisticRegression</label><div class=\"sk-toggleable__content\"><pre>LogisticRegression(random_state=123, solver=&#x27;liblinear&#x27;)</pre></div></div></div></div></div>"
      ],
      "text/plain": [
       "LogisticRegression(random_state=123, solver='liblinear')"
      ]
     },
     "execution_count": 64,
     "metadata": {},
     "output_type": "execute_result"
    }
   ],
   "source": [
    "# Fit the model\n",
    "logit.fit(X_train, y_train)"
   ]
  },
  {
   "cell_type": "code",
   "execution_count": 65,
   "id": "0a5b8dbb",
   "metadata": {},
   "outputs": [
    {
     "data": {
      "text/plain": [
       "0.7900076084199847"
      ]
     },
     "execution_count": 65,
     "metadata": {},
     "output_type": "execute_result"
    }
   ],
   "source": [
    "logit.score(X_train, y_train)"
   ]
  },
  {
   "cell_type": "code",
   "execution_count": 66,
   "id": "26c05d87",
   "metadata": {},
   "outputs": [
    {
     "data": {
      "text/plain": [
       "0.8036664695446482"
      ]
     },
     "execution_count": 66,
     "metadata": {},
     "output_type": "execute_result"
    }
   ],
   "source": [
    "logit.score(X_validate, y_validate)"
   ]
  },
  {
   "cell_type": "code",
   "execution_count": 67,
   "id": "057802af",
   "metadata": {},
   "outputs": [
    {
     "name": "stdout",
     "output_type": "stream",
     "text": [
      "<class 'pandas.core.frame.DataFrame'>\n",
      "Int64Index: 3943 entries, 5310 to 6817\n",
      "Data columns (total 16 columns):\n",
      " #   Column                               Non-Null Count  Dtype  \n",
      "---  ------                               --------------  -----  \n",
      " 0   index                                3943 non-null   int64  \n",
      " 1   senior_citizen                       3943 non-null   int64  \n",
      " 2   tenure                               3943 non-null   int64  \n",
      " 3   monthly_charges                      3943 non-null   float64\n",
      " 4   dependents_no                        3943 non-null   uint8  \n",
      " 5   dependents_yes                       3943 non-null   uint8  \n",
      " 6   multiple_lines_no                    3943 non-null   uint8  \n",
      " 7   multiple_lines_no_phone_service      3943 non-null   uint8  \n",
      " 8   multiple_lines_yes                   3943 non-null   uint8  \n",
      " 9   online_security_no                   3943 non-null   uint8  \n",
      " 10  online_security_no_internet_service  3943 non-null   uint8  \n",
      " 11  online_security_yes_internet         3943 non-null   uint8  \n",
      " 12  contract_type_month-to-month         3943 non-null   uint8  \n",
      " 13  contract_type_one_year               3943 non-null   uint8  \n",
      " 14  contract_type_two_year               3943 non-null   uint8  \n",
      " 15  churn_numeric                        3943 non-null   int64  \n",
      "dtypes: float64(1), int64(4), uint8(11)\n",
      "memory usage: 227.2 KB\n"
     ]
    }
   ],
   "source": [
    "train.info()"
   ]
  },
  {
   "cell_type": "code",
   "execution_count": null,
   "id": "011f7e25",
   "metadata": {},
   "outputs": [],
   "source": []
  }
 ],
 "metadata": {
  "kernelspec": {
   "display_name": "Python 3 (ipykernel)",
   "language": "python",
   "name": "python3"
  },
  "language_info": {
   "codemirror_mode": {
    "name": "ipython",
    "version": 3
   },
   "file_extension": ".py",
   "mimetype": "text/x-python",
   "name": "python",
   "nbconvert_exporter": "python",
   "pygments_lexer": "ipython3",
   "version": "3.9.15"
  },
  "toc": {
   "base_numbering": 1,
   "nav_menu": {},
   "number_sections": true,
   "sideBar": true,
   "skip_h1_title": false,
   "title_cell": "Table of Contents",
   "title_sidebar": "Contents",
   "toc_cell": false,
   "toc_position": {
    "height": "calc(100% - 180px)",
    "left": "10px",
    "top": "150px",
    "width": "228.188px"
   },
   "toc_section_display": true,
   "toc_window_display": false
  }
 },
 "nbformat": 4,
 "nbformat_minor": 5
}
