{
 "cells": [
  {
   "cell_type": "code",
   "execution_count": 1,
   "id": "5e951776",
   "metadata": {},
   "outputs": [],
   "source": [
    "import pandas as pd\n",
    "import numpy as np\n",
    "from scipy import stats\n",
    "from pydataset import data\n",
    "import os\n",
    "import env\n",
    "import acquire \n",
    "import prepare\n",
    "\n",
    "import matplotlib.pyplot as plt\n",
    "import seaborn as sns\n",
    "%matplotlib inline\n",
    "\n",
    "from sklearn.model_selection import train_test_split\n",
    "from sklearn.impute import SimpleImputer\n",
    "from sklearn.metrics import accuracy_score\n",
    "from sklearn.metrics import precision_score\n",
    "from sklearn.metrics import recall_score\n",
    "from sklearn.metrics import classification_report\n",
    "from sklearn.tree import DecisionTreeClassifier, plot_tree\n",
    "from sklearn.model_selection import train_test_split\n",
    "from sklearn.metrics import confusion_matrix\n",
    "from sklearn.ensemble import RandomForestClassifier\n",
    "from sklearn.neighbors import KNeighborsClassifier\n",
    "from sklearn.metrics import ConfusionMatrixDisplay\n",
    "from sklearn.linear_model import LogisticRegression\n",
    "\n",
    "\n",
    "import warnings\n",
    "warnings.filterwarnings(\"ignore\")"
   ]
  },
  {
   "cell_type": "code",
   "execution_count": 2,
   "id": "39dbb7d1",
   "metadata": {},
   "outputs": [],
   "source": [
    "# Acquiring telco churn data\n",
    "\n",
    "telco = acquire.get_telco_data()"
   ]
  },
  {
   "cell_type": "code",
   "execution_count": 3,
   "id": "df542d74",
   "metadata": {},
   "outputs": [
    {
     "data": {
      "text/html": [
       "<div>\n",
       "<style scoped>\n",
       "    .dataframe tbody tr th:only-of-type {\n",
       "        vertical-align: middle;\n",
       "    }\n",
       "\n",
       "    .dataframe tbody tr th {\n",
       "        vertical-align: top;\n",
       "    }\n",
       "\n",
       "    .dataframe thead th {\n",
       "        text-align: right;\n",
       "    }\n",
       "</style>\n",
       "<table border=\"1\" class=\"dataframe\">\n",
       "  <thead>\n",
       "    <tr style=\"text-align: right;\">\n",
       "      <th></th>\n",
       "      <th>internet_service_type_id</th>\n",
       "      <th>contract_type_id</th>\n",
       "      <th>customer_id</th>\n",
       "      <th>gender</th>\n",
       "      <th>senior_citizen</th>\n",
       "      <th>partner</th>\n",
       "      <th>dependents</th>\n",
       "      <th>tenure</th>\n",
       "      <th>phone_service</th>\n",
       "      <th>multiple_lines</th>\n",
       "      <th>...</th>\n",
       "      <th>tech_support</th>\n",
       "      <th>streaming_tv</th>\n",
       "      <th>streaming_movies</th>\n",
       "      <th>paperless_billing</th>\n",
       "      <th>monthly_charges</th>\n",
       "      <th>total_charges</th>\n",
       "      <th>churn</th>\n",
       "      <th>contract_type</th>\n",
       "      <th>internet_service_type</th>\n",
       "      <th>payment_type</th>\n",
       "    </tr>\n",
       "    <tr>\n",
       "      <th>payment_type_id</th>\n",
       "      <th></th>\n",
       "      <th></th>\n",
       "      <th></th>\n",
       "      <th></th>\n",
       "      <th></th>\n",
       "      <th></th>\n",
       "      <th></th>\n",
       "      <th></th>\n",
       "      <th></th>\n",
       "      <th></th>\n",
       "      <th></th>\n",
       "      <th></th>\n",
       "      <th></th>\n",
       "      <th></th>\n",
       "      <th></th>\n",
       "      <th></th>\n",
       "      <th></th>\n",
       "      <th></th>\n",
       "      <th></th>\n",
       "      <th></th>\n",
       "      <th></th>\n",
       "    </tr>\n",
       "  </thead>\n",
       "  <tbody>\n",
       "    <tr>\n",
       "      <th>2</th>\n",
       "      <td>1</td>\n",
       "      <td>2</td>\n",
       "      <td>0002-ORFBO</td>\n",
       "      <td>Female</td>\n",
       "      <td>0</td>\n",
       "      <td>Yes</td>\n",
       "      <td>Yes</td>\n",
       "      <td>9</td>\n",
       "      <td>Yes</td>\n",
       "      <td>No</td>\n",
       "      <td>...</td>\n",
       "      <td>Yes</td>\n",
       "      <td>Yes</td>\n",
       "      <td>No</td>\n",
       "      <td>Yes</td>\n",
       "      <td>65.6</td>\n",
       "      <td>593.3</td>\n",
       "      <td>No</td>\n",
       "      <td>One year</td>\n",
       "      <td>DSL</td>\n",
       "      <td>Mailed check</td>\n",
       "    </tr>\n",
       "    <tr>\n",
       "      <th>2</th>\n",
       "      <td>1</td>\n",
       "      <td>1</td>\n",
       "      <td>0003-MKNFE</td>\n",
       "      <td>Male</td>\n",
       "      <td>0</td>\n",
       "      <td>No</td>\n",
       "      <td>No</td>\n",
       "      <td>9</td>\n",
       "      <td>Yes</td>\n",
       "      <td>Yes</td>\n",
       "      <td>...</td>\n",
       "      <td>No</td>\n",
       "      <td>No</td>\n",
       "      <td>Yes</td>\n",
       "      <td>No</td>\n",
       "      <td>59.9</td>\n",
       "      <td>542.4</td>\n",
       "      <td>No</td>\n",
       "      <td>Month-to-month</td>\n",
       "      <td>DSL</td>\n",
       "      <td>Mailed check</td>\n",
       "    </tr>\n",
       "    <tr>\n",
       "      <th>1</th>\n",
       "      <td>2</td>\n",
       "      <td>1</td>\n",
       "      <td>0004-TLHLJ</td>\n",
       "      <td>Male</td>\n",
       "      <td>0</td>\n",
       "      <td>No</td>\n",
       "      <td>No</td>\n",
       "      <td>4</td>\n",
       "      <td>Yes</td>\n",
       "      <td>No</td>\n",
       "      <td>...</td>\n",
       "      <td>No</td>\n",
       "      <td>No</td>\n",
       "      <td>No</td>\n",
       "      <td>Yes</td>\n",
       "      <td>73.9</td>\n",
       "      <td>280.85</td>\n",
       "      <td>Yes</td>\n",
       "      <td>Month-to-month</td>\n",
       "      <td>Fiber optic</td>\n",
       "      <td>Electronic check</td>\n",
       "    </tr>\n",
       "    <tr>\n",
       "      <th>1</th>\n",
       "      <td>2</td>\n",
       "      <td>1</td>\n",
       "      <td>0011-IGKFF</td>\n",
       "      <td>Male</td>\n",
       "      <td>1</td>\n",
       "      <td>Yes</td>\n",
       "      <td>No</td>\n",
       "      <td>13</td>\n",
       "      <td>Yes</td>\n",
       "      <td>No</td>\n",
       "      <td>...</td>\n",
       "      <td>No</td>\n",
       "      <td>Yes</td>\n",
       "      <td>Yes</td>\n",
       "      <td>Yes</td>\n",
       "      <td>98.0</td>\n",
       "      <td>1237.85</td>\n",
       "      <td>Yes</td>\n",
       "      <td>Month-to-month</td>\n",
       "      <td>Fiber optic</td>\n",
       "      <td>Electronic check</td>\n",
       "    </tr>\n",
       "    <tr>\n",
       "      <th>2</th>\n",
       "      <td>2</td>\n",
       "      <td>1</td>\n",
       "      <td>0013-EXCHZ</td>\n",
       "      <td>Female</td>\n",
       "      <td>1</td>\n",
       "      <td>Yes</td>\n",
       "      <td>No</td>\n",
       "      <td>3</td>\n",
       "      <td>Yes</td>\n",
       "      <td>No</td>\n",
       "      <td>...</td>\n",
       "      <td>Yes</td>\n",
       "      <td>Yes</td>\n",
       "      <td>No</td>\n",
       "      <td>Yes</td>\n",
       "      <td>83.9</td>\n",
       "      <td>267.4</td>\n",
       "      <td>Yes</td>\n",
       "      <td>Month-to-month</td>\n",
       "      <td>Fiber optic</td>\n",
       "      <td>Mailed check</td>\n",
       "    </tr>\n",
       "  </tbody>\n",
       "</table>\n",
       "<p>5 rows × 23 columns</p>\n",
       "</div>"
      ],
      "text/plain": [
       "                 internet_service_type_id  contract_type_id customer_id  \\\n",
       "payment_type_id                                                           \n",
       "2                                       1                 2  0002-ORFBO   \n",
       "2                                       1                 1  0003-MKNFE   \n",
       "1                                       2                 1  0004-TLHLJ   \n",
       "1                                       2                 1  0011-IGKFF   \n",
       "2                                       2                 1  0013-EXCHZ   \n",
       "\n",
       "                 gender  senior_citizen partner dependents  tenure  \\\n",
       "payment_type_id                                                      \n",
       "2                Female               0     Yes        Yes       9   \n",
       "2                  Male               0      No         No       9   \n",
       "1                  Male               0      No         No       4   \n",
       "1                  Male               1     Yes         No      13   \n",
       "2                Female               1     Yes         No       3   \n",
       "\n",
       "                phone_service multiple_lines  ... tech_support streaming_tv  \\\n",
       "payment_type_id                               ...                             \n",
       "2                         Yes             No  ...          Yes          Yes   \n",
       "2                         Yes            Yes  ...           No           No   \n",
       "1                         Yes             No  ...           No           No   \n",
       "1                         Yes             No  ...           No          Yes   \n",
       "2                         Yes             No  ...          Yes          Yes   \n",
       "\n",
       "                streaming_movies paperless_billing monthly_charges  \\\n",
       "payment_type_id                                                      \n",
       "2                             No               Yes            65.6   \n",
       "2                            Yes                No            59.9   \n",
       "1                             No               Yes            73.9   \n",
       "1                            Yes               Yes            98.0   \n",
       "2                             No               Yes            83.9   \n",
       "\n",
       "                total_charges churn   contract_type internet_service_type  \\\n",
       "payment_type_id                                                             \n",
       "2                       593.3    No        One year                   DSL   \n",
       "2                       542.4    No  Month-to-month                   DSL   \n",
       "1                      280.85   Yes  Month-to-month           Fiber optic   \n",
       "1                     1237.85   Yes  Month-to-month           Fiber optic   \n",
       "2                       267.4   Yes  Month-to-month           Fiber optic   \n",
       "\n",
       "                     payment_type  \n",
       "payment_type_id                    \n",
       "2                    Mailed check  \n",
       "2                    Mailed check  \n",
       "1                Electronic check  \n",
       "1                Electronic check  \n",
       "2                    Mailed check  \n",
       "\n",
       "[5 rows x 23 columns]"
      ]
     },
     "execution_count": 3,
     "metadata": {},
     "output_type": "execute_result"
    }
   ],
   "source": [
    "telco.head()"
   ]
  },
  {
   "cell_type": "code",
   "execution_count": 4,
   "id": "2c28600e",
   "metadata": {},
   "outputs": [],
   "source": [
    "# Reset Index so that payment_type_id is not the index\n",
    "telco = telco.reset_index()\n"
   ]
  },
  {
   "cell_type": "code",
   "execution_count": 5,
   "id": "b2bb5f5e",
   "metadata": {},
   "outputs": [],
   "source": [
    "# Using prep_telco() to clean the data and create dummy variables.\n",
    "# Dropped any duplicates\n",
    "# Droped: payment_type_id, internet_service_type_id, contract_type_id\n",
    "# Dummies: contract_type, internet_service_type, payment_type\n",
    "\n",
    "telco_df = prepare.prep_telco(telco)\n"
   ]
  },
  {
   "cell_type": "code",
   "execution_count": 6,
   "id": "6a6db5c2",
   "metadata": {},
   "outputs": [
    {
     "data": {
      "text/html": [
       "<div>\n",
       "<style scoped>\n",
       "    .dataframe tbody tr th:only-of-type {\n",
       "        vertical-align: middle;\n",
       "    }\n",
       "\n",
       "    .dataframe tbody tr th {\n",
       "        vertical-align: top;\n",
       "    }\n",
       "\n",
       "    .dataframe thead th {\n",
       "        text-align: right;\n",
       "    }\n",
       "</style>\n",
       "<table border=\"1\" class=\"dataframe\">\n",
       "  <thead>\n",
       "    <tr style=\"text-align: right;\">\n",
       "      <th></th>\n",
       "      <th>customer_id</th>\n",
       "      <th>gender</th>\n",
       "      <th>senior_citizen</th>\n",
       "      <th>partner</th>\n",
       "      <th>dependents</th>\n",
       "      <th>tenure</th>\n",
       "      <th>phone_service</th>\n",
       "      <th>multiple_lines</th>\n",
       "      <th>online_security</th>\n",
       "      <th>online_backup</th>\n",
       "      <th>...</th>\n",
       "      <th>contract_type_Month-to-month</th>\n",
       "      <th>contract_type_One year</th>\n",
       "      <th>contract_type_Two year</th>\n",
       "      <th>internet_service_type_DSL</th>\n",
       "      <th>internet_service_type_Fiber optic</th>\n",
       "      <th>internet_service_type_None</th>\n",
       "      <th>payment_type_Bank transfer (automatic)</th>\n",
       "      <th>payment_type_Credit card (automatic)</th>\n",
       "      <th>payment_type_Electronic check</th>\n",
       "      <th>payment_type_Mailed check</th>\n",
       "    </tr>\n",
       "  </thead>\n",
       "  <tbody>\n",
       "    <tr>\n",
       "      <th>0</th>\n",
       "      <td>0002-ORFBO</td>\n",
       "      <td>Female</td>\n",
       "      <td>0</td>\n",
       "      <td>Yes</td>\n",
       "      <td>Yes</td>\n",
       "      <td>9</td>\n",
       "      <td>Yes</td>\n",
       "      <td>No</td>\n",
       "      <td>No</td>\n",
       "      <td>Yes</td>\n",
       "      <td>...</td>\n",
       "      <td>0</td>\n",
       "      <td>1</td>\n",
       "      <td>0</td>\n",
       "      <td>1</td>\n",
       "      <td>0</td>\n",
       "      <td>0</td>\n",
       "      <td>0</td>\n",
       "      <td>0</td>\n",
       "      <td>0</td>\n",
       "      <td>1</td>\n",
       "    </tr>\n",
       "    <tr>\n",
       "      <th>1</th>\n",
       "      <td>0003-MKNFE</td>\n",
       "      <td>Male</td>\n",
       "      <td>0</td>\n",
       "      <td>No</td>\n",
       "      <td>No</td>\n",
       "      <td>9</td>\n",
       "      <td>Yes</td>\n",
       "      <td>Yes</td>\n",
       "      <td>No</td>\n",
       "      <td>No</td>\n",
       "      <td>...</td>\n",
       "      <td>1</td>\n",
       "      <td>0</td>\n",
       "      <td>0</td>\n",
       "      <td>1</td>\n",
       "      <td>0</td>\n",
       "      <td>0</td>\n",
       "      <td>0</td>\n",
       "      <td>0</td>\n",
       "      <td>0</td>\n",
       "      <td>1</td>\n",
       "    </tr>\n",
       "    <tr>\n",
       "      <th>2</th>\n",
       "      <td>0004-TLHLJ</td>\n",
       "      <td>Male</td>\n",
       "      <td>0</td>\n",
       "      <td>No</td>\n",
       "      <td>No</td>\n",
       "      <td>4</td>\n",
       "      <td>Yes</td>\n",
       "      <td>No</td>\n",
       "      <td>No</td>\n",
       "      <td>No</td>\n",
       "      <td>...</td>\n",
       "      <td>1</td>\n",
       "      <td>0</td>\n",
       "      <td>0</td>\n",
       "      <td>0</td>\n",
       "      <td>1</td>\n",
       "      <td>0</td>\n",
       "      <td>0</td>\n",
       "      <td>0</td>\n",
       "      <td>1</td>\n",
       "      <td>0</td>\n",
       "    </tr>\n",
       "    <tr>\n",
       "      <th>3</th>\n",
       "      <td>0011-IGKFF</td>\n",
       "      <td>Male</td>\n",
       "      <td>1</td>\n",
       "      <td>Yes</td>\n",
       "      <td>No</td>\n",
       "      <td>13</td>\n",
       "      <td>Yes</td>\n",
       "      <td>No</td>\n",
       "      <td>No</td>\n",
       "      <td>Yes</td>\n",
       "      <td>...</td>\n",
       "      <td>1</td>\n",
       "      <td>0</td>\n",
       "      <td>0</td>\n",
       "      <td>0</td>\n",
       "      <td>1</td>\n",
       "      <td>0</td>\n",
       "      <td>0</td>\n",
       "      <td>0</td>\n",
       "      <td>1</td>\n",
       "      <td>0</td>\n",
       "    </tr>\n",
       "    <tr>\n",
       "      <th>4</th>\n",
       "      <td>0013-EXCHZ</td>\n",
       "      <td>Female</td>\n",
       "      <td>1</td>\n",
       "      <td>Yes</td>\n",
       "      <td>No</td>\n",
       "      <td>3</td>\n",
       "      <td>Yes</td>\n",
       "      <td>No</td>\n",
       "      <td>No</td>\n",
       "      <td>No</td>\n",
       "      <td>...</td>\n",
       "      <td>1</td>\n",
       "      <td>0</td>\n",
       "      <td>0</td>\n",
       "      <td>0</td>\n",
       "      <td>1</td>\n",
       "      <td>0</td>\n",
       "      <td>0</td>\n",
       "      <td>0</td>\n",
       "      <td>0</td>\n",
       "      <td>1</td>\n",
       "    </tr>\n",
       "  </tbody>\n",
       "</table>\n",
       "<p>5 rows × 31 columns</p>\n",
       "</div>"
      ],
      "text/plain": [
       "  customer_id  gender  senior_citizen partner dependents  tenure  \\\n",
       "0  0002-ORFBO  Female               0     Yes        Yes       9   \n",
       "1  0003-MKNFE    Male               0      No         No       9   \n",
       "2  0004-TLHLJ    Male               0      No         No       4   \n",
       "3  0011-IGKFF    Male               1     Yes         No      13   \n",
       "4  0013-EXCHZ  Female               1     Yes         No       3   \n",
       "\n",
       "  phone_service multiple_lines online_security online_backup  ...  \\\n",
       "0           Yes             No              No           Yes  ...   \n",
       "1           Yes            Yes              No            No  ...   \n",
       "2           Yes             No              No            No  ...   \n",
       "3           Yes             No              No           Yes  ...   \n",
       "4           Yes             No              No            No  ...   \n",
       "\n",
       "  contract_type_Month-to-month contract_type_One year contract_type_Two year  \\\n",
       "0                            0                      1                      0   \n",
       "1                            1                      0                      0   \n",
       "2                            1                      0                      0   \n",
       "3                            1                      0                      0   \n",
       "4                            1                      0                      0   \n",
       "\n",
       "  internet_service_type_DSL internet_service_type_Fiber optic  \\\n",
       "0                         1                                 0   \n",
       "1                         1                                 0   \n",
       "2                         0                                 1   \n",
       "3                         0                                 1   \n",
       "4                         0                                 1   \n",
       "\n",
       "   internet_service_type_None payment_type_Bank transfer (automatic)  \\\n",
       "0                           0                                      0   \n",
       "1                           0                                      0   \n",
       "2                           0                                      0   \n",
       "3                           0                                      0   \n",
       "4                           0                                      0   \n",
       "\n",
       "  payment_type_Credit card (automatic) payment_type_Electronic check  \\\n",
       "0                                    0                             0   \n",
       "1                                    0                             0   \n",
       "2                                    0                             1   \n",
       "3                                    0                             1   \n",
       "4                                    0                             0   \n",
       "\n",
       "  payment_type_Mailed check  \n",
       "0                         1  \n",
       "1                         1  \n",
       "2                         0  \n",
       "3                         0  \n",
       "4                         1  \n",
       "\n",
       "[5 rows x 31 columns]"
      ]
     },
     "execution_count": 6,
     "metadata": {},
     "output_type": "execute_result"
    }
   ],
   "source": [
    "# telco df\n",
    "telco_df.head()"
   ]
  },
  {
   "cell_type": "code",
   "execution_count": 7,
   "id": "ba878c58",
   "metadata": {},
   "outputs": [
    {
     "data": {
      "text/plain": [
       "No                     3498\n",
       "Yes                    2019\n",
       "No internet service    1526\n",
       "Name: online_security, dtype: int64"
      ]
     },
     "execution_count": 7,
     "metadata": {},
     "output_type": "execute_result"
    }
   ],
   "source": [
    "# Value counts for online security. Will remove No internet service before pulling dummies\n",
    "telco_df.online_security.value_counts()"
   ]
  },
  {
   "cell_type": "code",
   "execution_count": 8,
   "id": "2d9b6b4c",
   "metadata": {},
   "outputs": [],
   "source": [
    "# No internet service is about 20% of the online_security column\n"
   ]
  },
  {
   "cell_type": "code",
   "execution_count": 9,
   "id": "d1b86021",
   "metadata": {},
   "outputs": [],
   "source": [
    "# creating dummies for add-ons and removing columns\n",
    "dummies = pd.get_dummies(telco[['dependents','multiple_lines','tech_support','online_security', 'online_backup', 'device_protection']], dummy_na=False, drop_first=True)"
   ]
  },
  {
   "cell_type": "code",
   "execution_count": 10,
   "id": "98f12502",
   "metadata": {},
   "outputs": [],
   "source": [
    "# concat dummies and telco df\n",
    "telco_df = pd.concat([telco_df, dummies], axis=1)"
   ]
  },
  {
   "cell_type": "code",
   "execution_count": 11,
   "id": "ff0b9362",
   "metadata": {},
   "outputs": [],
   "source": [
    "# drop columns used to create dummies\n",
    "telco_df = telco_df.drop(['online_backup', 'device_protection'], axis=1)"
   ]
  },
  {
   "cell_type": "code",
   "execution_count": 12,
   "id": "d0113d6b",
   "metadata": {},
   "outputs": [
    {
     "data": {
      "text/html": [
       "<div>\n",
       "<style scoped>\n",
       "    .dataframe tbody tr th:only-of-type {\n",
       "        vertical-align: middle;\n",
       "    }\n",
       "\n",
       "    .dataframe tbody tr th {\n",
       "        vertical-align: top;\n",
       "    }\n",
       "\n",
       "    .dataframe thead th {\n",
       "        text-align: right;\n",
       "    }\n",
       "</style>\n",
       "<table border=\"1\" class=\"dataframe\">\n",
       "  <thead>\n",
       "    <tr style=\"text-align: right;\">\n",
       "      <th></th>\n",
       "      <th>customer_id</th>\n",
       "      <th>gender</th>\n",
       "      <th>senior_citizen</th>\n",
       "      <th>partner</th>\n",
       "      <th>dependents</th>\n",
       "      <th>tenure</th>\n",
       "      <th>phone_service</th>\n",
       "      <th>multiple_lines</th>\n",
       "      <th>online_security</th>\n",
       "      <th>tech_support</th>\n",
       "      <th>...</th>\n",
       "      <th>multiple_lines_No phone service</th>\n",
       "      <th>multiple_lines_Yes</th>\n",
       "      <th>tech_support_No internet service</th>\n",
       "      <th>tech_support_Yes</th>\n",
       "      <th>online_security_No internet service</th>\n",
       "      <th>online_security_Yes</th>\n",
       "      <th>online_backup_No internet service</th>\n",
       "      <th>online_backup_Yes</th>\n",
       "      <th>device_protection_No internet service</th>\n",
       "      <th>device_protection_Yes</th>\n",
       "    </tr>\n",
       "  </thead>\n",
       "  <tbody>\n",
       "    <tr>\n",
       "      <th>0</th>\n",
       "      <td>0002-ORFBO</td>\n",
       "      <td>Female</td>\n",
       "      <td>0</td>\n",
       "      <td>Yes</td>\n",
       "      <td>Yes</td>\n",
       "      <td>9</td>\n",
       "      <td>Yes</td>\n",
       "      <td>No</td>\n",
       "      <td>No</td>\n",
       "      <td>Yes</td>\n",
       "      <td>...</td>\n",
       "      <td>0</td>\n",
       "      <td>0</td>\n",
       "      <td>0</td>\n",
       "      <td>1</td>\n",
       "      <td>0</td>\n",
       "      <td>0</td>\n",
       "      <td>0</td>\n",
       "      <td>1</td>\n",
       "      <td>0</td>\n",
       "      <td>0</td>\n",
       "    </tr>\n",
       "    <tr>\n",
       "      <th>1</th>\n",
       "      <td>0003-MKNFE</td>\n",
       "      <td>Male</td>\n",
       "      <td>0</td>\n",
       "      <td>No</td>\n",
       "      <td>No</td>\n",
       "      <td>9</td>\n",
       "      <td>Yes</td>\n",
       "      <td>Yes</td>\n",
       "      <td>No</td>\n",
       "      <td>No</td>\n",
       "      <td>...</td>\n",
       "      <td>0</td>\n",
       "      <td>1</td>\n",
       "      <td>0</td>\n",
       "      <td>0</td>\n",
       "      <td>0</td>\n",
       "      <td>0</td>\n",
       "      <td>0</td>\n",
       "      <td>0</td>\n",
       "      <td>0</td>\n",
       "      <td>0</td>\n",
       "    </tr>\n",
       "    <tr>\n",
       "      <th>2</th>\n",
       "      <td>0004-TLHLJ</td>\n",
       "      <td>Male</td>\n",
       "      <td>0</td>\n",
       "      <td>No</td>\n",
       "      <td>No</td>\n",
       "      <td>4</td>\n",
       "      <td>Yes</td>\n",
       "      <td>No</td>\n",
       "      <td>No</td>\n",
       "      <td>No</td>\n",
       "      <td>...</td>\n",
       "      <td>0</td>\n",
       "      <td>0</td>\n",
       "      <td>0</td>\n",
       "      <td>0</td>\n",
       "      <td>0</td>\n",
       "      <td>0</td>\n",
       "      <td>0</td>\n",
       "      <td>0</td>\n",
       "      <td>0</td>\n",
       "      <td>1</td>\n",
       "    </tr>\n",
       "  </tbody>\n",
       "</table>\n",
       "<p>3 rows × 40 columns</p>\n",
       "</div>"
      ],
      "text/plain": [
       "  customer_id  gender  senior_citizen partner dependents  tenure  \\\n",
       "0  0002-ORFBO  Female               0     Yes        Yes       9   \n",
       "1  0003-MKNFE    Male               0      No         No       9   \n",
       "2  0004-TLHLJ    Male               0      No         No       4   \n",
       "\n",
       "  phone_service multiple_lines online_security tech_support  ...  \\\n",
       "0           Yes             No              No          Yes  ...   \n",
       "1           Yes            Yes              No           No  ...   \n",
       "2           Yes             No              No           No  ...   \n",
       "\n",
       "  multiple_lines_No phone service multiple_lines_Yes  \\\n",
       "0                               0                  0   \n",
       "1                               0                  1   \n",
       "2                               0                  0   \n",
       "\n",
       "  tech_support_No internet service  tech_support_Yes  \\\n",
       "0                                0                 1   \n",
       "1                                0                 0   \n",
       "2                                0                 0   \n",
       "\n",
       "  online_security_No internet service online_security_Yes  \\\n",
       "0                                   0                   0   \n",
       "1                                   0                   0   \n",
       "2                                   0                   0   \n",
       "\n",
       "  online_backup_No internet service online_backup_Yes  \\\n",
       "0                                 0                 1   \n",
       "1                                 0                 0   \n",
       "2                                 0                 0   \n",
       "\n",
       "  device_protection_No internet service  device_protection_Yes  \n",
       "0                                     0                      0  \n",
       "1                                     0                      0  \n",
       "2                                     0                      1  \n",
       "\n",
       "[3 rows x 40 columns]"
      ]
     },
     "execution_count": 12,
     "metadata": {},
     "output_type": "execute_result"
    }
   ],
   "source": [
    "telco_df.head(3)"
   ]
  },
  {
   "cell_type": "code",
   "execution_count": 13,
   "id": "3592db88",
   "metadata": {},
   "outputs": [],
   "source": [
    "# removing spaces from columns\n",
    "telco_df.columns = [c.replace(' ','_') for c in telco_df.columns]"
   ]
  },
  {
   "cell_type": "code",
   "execution_count": 14,
   "id": "2be1a2ab",
   "metadata": {},
   "outputs": [
    {
     "data": {
      "text/html": [
       "<div>\n",
       "<style scoped>\n",
       "    .dataframe tbody tr th:only-of-type {\n",
       "        vertical-align: middle;\n",
       "    }\n",
       "\n",
       "    .dataframe tbody tr th {\n",
       "        vertical-align: top;\n",
       "    }\n",
       "\n",
       "    .dataframe thead th {\n",
       "        text-align: right;\n",
       "    }\n",
       "</style>\n",
       "<table border=\"1\" class=\"dataframe\">\n",
       "  <thead>\n",
       "    <tr style=\"text-align: right;\">\n",
       "      <th></th>\n",
       "      <th>customer_id</th>\n",
       "      <th>gender</th>\n",
       "      <th>senior_citizen</th>\n",
       "      <th>partner</th>\n",
       "      <th>dependents</th>\n",
       "      <th>tenure</th>\n",
       "      <th>phone_service</th>\n",
       "      <th>multiple_lines</th>\n",
       "      <th>online_security</th>\n",
       "      <th>tech_support</th>\n",
       "      <th>...</th>\n",
       "      <th>multiple_lines_No_phone_service</th>\n",
       "      <th>multiple_lines_Yes</th>\n",
       "      <th>tech_support_No_internet_service</th>\n",
       "      <th>tech_support_Yes</th>\n",
       "      <th>online_security_No_internet_service</th>\n",
       "      <th>online_security_Yes</th>\n",
       "      <th>online_backup_No_internet_service</th>\n",
       "      <th>online_backup_Yes</th>\n",
       "      <th>device_protection_No_internet_service</th>\n",
       "      <th>device_protection_Yes</th>\n",
       "    </tr>\n",
       "  </thead>\n",
       "  <tbody>\n",
       "    <tr>\n",
       "      <th>0</th>\n",
       "      <td>0002-ORFBO</td>\n",
       "      <td>Female</td>\n",
       "      <td>0</td>\n",
       "      <td>Yes</td>\n",
       "      <td>Yes</td>\n",
       "      <td>9</td>\n",
       "      <td>Yes</td>\n",
       "      <td>No</td>\n",
       "      <td>No</td>\n",
       "      <td>Yes</td>\n",
       "      <td>...</td>\n",
       "      <td>0</td>\n",
       "      <td>0</td>\n",
       "      <td>0</td>\n",
       "      <td>1</td>\n",
       "      <td>0</td>\n",
       "      <td>0</td>\n",
       "      <td>0</td>\n",
       "      <td>1</td>\n",
       "      <td>0</td>\n",
       "      <td>0</td>\n",
       "    </tr>\n",
       "    <tr>\n",
       "      <th>1</th>\n",
       "      <td>0003-MKNFE</td>\n",
       "      <td>Male</td>\n",
       "      <td>0</td>\n",
       "      <td>No</td>\n",
       "      <td>No</td>\n",
       "      <td>9</td>\n",
       "      <td>Yes</td>\n",
       "      <td>Yes</td>\n",
       "      <td>No</td>\n",
       "      <td>No</td>\n",
       "      <td>...</td>\n",
       "      <td>0</td>\n",
       "      <td>1</td>\n",
       "      <td>0</td>\n",
       "      <td>0</td>\n",
       "      <td>0</td>\n",
       "      <td>0</td>\n",
       "      <td>0</td>\n",
       "      <td>0</td>\n",
       "      <td>0</td>\n",
       "      <td>0</td>\n",
       "    </tr>\n",
       "  </tbody>\n",
       "</table>\n",
       "<p>2 rows × 40 columns</p>\n",
       "</div>"
      ],
      "text/plain": [
       "  customer_id  gender  senior_citizen partner dependents  tenure  \\\n",
       "0  0002-ORFBO  Female               0     Yes        Yes       9   \n",
       "1  0003-MKNFE    Male               0      No         No       9   \n",
       "\n",
       "  phone_service multiple_lines online_security tech_support  ...  \\\n",
       "0           Yes             No              No          Yes  ...   \n",
       "1           Yes            Yes              No           No  ...   \n",
       "\n",
       "  multiple_lines_No_phone_service multiple_lines_Yes  \\\n",
       "0                               0                  0   \n",
       "1                               0                  1   \n",
       "\n",
       "  tech_support_No_internet_service  tech_support_Yes  \\\n",
       "0                                0                 1   \n",
       "1                                0                 0   \n",
       "\n",
       "  online_security_No_internet_service online_security_Yes  \\\n",
       "0                                   0                   0   \n",
       "1                                   0                   0   \n",
       "\n",
       "  online_backup_No_internet_service online_backup_Yes  \\\n",
       "0                                 0                 1   \n",
       "1                                 0                 0   \n",
       "\n",
       "  device_protection_No_internet_service  device_protection_Yes  \n",
       "0                                     0                      0  \n",
       "1                                     0                      0  \n",
       "\n",
       "[2 rows x 40 columns]"
      ]
     },
     "execution_count": 14,
     "metadata": {},
     "output_type": "execute_result"
    }
   ],
   "source": [
    "telco_df.head(2)"
   ]
  },
  {
   "cell_type": "code",
   "execution_count": 15,
   "id": "00262633",
   "metadata": {},
   "outputs": [],
   "source": [
    "# renaming columns\n",
    "telco_df = telco_df.rename(columns={'tech_support_No_internet_service': 'tech_support_no_internet',\\\n",
    "                                    'tech_support_Yes':'tech_support_yes_internet','online_security_No_internet_service': 'online_security_no_internet', \\\n",
    "                        'online_security_Yes': 'online_security_yes_internet', 'device_protection_No_internet_service': \\\n",
    "                        'device_protection_no_internet', 'device_protection_Yes': 'device_protection_yes_internet',\\\n",
    "                        'online_backup_No_internet_service': 'online_backup_no_internet', \\\n",
    "                        'online_backup_Yes': 'online_backup_yes_internet',\\\n",
    "                                   'multiple_lines_No_phone_service':'multiple_lines_no',\\\n",
    "                                   'multiple_lines_Yes': 'multiple_lines_yes'})"
   ]
  },
  {
   "cell_type": "code",
   "execution_count": 16,
   "id": "f3f74a36",
   "metadata": {},
   "outputs": [
    {
     "name": "stdout",
     "output_type": "stream",
     "text": [
      "<class 'pandas.core.frame.DataFrame'>\n",
      "Int64Index: 7043 entries, 0 to 7042\n",
      "Data columns (total 40 columns):\n",
      " #   Column                                  Non-Null Count  Dtype  \n",
      "---  ------                                  --------------  -----  \n",
      " 0   customer_id                             7043 non-null   object \n",
      " 1   gender                                  7043 non-null   object \n",
      " 2   senior_citizen                          7043 non-null   int64  \n",
      " 3   partner                                 7043 non-null   object \n",
      " 4   dependents                              7043 non-null   object \n",
      " 5   tenure                                  7043 non-null   int64  \n",
      " 6   phone_service                           7043 non-null   object \n",
      " 7   multiple_lines                          7043 non-null   object \n",
      " 8   online_security                         7043 non-null   object \n",
      " 9   tech_support                            7043 non-null   object \n",
      " 10  streaming_tv                            7043 non-null   object \n",
      " 11  streaming_movies                        7043 non-null   object \n",
      " 12  paperless_billing                       7043 non-null   object \n",
      " 13  monthly_charges                         7043 non-null   float64\n",
      " 14  total_charges                           7043 non-null   object \n",
      " 15  churn                                   7043 non-null   object \n",
      " 16  contract_type                           7043 non-null   object \n",
      " 17  internet_service_type                   7043 non-null   object \n",
      " 18  payment_type                            7043 non-null   object \n",
      " 19  contract_type_Month-to-month            7043 non-null   uint8  \n",
      " 20  contract_type_One_year                  7043 non-null   uint8  \n",
      " 21  contract_type_Two_year                  7043 non-null   uint8  \n",
      " 22  internet_service_type_DSL               7043 non-null   uint8  \n",
      " 23  internet_service_type_Fiber_optic       7043 non-null   uint8  \n",
      " 24  internet_service_type_None              7043 non-null   uint8  \n",
      " 25  payment_type_Bank_transfer_(automatic)  7043 non-null   uint8  \n",
      " 26  payment_type_Credit_card_(automatic)    7043 non-null   uint8  \n",
      " 27  payment_type_Electronic_check           7043 non-null   uint8  \n",
      " 28  payment_type_Mailed_check               7043 non-null   uint8  \n",
      " 29  dependents_Yes                          7043 non-null   uint8  \n",
      " 30  multiple_lines_no                       7043 non-null   uint8  \n",
      " 31  multiple_lines_yes                      7043 non-null   uint8  \n",
      " 32  tech_support_no_internet                7043 non-null   uint8  \n",
      " 33  tech_support_yes_internet               7043 non-null   uint8  \n",
      " 34  online_security_no_internet             7043 non-null   uint8  \n",
      " 35  online_security_yes_internet            7043 non-null   uint8  \n",
      " 36  online_backup_no_internet               7043 non-null   uint8  \n",
      " 37  online_backup_yes_internet              7043 non-null   uint8  \n",
      " 38  device_protection_no_internet           7043 non-null   uint8  \n",
      " 39  device_protection_yes_internet          7043 non-null   uint8  \n",
      "dtypes: float64(1), int64(2), object(16), uint8(21)\n",
      "memory usage: 1.2+ MB\n"
     ]
    }
   ],
   "source": [
    "# telco_df info. Checking column names\n",
    "telco_df.info()"
   ]
  },
  {
   "cell_type": "code",
   "execution_count": 17,
   "id": "01d8a8a3",
   "metadata": {
    "scrolled": true
   },
   "outputs": [],
   "source": [
    "# lowercased all column names\n",
    "telco_df.columns = [x.lower() for x in telco_df.columns]"
   ]
  },
  {
   "cell_type": "code",
   "execution_count": 18,
   "id": "788a6876",
   "metadata": {},
   "outputs": [],
   "source": [
    "# creating new column where churn is encoded.\n",
    "telco_df['churn_numeric'] = telco_df.churn.str.replace('No','0').str.replace('Yes','1').astype(int)"
   ]
  },
  {
   "cell_type": "code",
   "execution_count": 19,
   "id": "3f3da369",
   "metadata": {},
   "outputs": [],
   "source": [
    "# Splitting data. random state=123\n",
    "train, validate, test = prepare.split_data(df=telco_df, target='churn')"
   ]
  },
  {
   "cell_type": "code",
   "execution_count": 20,
   "id": "7930bb59",
   "metadata": {},
   "outputs": [
    {
     "data": {
      "text/plain": [
       "((3943, 41), (1691, 41), (1409, 41))"
      ]
     },
     "execution_count": 20,
     "metadata": {},
     "output_type": "execute_result"
    }
   ],
   "source": [
    "train.shape, validate.shape, test.shape"
   ]
  },
  {
   "cell_type": "markdown",
   "id": "eff9de1c",
   "metadata": {},
   "source": [
    "## Are month-to-month contracts churning faster than 1yr and 2yr contracts?"
   ]
  },
  {
   "cell_type": "markdown",
   "id": "b48c135c",
   "metadata": {},
   "source": [
    "### Visuals for Contracts vs Churn"
   ]
  },
  {
   "cell_type": "code",
   "execution_count": 21,
   "id": "2f441c72",
   "metadata": {},
   "outputs": [
    {
     "data": {
      "text/plain": [
       "<matplotlib.legend.Legend at 0x14b270dc0>"
      ]
     },
     "execution_count": 21,
     "metadata": {},
     "output_type": "execute_result"
    },
    {
     "data": {
      "image/png": "[encoded data removed]",
      "text/plain": [
       "<Figure size 640x480 with 1 Axes>"
      ]
     },
     "metadata": {},
     "output_type": "display_data"
    }
   ],
   "source": [
    "sns.countplot(x='contract_type', hue='churn', data=train)\n",
    "plt.xlabel('Contract Type')\n",
    "plt.ylabel('Count')\n",
    "plt.legend(['Did not churn', 'Churned'])"
   ]
  },
  {
   "cell_type": "markdown",
   "id": "ec04928c",
   "metadata": {},
   "source": [
    "### Crosstabs for Contracts vs. Churn"
   ]
  },
  {
   "cell_type": "code",
   "execution_count": 22,
   "id": "0cb37f68",
   "metadata": {},
   "outputs": [],
   "source": [
    "# Variables for contract lengths \n",
    "month = train['contract_type']== 'Month-to-month'\n",
    "oneyear = train['contract_type']== 'One year'\n",
    "twoyear = train['contract_type']== 'Two year'"
   ]
  },
  {
   "cell_type": "code",
   "execution_count": 23,
   "id": "3d5c2a96",
   "metadata": {},
   "outputs": [],
   "source": [
    "# variable for churn\n",
    "churn = train['churn']"
   ]
  },
  {
   "cell_type": "code",
   "execution_count": 24,
   "id": "ca43fe7c",
   "metadata": {},
   "outputs": [
    {
     "data": {
      "text/html": [
       "<div>\n",
       "<style scoped>\n",
       "    .dataframe tbody tr th:only-of-type {\n",
       "        vertical-align: middle;\n",
       "    }\n",
       "\n",
       "    .dataframe tbody tr th {\n",
       "        vertical-align: top;\n",
       "    }\n",
       "\n",
       "    .dataframe thead th {\n",
       "        text-align: right;\n",
       "    }\n",
       "</style>\n",
       "<table border=\"1\" class=\"dataframe\">\n",
       "  <thead>\n",
       "    <tr style=\"text-align: right;\">\n",
       "      <th>month-to-month</th>\n",
       "      <th>False</th>\n",
       "      <th>True</th>\n",
       "    </tr>\n",
       "    <tr>\n",
       "      <th>churn</th>\n",
       "      <th></th>\n",
       "      <th></th>\n",
       "    </tr>\n",
       "  </thead>\n",
       "  <tbody>\n",
       "    <tr>\n",
       "      <th>No</th>\n",
       "      <td>1648</td>\n",
       "      <td>1249</td>\n",
       "    </tr>\n",
       "    <tr>\n",
       "      <th>Yes</th>\n",
       "      <td>125</td>\n",
       "      <td>921</td>\n",
       "    </tr>\n",
       "  </tbody>\n",
       "</table>\n",
       "</div>"
      ],
      "text/plain": [
       "month-to-month  False  True\n",
       "churn                      \n",
       "No               1648  1249\n",
       "Yes               125   921"
      ]
     },
     "execution_count": 24,
     "metadata": {},
     "output_type": "execute_result"
    }
   ],
   "source": [
    "# Crosstab for Mtm churn\n",
    "mtm_ct = pd.crosstab(churn, month, colnames=['month-to-month'])\n",
    "mtm_ct"
   ]
  },
  {
   "cell_type": "code",
   "execution_count": 25,
   "id": "0868c8c5",
   "metadata": {},
   "outputs": [
    {
     "data": {
      "text/html": [
       "<div>\n",
       "<style scoped>\n",
       "    .dataframe tbody tr th:only-of-type {\n",
       "        vertical-align: middle;\n",
       "    }\n",
       "\n",
       "    .dataframe tbody tr th {\n",
       "        vertical-align: top;\n",
       "    }\n",
       "\n",
       "    .dataframe thead th {\n",
       "        text-align: right;\n",
       "    }\n",
       "</style>\n",
       "<table border=\"1\" class=\"dataframe\">\n",
       "  <thead>\n",
       "    <tr style=\"text-align: right;\">\n",
       "      <th>one_year</th>\n",
       "      <th>False</th>\n",
       "      <th>True</th>\n",
       "    </tr>\n",
       "    <tr>\n",
       "      <th>churn</th>\n",
       "      <th></th>\n",
       "      <th></th>\n",
       "    </tr>\n",
       "  </thead>\n",
       "  <tbody>\n",
       "    <tr>\n",
       "      <th>No</th>\n",
       "      <td>2144</td>\n",
       "      <td>753</td>\n",
       "    </tr>\n",
       "    <tr>\n",
       "      <th>Yes</th>\n",
       "      <td>950</td>\n",
       "      <td>96</td>\n",
       "    </tr>\n",
       "  </tbody>\n",
       "</table>\n",
       "</div>"
      ],
      "text/plain": [
       "one_year  False  True\n",
       "churn                \n",
       "No         2144   753\n",
       "Yes         950    96"
      ]
     },
     "execution_count": 25,
     "metadata": {},
     "output_type": "execute_result"
    }
   ],
   "source": [
    "# Crosstab for 1yr churn\n",
    "oneyear_ct = pd.crosstab(churn, oneyear, colnames=['one_year'])\n",
    "oneyear_ct"
   ]
  },
  {
   "cell_type": "code",
   "execution_count": 26,
   "id": "7b4fc334",
   "metadata": {},
   "outputs": [
    {
     "data": {
      "text/html": [
       "<div>\n",
       "<style scoped>\n",
       "    .dataframe tbody tr th:only-of-type {\n",
       "        vertical-align: middle;\n",
       "    }\n",
       "\n",
       "    .dataframe tbody tr th {\n",
       "        vertical-align: top;\n",
       "    }\n",
       "\n",
       "    .dataframe thead th {\n",
       "        text-align: right;\n",
       "    }\n",
       "</style>\n",
       "<table border=\"1\" class=\"dataframe\">\n",
       "  <thead>\n",
       "    <tr style=\"text-align: right;\">\n",
       "      <th>two_year</th>\n",
       "      <th>False</th>\n",
       "      <th>True</th>\n",
       "    </tr>\n",
       "    <tr>\n",
       "      <th>churn</th>\n",
       "      <th></th>\n",
       "      <th></th>\n",
       "    </tr>\n",
       "  </thead>\n",
       "  <tbody>\n",
       "    <tr>\n",
       "      <th>No</th>\n",
       "      <td>2002</td>\n",
       "      <td>895</td>\n",
       "    </tr>\n",
       "    <tr>\n",
       "      <th>Yes</th>\n",
       "      <td>1017</td>\n",
       "      <td>29</td>\n",
       "    </tr>\n",
       "  </tbody>\n",
       "</table>\n",
       "</div>"
      ],
      "text/plain": [
       "two_year  False  True\n",
       "churn                \n",
       "No         2002   895\n",
       "Yes        1017    29"
      ]
     },
     "execution_count": 26,
     "metadata": {},
     "output_type": "execute_result"
    }
   ],
   "source": [
    "# Crosstab for 2yr churn\n",
    "twoyear_ct = pd.crosstab(churn, twoyear, colnames=['two_year'])\n",
    "twoyear_ct"
   ]
  },
  {
   "cell_type": "markdown",
   "id": "7783e658",
   "metadata": {},
   "source": [
    "### Stats Testing: Chi^2 test for Contract lenghts vs. Churn"
   ]
  },
  {
   "cell_type": "markdown",
   "id": "18cf4108",
   "metadata": {},
   "source": [
    "H0: There is not a significant difference of churn rate and length of contracts.\n",
    "\n",
    "Ha: There is a significant difference between churn rate and length of contracts.\n",
    "\n",
    "Confidence interval: 95%\n",
    "\n",
    "alpha = 0.05"
   ]
  },
  {
   "cell_type": "code",
   "execution_count": 27,
   "id": "3b9ca576",
   "metadata": {},
   "outputs": [
    {
     "data": {
      "text/plain": [
       "(625.2758701470489, 5.32454352599958e-138)"
      ]
     },
     "execution_count": 27,
     "metadata": {},
     "output_type": "execute_result"
    }
   ],
   "source": [
    "# Mtm \n",
    "chi, p, degf, expected = stats.chi2_contingency(mtm_ct)\n",
    "chi, p"
   ]
  },
  {
   "cell_type": "code",
   "execution_count": 28,
   "id": "61928243",
   "metadata": {},
   "outputs": [
    {
     "data": {
      "text/plain": [
       "(127.60978087886741, 1.3663034788444405e-29)"
      ]
     },
     "execution_count": 28,
     "metadata": {},
     "output_type": "execute_result"
    }
   ],
   "source": [
    "# 1yr\n",
    "chi, p, degf, expected = stats.chi2_contingency(oneyear_ct)\n",
    "chi, p"
   ]
  },
  {
   "cell_type": "code",
   "execution_count": 29,
   "id": "50c26c16",
   "metadata": {},
   "outputs": [
    {
     "data": {
      "text/plain": [
       "(337.16221680297303, 2.6478708937714996e-75)"
      ]
     },
     "execution_count": 29,
     "metadata": {},
     "output_type": "execute_result"
    }
   ],
   "source": [
    "# 2yr\n",
    "chi, p, degf, expected = stats.chi2_contingency(twoyear_ct)\n",
    "chi, p"
   ]
  },
  {
   "cell_type": "markdown",
   "id": "8714593a",
   "metadata": {},
   "source": [
    "<div class=\"alert alert-block alert-success\">\n",
    "<b> P-value is lower than 0.05 on all three Chi^2 tests, thus the null hypothesis on all three are rejected. <b>\n",
    "<br>There is a signifcant difference between monthly charges of month-to-month contracts and 1yr/2yr contracts. <br>\n",
    "    \n"
   ]
  },
  {
   "cell_type": "markdown",
   "id": "672b034c",
   "metadata": {},
   "source": [
    "## Does having add-on services affect churn rate? (add other add-on services after MVP)"
   ]
  },
  {
   "cell_type": "markdown",
   "id": "b09ae342",
   "metadata": {},
   "source": [
    "H0: There is no significant difference in churn rate when customers have the online security add-on services.\n",
    "\n",
    "Ha: There is a significant difference in churn rate when customers have the online security add-on services. \n",
    "\n",
    "Confidence interval = 95%\n",
    "\n",
    "alpha = 0.05"
   ]
  },
  {
   "cell_type": "code",
   "execution_count": 30,
   "id": "0fdb14e0",
   "metadata": {},
   "outputs": [
    {
     "data": {
      "text/plain": [
       "<AxesSubplot:xlabel='online_security', ylabel='count'>"
      ]
     },
     "execution_count": 30,
     "metadata": {},
     "output_type": "execute_result"
    },
    {
     "data": {
      "image/png": "[encoded data removed]",
      "text/plain": [
       "<Figure size 640x480 with 1 Axes>"
      ]
     },
     "metadata": {},
     "output_type": "display_data"
    }
   ],
   "source": [
    "sns.countplot(x='online_security', hue='churn', data=train)"
   ]
  },
  {
   "cell_type": "code",
   "execution_count": 31,
   "id": "fa776272",
   "metadata": {},
   "outputs": [
    {
     "data": {
      "text/plain": [
       "No                     1946\n",
       "Yes                    1148\n",
       "No internet service     849\n",
       "Name: online_security, dtype: int64"
      ]
     },
     "execution_count": 31,
     "metadata": {},
     "output_type": "execute_result"
    }
   ],
   "source": [
    "# Do not want to include 'No Internet Service'. Will use a boolean mask to get rid of it for the Chi^2 test.\n",
    "train.online_security.value_counts()"
   ]
  },
  {
   "cell_type": "code",
   "execution_count": 32,
   "id": "fa2a8f88",
   "metadata": {},
   "outputs": [],
   "source": [
    "# Boolean Mask to remove 'No internet service'\n",
    "online_sec = train[train['online_security'] != 'No internet service']"
   ]
  },
  {
   "cell_type": "code",
   "execution_count": 33,
   "id": "b1690dbe",
   "metadata": {},
   "outputs": [],
   "source": [
    "# Crosstab\n",
    "online_sec_ct = pd.crosstab(online_sec['online_security'], online_sec['churn'])"
   ]
  },
  {
   "cell_type": "code",
   "execution_count": 34,
   "id": "f2106644",
   "metadata": {},
   "outputs": [
    {
     "data": {
      "text/plain": [
       "(216.94350424593094, 4.1985954375412895e-49)"
      ]
     },
     "execution_count": 34,
     "metadata": {},
     "output_type": "execute_result"
    }
   ],
   "source": [
    "# Chi^2 test for Online Security crosstab\n",
    "chi, p, degf, expected = stats.chi2_contingency(online_sec_ct)\n",
    "chi, p"
   ]
  },
  {
   "cell_type": "code",
   "execution_count": 35,
   "id": "813c6f58",
   "metadata": {},
   "outputs": [
    {
     "data": {
      "text/plain": [
       "<AxesSubplot:xlabel='online_security', ylabel='count'>"
      ]
     },
     "execution_count": 35,
     "metadata": {},
     "output_type": "execute_result"
    },
    {
     "data": {
      "image/png": "[encoded data removed]",
      "text/plain": [
       "<Figure size 640x480 with 1 Axes>"
      ]
     },
     "metadata": {},
     "output_type": "display_data"
    }
   ],
   "source": [
    "# Countplot with 'No internet service' removed\n",
    "sns.countplot(x=online_sec['online_security'], hue=online_sec['churn'], data= online_sec)"
   ]
  },
  {
   "cell_type": "markdown",
   "id": "e688828c",
   "metadata": {},
   "source": [
    "<div class=\"alert alert-block alert-success\">\n",
    "<b> P-value is lower than 0.05, thus the null hypothesis is rejected. <b>\n",
    "<br>There is a signifcant difference in churn rate when customers have online security service. <br>"
   ]
  },
  {
   "cell_type": "markdown",
   "id": "7f6e7588",
   "metadata": {},
   "source": [
    "## Does having multiple lines affect churn rate? \n",
    "***(multiple lines likely means more than one user is on the plan, maybe family, so I expect churn to be less since more people depend on the service)***"
   ]
  },
  {
   "cell_type": "markdown",
   "id": "a5df16d0",
   "metadata": {},
   "source": [
    "H0: There is no signifcant difference in churn rate when customers have multiple lines.\n",
    "\n",
    "Ha: There is a significant difference in churn rate when customers have multiple lines.\n",
    "    \n",
    "Confidence interval = 95%abs\n",
    "\n",
    "alpha = 0.05"
   ]
  },
  {
   "cell_type": "code",
   "execution_count": 36,
   "id": "4b1560ed",
   "metadata": {},
   "outputs": [
    {
     "data": {
      "text/plain": [
       "<AxesSubplot:xlabel='multiple_lines', ylabel='count'>"
      ]
     },
     "execution_count": 36,
     "metadata": {},
     "output_type": "execute_result"
    },
    {
     "data": {
      "image/png": "[encoded data removed]",
      "text/plain": [
       "<Figure size 640x480 with 1 Axes>"
      ]
     },
     "metadata": {},
     "output_type": "display_data"
    }
   ],
   "source": [
    "# Countplot for multiple lines. Has extra columnn 'No phone service'.\n",
    "sns.countplot(x='multiple_lines', hue='churn', data=train)"
   ]
  },
  {
   "cell_type": "code",
   "execution_count": 37,
   "id": "f69fa98a",
   "metadata": {},
   "outputs": [],
   "source": [
    "# Boolean Mask to remove 'No phone service'.\n",
    "mult_lines = train[train['multiple_lines'] != 'No phone service']"
   ]
  },
  {
   "cell_type": "code",
   "execution_count": 38,
   "id": "15229ff1",
   "metadata": {},
   "outputs": [
    {
     "data": {
      "text/plain": [
       "<AxesSubplot:xlabel='multiple_lines', ylabel='count'>"
      ]
     },
     "execution_count": 38,
     "metadata": {},
     "output_type": "execute_result"
    },
    {
     "data": {
      "image/png": "[encoded data removed]",
      "text/plain": [
       "<Figure size 640x480 with 1 Axes>"
      ]
     },
     "metadata": {},
     "output_type": "display_data"
    }
   ],
   "source": [
    "# Visual with Boolean Mask\n",
    "sns.countplot(x='multiple_lines', hue='churn', data=mult_lines)"
   ]
  },
  {
   "cell_type": "code",
   "execution_count": 39,
   "id": "6f1d8900",
   "metadata": {},
   "outputs": [
    {
     "data": {
      "text/html": [
       "<div>\n",
       "<style scoped>\n",
       "    .dataframe tbody tr th:only-of-type {\n",
       "        vertical-align: middle;\n",
       "    }\n",
       "\n",
       "    .dataframe tbody tr th {\n",
       "        vertical-align: top;\n",
       "    }\n",
       "\n",
       "    .dataframe thead th {\n",
       "        text-align: right;\n",
       "    }\n",
       "</style>\n",
       "<table border=\"1\" class=\"dataframe\">\n",
       "  <thead>\n",
       "    <tr style=\"text-align: right;\">\n",
       "      <th>churn</th>\n",
       "      <th>No</th>\n",
       "      <th>Yes</th>\n",
       "    </tr>\n",
       "    <tr>\n",
       "      <th>multiple_lines</th>\n",
       "      <th></th>\n",
       "      <th></th>\n",
       "    </tr>\n",
       "  </thead>\n",
       "  <tbody>\n",
       "    <tr>\n",
       "      <th>No</th>\n",
       "      <td>1406</td>\n",
       "      <td>475</td>\n",
       "    </tr>\n",
       "    <tr>\n",
       "      <th>Yes</th>\n",
       "      <td>1218</td>\n",
       "      <td>479</td>\n",
       "    </tr>\n",
       "  </tbody>\n",
       "</table>\n",
       "</div>"
      ],
      "text/plain": [
       "churn             No  Yes\n",
       "multiple_lines           \n",
       "No              1406  475\n",
       "Yes             1218  479"
      ]
     },
     "execution_count": 39,
     "metadata": {},
     "output_type": "execute_result"
    }
   ],
   "source": [
    "mult_lines_ct = pd.crosstab(mult_lines['multiple_lines'], mult_lines['churn'])\n",
    "mult_lines_ct"
   ]
  },
  {
   "cell_type": "code",
   "execution_count": 40,
   "id": "bbd18935",
   "metadata": {},
   "outputs": [
    {
     "data": {
      "text/plain": [
       "(3.884036752625903, 0.048747217941123785)"
      ]
     },
     "execution_count": 40,
     "metadata": {},
     "output_type": "execute_result"
    }
   ],
   "source": [
    "chi, p, degf, expected = stats.chi2_contingency(mult_lines_ct)\n",
    "chi, p"
   ]
  },
  {
   "cell_type": "markdown",
   "id": "9bb4184e",
   "metadata": {},
   "source": [
    "<div class=\"alert alert-block alert-success\">\n",
    "<b> P-value is lower than 0.05, thus the null hypothesis is rejected. <b>\n",
    "<br>There is a signifcant difference in churn rate when customers have multiple lines.<br>"
   ]
  },
  {
   "cell_type": "markdown",
   "id": "f2f98e5c",
   "metadata": {},
   "source": [
    "## Does having dependents affect churn rate?"
   ]
  },
  {
   "cell_type": "markdown",
   "id": "0187ac49",
   "metadata": {},
   "source": [
    "H0: There is no significant difference in churn rate when customers have dependents.\n",
    "\n",
    "Ha: There is a significant difference in churn rate when customers have dependents.\n",
    "    \n",
    "Cofidence interval = 95%\n",
    "\n",
    "alpha = 0.05"
   ]
  },
  {
   "cell_type": "code",
   "execution_count": 41,
   "id": "8b2b4bd1",
   "metadata": {},
   "outputs": [
    {
     "data": {
      "text/plain": [
       "<AxesSubplot:xlabel='dependents', ylabel='count'>"
      ]
     },
     "execution_count": 41,
     "metadata": {},
     "output_type": "execute_result"
    },
    {
     "data": {
      "image/png": "[encoded data removed]",
      "text/plain": [
       "<Figure size 640x480 with 1 Axes>"
      ]
     },
     "metadata": {},
     "output_type": "display_data"
    }
   ],
   "source": [
    "# Countplot for dependents and churn rate (try to find a way to add percentage in this chart or use another viz.)\n",
    "sns.countplot(x='dependents', hue='churn', data=train)"
   ]
  },
  {
   "cell_type": "code",
   "execution_count": 42,
   "id": "652a3903",
   "metadata": {},
   "outputs": [],
   "source": [
    "deps_ct = pd.crosstab(train.dependents, train.churn)"
   ]
  },
  {
   "cell_type": "code",
   "execution_count": 43,
   "id": "56f366bd",
   "metadata": {},
   "outputs": [
    {
     "data": {
      "text/plain": [
       "(110.161868173847, 9.030713272299022e-26)"
      ]
     },
     "execution_count": 43,
     "metadata": {},
     "output_type": "execute_result"
    }
   ],
   "source": [
    "chi, p, degf, expected = stats.chi2_contingency(deps_ct)\n",
    "chi, p"
   ]
  },
  {
   "cell_type": "markdown",
   "id": "0004e710",
   "metadata": {},
   "source": [
    "<div class=\"alert alert-block alert-success\">\n",
    "<b> P-value is lower than 0.05, thus the null hypothesis is rejected. <b>\n",
    "<br>There is a significant difference in churn rate when customers have dependents.<br>"
   ]
  },
  {
   "cell_type": "markdown",
   "id": "6991b3d7",
   "metadata": {},
   "source": [
    "## Machine Learning Models"
   ]
  },
  {
   "cell_type": "markdown",
   "id": "6b8b484a",
   "metadata": {},
   "source": [
    "<b> Drivers I will be moving forward with: <b>\n",
    "\n",
    "<br>Month-to-month vs 1yr/ Month-to-month vs. 2yr<br>\n",
    "<br>Online Security add-on service<br>\n",
    "<br>Multiple lines<br>\n",
    "<br>Dependents<br>\n"
   ]
  },
  {
   "cell_type": "code",
   "execution_count": 44,
   "id": "9565d7f3",
   "metadata": {},
   "outputs": [],
   "source": [
    "# Baseline will be 'no' = 0 for churn\n",
    "baseline_df = train\n",
    "baseline_df['baseline'] = 0\n",
    "baseline_df['churn_numeric'] = train.churn.str.replace('No','0').str.replace('Yes','1').astype(int)"
   ]
  },
  {
   "cell_type": "code",
   "execution_count": 45,
   "id": "28498c7f",
   "metadata": {},
   "outputs": [
    {
     "data": {
      "text/plain": [
       "0.7347197565305605"
      ]
     },
     "execution_count": 45,
     "metadata": {},
     "output_type": "execute_result"
    }
   ],
   "source": [
    "# accuracy of baseline\n",
    "accuracy_score(baseline_df.churn_numeric, baseline_df.baseline)"
   ]
  },
  {
   "cell_type": "code",
   "execution_count": 46,
   "id": "c0ef808e",
   "metadata": {},
   "outputs": [],
   "source": [
    "# Dropped baseline column\n",
    "train = train.drop(['baseline'], axis=1)"
   ]
  },
  {
   "cell_type": "markdown",
   "id": "9e42fbeb",
   "metadata": {},
   "source": [
    "<div class=\"alert alert-block alert-success\">\n",
    "<b> Baseline Accuracy = 73.5% <b>\n"
   ]
  },
  {
   "cell_type": "code",
   "execution_count": 47,
   "id": "98e21b82",
   "metadata": {},
   "outputs": [],
   "source": [
    "# Dropping all 'Object' dtypes\n",
    "train = train.select_dtypes(exclude=['object'])\n",
    "validate = validate.select_dtypes(exclude=['object'])\n",
    "test= test.select_dtypes(exclude=['object'])\n"
   ]
  },
  {
   "cell_type": "code",
   "execution_count": 48,
   "id": "be9cad36",
   "metadata": {},
   "outputs": [],
   "source": [
    "# X and y model variables\n",
    "X_train = train.drop(['churn_numeric'], axis=1)\n",
    "y_train = train.churn_numeric\n",
    "\n",
    "X_validate = validate.drop(['churn_numeric'], axis=1)\n",
    "y_validate = validate.churn_numeric\n",
    "\n",
    "X_test = test.drop(['churn_numeric'], axis=1)\n",
    "y_test = test.churn_numeric"
   ]
  },
  {
   "cell_type": "markdown",
   "id": "384bc885",
   "metadata": {},
   "source": [
    "### Random Forest Model"
   ]
  },
  {
   "cell_type": "code",
   "execution_count": 49,
   "id": "0ea937f1",
   "metadata": {},
   "outputs": [],
   "source": [
    "rf = RandomForestClassifier(max_depth=10, min_samples_leaf=2, random_state=123)"
   ]
  },
  {
   "cell_type": "code",
   "execution_count": 50,
   "id": "d496ba77",
   "metadata": {
    "scrolled": true
   },
   "outputs": [
    {
     "data": {
      "text/html": [
       "<style>#sk-container-id-1 {color: black;background-color: white;}#sk-container-id-1 pre{padding: 0;}#sk-container-id-1 div.sk-toggleable {background-color: white;}#sk-container-id-1 label.sk-toggleable__label {cursor: pointer;display: block;width: 100%;margin-bottom: 0;padding: 0.3em;box-sizing: border-box;text-align: center;}#sk-container-id-1 label.sk-toggleable__label-arrow:before {content: \"▸\";float: left;margin-right: 0.25em;color: #696969;}#sk-container-id-1 label.sk-toggleable__label-arrow:hover:before {color: black;}#sk-container-id-1 div.sk-estimator:hover label.sk-toggleable__label-arrow:before {color: black;}#sk-container-id-1 div.sk-toggleable__content {max-height: 0;max-width: 0;overflow: hidden;text-align: left;background-color: #f0f8ff;}#sk-container-id-1 div.sk-toggleable__content pre {margin: 0.2em;color: black;border-radius: 0.25em;background-color: #f0f8ff;}#sk-container-id-1 input.sk-toggleable__control:checked~div.sk-toggleable__content {max-height: 200px;max-width: 100%;overflow: auto;}#sk-container-id-1 input.sk-toggleable__control:checked~label.sk-toggleable__label-arrow:before {content: \"▾\";}#sk-container-id-1 div.sk-estimator input.sk-toggleable__control:checked~label.sk-toggleable__label {background-color: #d4ebff;}#sk-container-id-1 div.sk-label input.sk-toggleable__control:checked~label.sk-toggleable__label {background-color: #d4ebff;}#sk-container-id-1 input.sk-hidden--visually {border: 0;clip: rect(1px 1px 1px 1px);clip: rect(1px, 1px, 1px, 1px);height: 1px;margin: -1px;overflow: hidden;padding: 0;position: absolute;width: 1px;}#sk-container-id-1 div.sk-estimator {font-family: monospace;background-color: #f0f8ff;border: 1px dotted black;border-radius: 0.25em;box-sizing: border-box;margin-bottom: 0.5em;}#sk-container-id-1 div.sk-estimator:hover {background-color: #d4ebff;}#sk-container-id-1 div.sk-parallel-item::after {content: \"\";width: 100%;border-bottom: 1px solid gray;flex-grow: 1;}#sk-container-id-1 div.sk-label:hover label.sk-toggleable__label {background-color: #d4ebff;}#sk-container-id-1 div.sk-serial::before {content: \"\";position: absolute;border-left: 1px solid gray;box-sizing: border-box;top: 0;bottom: 0;left: 50%;z-index: 0;}#sk-container-id-1 div.sk-serial {display: flex;flex-direction: column;align-items: center;background-color: white;padding-right: 0.2em;padding-left: 0.2em;position: relative;}#sk-container-id-1 div.sk-item {position: relative;z-index: 1;}#sk-container-id-1 div.sk-parallel {display: flex;align-items: stretch;justify-content: center;background-color: white;position: relative;}#sk-container-id-1 div.sk-item::before, #sk-container-id-1 div.sk-parallel-item::before {content: \"\";position: absolute;border-left: 1px solid gray;box-sizing: border-box;top: 0;bottom: 0;left: 50%;z-index: -1;}#sk-container-id-1 div.sk-parallel-item {display: flex;flex-direction: column;z-index: 1;position: relative;background-color: white;}#sk-container-id-1 div.sk-parallel-item:first-child::after {align-self: flex-end;width: 50%;}#sk-container-id-1 div.sk-parallel-item:last-child::after {align-self: flex-start;width: 50%;}#sk-container-id-1 div.sk-parallel-item:only-child::after {width: 0;}#sk-container-id-1 div.sk-dashed-wrapped {border: 1px dashed gray;margin: 0 0.4em 0.5em 0.4em;box-sizing: border-box;padding-bottom: 0.4em;background-color: white;}#sk-container-id-1 div.sk-label label {font-family: monospace;font-weight: bold;display: inline-block;line-height: 1.2em;}#sk-container-id-1 div.sk-label-container {text-align: center;}#sk-container-id-1 div.sk-container {/* jupyter's `normalize.less` sets `[hidden] { display: none; }` but bootstrap.min.css set `[hidden] { display: none !important; }` so we also need the `!important` here to be able to override the default hidden behavior on the sphinx rendered scikit-learn.org. See: https://github.com/scikit-learn/scikit-learn/issues/21755 */display: inline-block !important;position: relative;}#sk-container-id-1 div.sk-text-repr-fallback {display: none;}</style><div id=\"sk-container-id-1\" class=\"sk-top-container\"><div class=\"sk-text-repr-fallback\"><pre>RandomForestClassifier(max_depth=10, min_samples_leaf=2, random_state=123)</pre><b>In a Jupyter environment, please rerun this cell to show the HTML representation or trust the notebook. <br />On GitHub, the HTML representation is unable to render, please try loading this page with nbviewer.org.</b></div><div class=\"sk-container\" hidden><div class=\"sk-item\"><div class=\"sk-estimator sk-toggleable\"><input class=\"sk-toggleable__control sk-hidden--visually\" id=\"sk-estimator-id-1\" type=\"checkbox\" checked><label for=\"sk-estimator-id-1\" class=\"sk-toggleable__label sk-toggleable__label-arrow\">RandomForestClassifier</label><div class=\"sk-toggleable__content\"><pre>RandomForestClassifier(max_depth=10, min_samples_leaf=2, random_state=123)</pre></div></div></div></div></div>"
      ],
      "text/plain": [
       "RandomForestClassifier(max_depth=10, min_samples_leaf=2, random_state=123)"
      ]
     },
     "execution_count": 50,
     "metadata": {},
     "output_type": "execute_result"
    }
   ],
   "source": [
    "rf.fit(X_train, y_train)"
   ]
  },
  {
   "cell_type": "code",
   "execution_count": 51,
   "id": "7218cdaf",
   "metadata": {},
   "outputs": [
    {
     "data": {
      "text/plain": [
       "0.8488460563023079"
      ]
     },
     "execution_count": 51,
     "metadata": {},
     "output_type": "execute_result"
    }
   ],
   "source": [
    "rf.score(X_train, y_train)"
   ]
  },
  {
   "cell_type": "code",
   "execution_count": 52,
   "id": "edde5a20",
   "metadata": {},
   "outputs": [
    {
     "name": "stdout",
     "output_type": "stream",
     "text": [
      " Random Forest with depth of 2 and minimum 2 leaf samples. Training acc: 0.7436, Validate acc: 0.74039\n",
      "------------------------------------------------\n",
      "\n",
      " Random Forest with depth of 3 and minimum 2 leaf samples. Training acc: 0.7824, Validate acc: 0.78179\n",
      "------------------------------------------------\n",
      "\n",
      " Random Forest with depth of 4 and minimum 2 leaf samples. Training acc: 0.78671, Validate acc: 0.78829\n",
      "------------------------------------------------\n",
      "\n",
      " Random Forest with depth of 5 and minimum 2 leaf samples. Training acc: 0.79711, Validate acc: 0.80308\n",
      "------------------------------------------------\n",
      "\n",
      " Random Forest with depth of 6 and minimum 2 leaf samples. Training acc: 0.80218, Validate acc: 0.80721\n",
      "------------------------------------------------\n",
      "\n",
      " Random Forest with depth of 7 and minimum 2 leaf samples. Training acc: 0.81106, Validate acc: 0.81609\n",
      "------------------------------------------------\n",
      "\n",
      " Random Forest with depth of 8 and minimum 2 leaf samples. Training acc: 0.81791, Validate acc: 0.8084\n",
      "------------------------------------------------\n",
      "\n",
      " Random Forest with depth of 9 and minimum 2 leaf samples. Training acc: 0.82932, Validate acc: 0.80781\n",
      "------------------------------------------------\n",
      "\n",
      " Random Forest with depth of 10 and minimum 2 leaf samples. Training acc: 0.83718, Validate acc: 0.80485\n",
      "------------------------------------------------\n",
      "\n"
     ]
    }
   ],
   "source": [
    "# Random Forest Loop\n",
    "for i in range (2,11):\n",
    "    rf = RandomForestClassifier(max_depth=i, min_samples_leaf=3, random_state=123)\n",
    "    rf.fit(X_train, y_train)\n",
    "    train_acc = rf.score(X_train, y_train)\n",
    "    val_acc = rf.score(X_validate, y_validate)\n",
    "    print(f' Random Forest with depth of {i} and minimum 2 leaf samples. Training acc: {round(train_acc,5)}, Validate acc: {round(val_acc,5)}')\n",
    "    print('------------------------------------------------')   \n",
    "    print()"
   ]
  },
  {
   "cell_type": "code",
   "execution_count": 53,
   "id": "8a549b29",
   "metadata": {},
   "outputs": [
    {
     "data": {
      "text/html": [
       "<div>\n",
       "<style scoped>\n",
       "    .dataframe tbody tr th:only-of-type {\n",
       "        vertical-align: middle;\n",
       "    }\n",
       "\n",
       "    .dataframe tbody tr th {\n",
       "        vertical-align: top;\n",
       "    }\n",
       "\n",
       "    .dataframe thead th {\n",
       "        text-align: right;\n",
       "    }\n",
       "</style>\n",
       "<table border=\"1\" class=\"dataframe\">\n",
       "  <thead>\n",
       "    <tr style=\"text-align: right;\">\n",
       "      <th></th>\n",
       "      <th>max_depth</th>\n",
       "      <th>train_accuracy</th>\n",
       "      <th>validate_accuracy</th>\n",
       "      <th>difference</th>\n",
       "    </tr>\n",
       "  </thead>\n",
       "  <tbody>\n",
       "    <tr>\n",
       "      <th>0</th>\n",
       "      <td>2</td>\n",
       "      <td>0.743596</td>\n",
       "      <td>0.740390</td>\n",
       "      <td>0.003206</td>\n",
       "    </tr>\n",
       "    <tr>\n",
       "      <th>1</th>\n",
       "      <td>3</td>\n",
       "      <td>0.782399</td>\n",
       "      <td>0.781786</td>\n",
       "      <td>0.000613</td>\n",
       "    </tr>\n",
       "    <tr>\n",
       "      <th>2</th>\n",
       "      <td>4</td>\n",
       "      <td>0.786711</td>\n",
       "      <td>0.788291</td>\n",
       "      <td>-0.001580</td>\n",
       "    </tr>\n",
       "    <tr>\n",
       "      <th>3</th>\n",
       "      <td>5</td>\n",
       "      <td>0.797109</td>\n",
       "      <td>0.803075</td>\n",
       "      <td>-0.005966</td>\n",
       "    </tr>\n",
       "    <tr>\n",
       "      <th>4</th>\n",
       "      <td>6</td>\n",
       "      <td>0.802181</td>\n",
       "      <td>0.807215</td>\n",
       "      <td>-0.005034</td>\n",
       "    </tr>\n",
       "    <tr>\n",
       "      <th>5</th>\n",
       "      <td>7</td>\n",
       "      <td>0.811058</td>\n",
       "      <td>0.816085</td>\n",
       "      <td>-0.005028</td>\n",
       "    </tr>\n",
       "    <tr>\n",
       "      <th>6</th>\n",
       "      <td>8</td>\n",
       "      <td>0.817905</td>\n",
       "      <td>0.808397</td>\n",
       "      <td>0.009508</td>\n",
       "    </tr>\n",
       "    <tr>\n",
       "      <th>7</th>\n",
       "      <td>9</td>\n",
       "      <td>0.829318</td>\n",
       "      <td>0.807806</td>\n",
       "      <td>0.021512</td>\n",
       "    </tr>\n",
       "    <tr>\n",
       "      <th>8</th>\n",
       "      <td>10</td>\n",
       "      <td>0.837180</td>\n",
       "      <td>0.804849</td>\n",
       "      <td>0.032331</td>\n",
       "    </tr>\n",
       "  </tbody>\n",
       "</table>\n",
       "</div>"
      ],
      "text/plain": [
       "   max_depth  train_accuracy  validate_accuracy  difference\n",
       "0          2        0.743596           0.740390    0.003206\n",
       "1          3        0.782399           0.781786    0.000613\n",
       "2          4        0.786711           0.788291   -0.001580\n",
       "3          5        0.797109           0.803075   -0.005966\n",
       "4          6        0.802181           0.807215   -0.005034\n",
       "5          7        0.811058           0.816085   -0.005028\n",
       "6          8        0.817905           0.808397    0.009508\n",
       "7          9        0.829318           0.807806    0.021512\n",
       "8         10        0.837180           0.804849    0.032331"
      ]
     },
     "execution_count": 53,
     "metadata": {},
     "output_type": "execute_result"
    }
   ],
   "source": [
    "metrics = []\n",
    "\n",
    "for i in range (2,11):\n",
    "    rf = RandomForestClassifier(max_depth=i, min_samples_leaf=3, random_state=123)\n",
    "    rf.fit(X_train, y_train)\n",
    "    train_acc = rf.score(X_train, y_train)\n",
    "    val_acc = rf.score(X_validate, y_validate)\n",
    "    \n",
    "    output = {\n",
    "        'max_depth': i,\n",
    "        'train_accuracy': train_acc,\n",
    "        'validate_accuracy': val_acc\n",
    "    }\n",
    "    \n",
    "    metrics.append(output)\n",
    "\n",
    "df = pd.DataFrame(metrics)\n",
    "df[\"difference\"] = df.train_accuracy - df.validate_accuracy\n",
    "df\n"
   ]
  },
  {
   "cell_type": "code",
   "execution_count": 54,
   "id": "7f4eb0ad",
   "metadata": {},
   "outputs": [
    {
     "data": {
      "text/plain": [
       "Text(0, 0.5, 'Accuracy')"
      ]
     },
     "execution_count": 54,
     "metadata": {},
     "output_type": "execute_result"
    },
    {
     "data": {
      "image/png": "[encoded data removed]",
      "text/plain": [
       "<Figure size 640x480 with 1 Axes>"
      ]
     },
     "metadata": {},
     "output_type": "display_data"
    }
   ],
   "source": [
    "plt.plot(df.max_depth, df.train_accuracy, marker='o', label='Train')\n",
    "plt.plot(df.max_depth, df.validate_accuracy, marker='o', label='Validate')\n",
    "plt.legend()\n",
    "plt.xlabel('Max Depth')\n",
    "plt.ylabel('Accuracy')"
   ]
  },
  {
   "cell_type": "markdown",
   "id": "fb6758d9",
   "metadata": {},
   "source": [
    "### KNN Model"
   ]
  },
  {
   "cell_type": "code",
   "execution_count": 55,
   "id": "a31a6271",
   "metadata": {},
   "outputs": [],
   "source": [
    "# Create KNN Object\n",
    "knn = KNeighborsClassifier(n_neighbors=5, weights='uniform')"
   ]
  },
  {
   "cell_type": "code",
   "execution_count": 56,
   "id": "bbbe7485",
   "metadata": {},
   "outputs": [
    {
     "data": {
      "text/html": [
       "<style>#sk-container-id-2 {color: black;background-color: white;}#sk-container-id-2 pre{padding: 0;}#sk-container-id-2 div.sk-toggleable {background-color: white;}#sk-container-id-2 label.sk-toggleable__label {cursor: pointer;display: block;width: 100%;margin-bottom: 0;padding: 0.3em;box-sizing: border-box;text-align: center;}#sk-container-id-2 label.sk-toggleable__label-arrow:before {content: \"▸\";float: left;margin-right: 0.25em;color: #696969;}#sk-container-id-2 label.sk-toggleable__label-arrow:hover:before {color: black;}#sk-container-id-2 div.sk-estimator:hover label.sk-toggleable__label-arrow:before {color: black;}#sk-container-id-2 div.sk-toggleable__content {max-height: 0;max-width: 0;overflow: hidden;text-align: left;background-color: #f0f8ff;}#sk-container-id-2 div.sk-toggleable__content pre {margin: 0.2em;color: black;border-radius: 0.25em;background-color: #f0f8ff;}#sk-container-id-2 input.sk-toggleable__control:checked~div.sk-toggleable__content {max-height: 200px;max-width: 100%;overflow: auto;}#sk-container-id-2 input.sk-toggleable__control:checked~label.sk-toggleable__label-arrow:before {content: \"▾\";}#sk-container-id-2 div.sk-estimator input.sk-toggleable__control:checked~label.sk-toggleable__label {background-color: #d4ebff;}#sk-container-id-2 div.sk-label input.sk-toggleable__control:checked~label.sk-toggleable__label {background-color: #d4ebff;}#sk-container-id-2 input.sk-hidden--visually {border: 0;clip: rect(1px 1px 1px 1px);clip: rect(1px, 1px, 1px, 1px);height: 1px;margin: -1px;overflow: hidden;padding: 0;position: absolute;width: 1px;}#sk-container-id-2 div.sk-estimator {font-family: monospace;background-color: #f0f8ff;border: 1px dotted black;border-radius: 0.25em;box-sizing: border-box;margin-bottom: 0.5em;}#sk-container-id-2 div.sk-estimator:hover {background-color: #d4ebff;}#sk-container-id-2 div.sk-parallel-item::after {content: \"\";width: 100%;border-bottom: 1px solid gray;flex-grow: 1;}#sk-container-id-2 div.sk-label:hover label.sk-toggleable__label {background-color: #d4ebff;}#sk-container-id-2 div.sk-serial::before {content: \"\";position: absolute;border-left: 1px solid gray;box-sizing: border-box;top: 0;bottom: 0;left: 50%;z-index: 0;}#sk-container-id-2 div.sk-serial {display: flex;flex-direction: column;align-items: center;background-color: white;padding-right: 0.2em;padding-left: 0.2em;position: relative;}#sk-container-id-2 div.sk-item {position: relative;z-index: 1;}#sk-container-id-2 div.sk-parallel {display: flex;align-items: stretch;justify-content: center;background-color: white;position: relative;}#sk-container-id-2 div.sk-item::before, #sk-container-id-2 div.sk-parallel-item::before {content: \"\";position: absolute;border-left: 1px solid gray;box-sizing: border-box;top: 0;bottom: 0;left: 50%;z-index: -1;}#sk-container-id-2 div.sk-parallel-item {display: flex;flex-direction: column;z-index: 1;position: relative;background-color: white;}#sk-container-id-2 div.sk-parallel-item:first-child::after {align-self: flex-end;width: 50%;}#sk-container-id-2 div.sk-parallel-item:last-child::after {align-self: flex-start;width: 50%;}#sk-container-id-2 div.sk-parallel-item:only-child::after {width: 0;}#sk-container-id-2 div.sk-dashed-wrapped {border: 1px dashed gray;margin: 0 0.4em 0.5em 0.4em;box-sizing: border-box;padding-bottom: 0.4em;background-color: white;}#sk-container-id-2 div.sk-label label {font-family: monospace;font-weight: bold;display: inline-block;line-height: 1.2em;}#sk-container-id-2 div.sk-label-container {text-align: center;}#sk-container-id-2 div.sk-container {/* jupyter's `normalize.less` sets `[hidden] { display: none; }` but bootstrap.min.css set `[hidden] { display: none !important; }` so we also need the `!important` here to be able to override the default hidden behavior on the sphinx rendered scikit-learn.org. See: https://github.com/scikit-learn/scikit-learn/issues/21755 */display: inline-block !important;position: relative;}#sk-container-id-2 div.sk-text-repr-fallback {display: none;}</style><div id=\"sk-container-id-2\" class=\"sk-top-container\"><div class=\"sk-text-repr-fallback\"><pre>KNeighborsClassifier()</pre><b>In a Jupyter environment, please rerun this cell to show the HTML representation or trust the notebook. <br />On GitHub, the HTML representation is unable to render, please try loading this page with nbviewer.org.</b></div><div class=\"sk-container\" hidden><div class=\"sk-item\"><div class=\"sk-estimator sk-toggleable\"><input class=\"sk-toggleable__control sk-hidden--visually\" id=\"sk-estimator-id-2\" type=\"checkbox\" checked><label for=\"sk-estimator-id-2\" class=\"sk-toggleable__label sk-toggleable__label-arrow\">KNeighborsClassifier</label><div class=\"sk-toggleable__content\"><pre>KNeighborsClassifier()</pre></div></div></div></div></div>"
      ],
      "text/plain": [
       "KNeighborsClassifier()"
      ]
     },
     "execution_count": 56,
     "metadata": {},
     "output_type": "execute_result"
    }
   ],
   "source": [
    "# Fit the model\n",
    "knn.fit(X_train, y_train)"
   ]
  },
  {
   "cell_type": "code",
   "execution_count": 57,
   "id": "52e3f0d4",
   "metadata": {},
   "outputs": [
    {
     "data": {
      "text/plain": [
       "0.8343900583312199"
      ]
     },
     "execution_count": 57,
     "metadata": {},
     "output_type": "execute_result"
    }
   ],
   "source": [
    "knn.score(X_train, y_train)"
   ]
  },
  {
   "cell_type": "code",
   "execution_count": 58,
   "id": "27c88ea9",
   "metadata": {},
   "outputs": [
    {
     "name": "stdout",
     "output_type": "stream",
     "text": [
      " KNN model with 15 neighbors. Train Acc: 0.80827, Validate Acc: 0.77942\n",
      "------------------------------------------------------------------------------\n",
      "\n",
      " KNN model with 16 neighbors. Train Acc: 0.80852, Validate Acc: 0.78238\n",
      "------------------------------------------------------------------------------\n",
      "\n",
      " KNN model with 17 neighbors. Train Acc: 0.80801, Validate Acc: 0.77883\n",
      "------------------------------------------------------------------------------\n",
      "\n",
      " KNN model with 18 neighbors. Train Acc: 0.807, Validate Acc: 0.78356\n",
      "------------------------------------------------------------------------------\n",
      "\n",
      " KNN model with 19 neighbors. Train Acc: 0.80421, Validate Acc: 0.78474\n",
      "------------------------------------------------------------------------------\n",
      "\n",
      " KNN model with 20 neighbors. Train Acc: 0.80497, Validate Acc: 0.78179\n",
      "------------------------------------------------------------------------------\n",
      "\n",
      " KNN model with 21 neighbors. Train Acc: 0.8032, Validate Acc: 0.78297\n",
      "------------------------------------------------------------------------------\n",
      "\n",
      " KNN model with 22 neighbors. Train Acc: 0.8032, Validate Acc: 0.78652\n",
      "------------------------------------------------------------------------------\n",
      "\n",
      " KNN model with 23 neighbors. Train Acc: 0.80269, Validate Acc: 0.78415\n",
      "------------------------------------------------------------------------------\n",
      "\n",
      " KNN model with 24 neighbors. Train Acc: 0.80446, Validate Acc: 0.78947\n",
      "------------------------------------------------------------------------------\n",
      "\n",
      " KNN model with 25 neighbors. Train Acc: 0.80167, Validate Acc: 0.79007\n",
      "------------------------------------------------------------------------------\n",
      "\n",
      " KNN model with 26 neighbors. Train Acc: 0.80243, Validate Acc: 0.79243\n",
      "------------------------------------------------------------------------------\n",
      "\n",
      " KNN model with 27 neighbors. Train Acc: 0.80041, Validate Acc: 0.79184\n",
      "------------------------------------------------------------------------------\n",
      "\n",
      " KNN model with 28 neighbors. Train Acc: 0.80269, Validate Acc: 0.79066\n",
      "------------------------------------------------------------------------------\n",
      "\n",
      " KNN model with 29 neighbors. Train Acc: 0.80117, Validate Acc: 0.78711\n",
      "------------------------------------------------------------------------------\n",
      "\n",
      " KNN model with 30 neighbors. Train Acc: 0.80091, Validate Acc: 0.79066\n",
      "------------------------------------------------------------------------------\n",
      "\n",
      " KNN model with 31 neighbors. Train Acc: 0.80142, Validate Acc: 0.79184\n",
      "------------------------------------------------------------------------------\n",
      "\n",
      " KNN model with 32 neighbors. Train Acc: 0.80066, Validate Acc: 0.78593\n",
      "------------------------------------------------------------------------------\n",
      "\n",
      " KNN model with 33 neighbors. Train Acc: 0.79812, Validate Acc: 0.78474\n",
      "------------------------------------------------------------------------------\n",
      "\n",
      " KNN model with 34 neighbors. Train Acc: 0.80117, Validate Acc: 0.78119\n",
      "------------------------------------------------------------------------------\n",
      "\n"
     ]
    }
   ],
   "source": [
    "for i in range(15,35):\n",
    "    knn = KNeighborsClassifier(n_neighbors=i, weights='uniform')\n",
    "    knn.fit(X_train, y_train)\n",
    "    train_acc = knn.score(X_train, y_train)\n",
    "    val_acc = knn.score(X_validate, y_validate)\n",
    "    \n",
    "    print(f' KNN model with {i} neighbors. Train Acc: {round(train_acc, 5)}, Validate Acc: {round(val_acc, 5)}')\n",
    "    print('------------------------------------------------------------------------------')\n",
    "    print()"
   ]
  },
  {
   "cell_type": "code",
   "execution_count": 59,
   "id": "8193ee8b",
   "metadata": {},
   "outputs": [
    {
     "data": {
      "text/html": [
       "<div>\n",
       "<style scoped>\n",
       "    .dataframe tbody tr th:only-of-type {\n",
       "        vertical-align: middle;\n",
       "    }\n",
       "\n",
       "    .dataframe tbody tr th {\n",
       "        vertical-align: top;\n",
       "    }\n",
       "\n",
       "    .dataframe thead th {\n",
       "        text-align: right;\n",
       "    }\n",
       "</style>\n",
       "<table border=\"1\" class=\"dataframe\">\n",
       "  <thead>\n",
       "    <tr style=\"text-align: right;\">\n",
       "      <th></th>\n",
       "      <th>neighbors</th>\n",
       "      <th>train_accuracy</th>\n",
       "      <th>validate_accuracy</th>\n",
       "      <th>difference</th>\n",
       "    </tr>\n",
       "  </thead>\n",
       "  <tbody>\n",
       "    <tr>\n",
       "      <th>0</th>\n",
       "      <td>15</td>\n",
       "      <td>0.808268</td>\n",
       "      <td>0.779420</td>\n",
       "      <td>0.028847</td>\n",
       "    </tr>\n",
       "    <tr>\n",
       "      <th>1</th>\n",
       "      <td>16</td>\n",
       "      <td>0.808521</td>\n",
       "      <td>0.782377</td>\n",
       "      <td>0.026144</td>\n",
       "    </tr>\n",
       "    <tr>\n",
       "      <th>2</th>\n",
       "      <td>17</td>\n",
       "      <td>0.808014</td>\n",
       "      <td>0.778829</td>\n",
       "      <td>0.029185</td>\n",
       "    </tr>\n",
       "    <tr>\n",
       "      <th>3</th>\n",
       "      <td>18</td>\n",
       "      <td>0.807000</td>\n",
       "      <td>0.783560</td>\n",
       "      <td>0.023440</td>\n",
       "    </tr>\n",
       "    <tr>\n",
       "      <th>4</th>\n",
       "      <td>19</td>\n",
       "      <td>0.804210</td>\n",
       "      <td>0.784743</td>\n",
       "      <td>0.019467</td>\n",
       "    </tr>\n",
       "    <tr>\n",
       "      <th>5</th>\n",
       "      <td>20</td>\n",
       "      <td>0.804971</td>\n",
       "      <td>0.781786</td>\n",
       "      <td>0.023185</td>\n",
       "    </tr>\n",
       "    <tr>\n",
       "      <th>6</th>\n",
       "      <td>21</td>\n",
       "      <td>0.803196</td>\n",
       "      <td>0.782969</td>\n",
       "      <td>0.020227</td>\n",
       "    </tr>\n",
       "    <tr>\n",
       "      <th>7</th>\n",
       "      <td>22</td>\n",
       "      <td>0.803196</td>\n",
       "      <td>0.786517</td>\n",
       "      <td>0.016679</td>\n",
       "    </tr>\n",
       "    <tr>\n",
       "      <th>8</th>\n",
       "      <td>23</td>\n",
       "      <td>0.802688</td>\n",
       "      <td>0.784151</td>\n",
       "      <td>0.018537</td>\n",
       "    </tr>\n",
       "    <tr>\n",
       "      <th>9</th>\n",
       "      <td>24</td>\n",
       "      <td>0.804464</td>\n",
       "      <td>0.789474</td>\n",
       "      <td>0.014990</td>\n",
       "    </tr>\n",
       "    <tr>\n",
       "      <th>10</th>\n",
       "      <td>25</td>\n",
       "      <td>0.801674</td>\n",
       "      <td>0.790065</td>\n",
       "      <td>0.011609</td>\n",
       "    </tr>\n",
       "    <tr>\n",
       "      <th>11</th>\n",
       "      <td>26</td>\n",
       "      <td>0.802435</td>\n",
       "      <td>0.792431</td>\n",
       "      <td>0.010004</td>\n",
       "    </tr>\n",
       "    <tr>\n",
       "      <th>12</th>\n",
       "      <td>27</td>\n",
       "      <td>0.800406</td>\n",
       "      <td>0.791839</td>\n",
       "      <td>0.008567</td>\n",
       "    </tr>\n",
       "    <tr>\n",
       "      <th>13</th>\n",
       "      <td>28</td>\n",
       "      <td>0.802688</td>\n",
       "      <td>0.790656</td>\n",
       "      <td>0.012032</td>\n",
       "    </tr>\n",
       "    <tr>\n",
       "      <th>14</th>\n",
       "      <td>29</td>\n",
       "      <td>0.801167</td>\n",
       "      <td>0.787108</td>\n",
       "      <td>0.014058</td>\n",
       "    </tr>\n",
       "    <tr>\n",
       "      <th>15</th>\n",
       "      <td>30</td>\n",
       "      <td>0.800913</td>\n",
       "      <td>0.790656</td>\n",
       "      <td>0.010257</td>\n",
       "    </tr>\n",
       "    <tr>\n",
       "      <th>16</th>\n",
       "      <td>31</td>\n",
       "      <td>0.801420</td>\n",
       "      <td>0.791839</td>\n",
       "      <td>0.009581</td>\n",
       "    </tr>\n",
       "    <tr>\n",
       "      <th>17</th>\n",
       "      <td>32</td>\n",
       "      <td>0.800659</td>\n",
       "      <td>0.785925</td>\n",
       "      <td>0.014734</td>\n",
       "    </tr>\n",
       "    <tr>\n",
       "      <th>18</th>\n",
       "      <td>33</td>\n",
       "      <td>0.798123</td>\n",
       "      <td>0.784743</td>\n",
       "      <td>0.013381</td>\n",
       "    </tr>\n",
       "    <tr>\n",
       "      <th>19</th>\n",
       "      <td>34</td>\n",
       "      <td>0.801167</td>\n",
       "      <td>0.781195</td>\n",
       "      <td>0.019972</td>\n",
       "    </tr>\n",
       "  </tbody>\n",
       "</table>\n",
       "</div>"
      ],
      "text/plain": [
       "    neighbors  train_accuracy  validate_accuracy  difference\n",
       "0          15        0.808268           0.779420    0.028847\n",
       "1          16        0.808521           0.782377    0.026144\n",
       "2          17        0.808014           0.778829    0.029185\n",
       "3          18        0.807000           0.783560    0.023440\n",
       "4          19        0.804210           0.784743    0.019467\n",
       "5          20        0.804971           0.781786    0.023185\n",
       "6          21        0.803196           0.782969    0.020227\n",
       "7          22        0.803196           0.786517    0.016679\n",
       "8          23        0.802688           0.784151    0.018537\n",
       "9          24        0.804464           0.789474    0.014990\n",
       "10         25        0.801674           0.790065    0.011609\n",
       "11         26        0.802435           0.792431    0.010004\n",
       "12         27        0.800406           0.791839    0.008567\n",
       "13         28        0.802688           0.790656    0.012032\n",
       "14         29        0.801167           0.787108    0.014058\n",
       "15         30        0.800913           0.790656    0.010257\n",
       "16         31        0.801420           0.791839    0.009581\n",
       "17         32        0.800659           0.785925    0.014734\n",
       "18         33        0.798123           0.784743    0.013381\n",
       "19         34        0.801167           0.781195    0.019972"
      ]
     },
     "execution_count": 59,
     "metadata": {},
     "output_type": "execute_result"
    }
   ],
   "source": [
    "# Visual aid to see model performances\n",
    "metrics = []\n",
    "\n",
    "for i in range(15,35):\n",
    "    knn = KNeighborsClassifier(n_neighbors=i, weights='uniform')\n",
    "    knn.fit(X_train, y_train)\n",
    "    train_acc = knn.score(X_train, y_train)\n",
    "    val_acc = knn.score(X_validate, y_validate)\n",
    "    \n",
    "    output = {\n",
    "        'neighbors': i,\n",
    "        'train_accuracy': train_acc,\n",
    "        'validate_accuracy': val_acc\n",
    "    }\n",
    "    \n",
    "    metrics.append(output)\n",
    "\n",
    "df = pd.DataFrame(metrics)\n",
    "df[\"difference\"] = df.train_accuracy - df.validate_accuracy\n",
    "df\n"
   ]
  },
  {
   "cell_type": "code",
   "execution_count": 60,
   "id": "0dce3d35",
   "metadata": {},
   "outputs": [
    {
     "data": {
      "text/plain": [
       "Text(0, 0.5, 'Accuracy')"
      ]
     },
     "execution_count": 60,
     "metadata": {},
     "output_type": "execute_result"
    },
    {
     "data": {
      "image/png": "[encoded data removed]",
      "text/plain": [
       "<Figure size 640x480 with 1 Axes>"
      ]
     },
     "metadata": {},
     "output_type": "display_data"
    }
   ],
   "source": [
    "plt.plot(df.neighbors, df.train_accuracy, marker='o', label='Train')\n",
    "plt.plot(df.neighbors, df.validate_accuracy, marker='o', label='Validate')\n",
    "plt.legend()\n",
    "plt.xlabel('Neighbors')\n",
    "plt.ylabel('Accuracy')"
   ]
  },
  {
   "cell_type": "markdown",
   "id": "5760ffc8",
   "metadata": {},
   "source": [
    "### Logistic Regression Model"
   ]
  },
  {
   "cell_type": "code",
   "execution_count": 61,
   "id": "19d1b6c1",
   "metadata": {},
   "outputs": [
    {
     "data": {
      "text/html": [
       "<div>\n",
       "<style scoped>\n",
       "    .dataframe tbody tr th:only-of-type {\n",
       "        vertical-align: middle;\n",
       "    }\n",
       "\n",
       "    .dataframe tbody tr th {\n",
       "        vertical-align: top;\n",
       "    }\n",
       "\n",
       "    .dataframe thead th {\n",
       "        text-align: right;\n",
       "    }\n",
       "</style>\n",
       "<table border=\"1\" class=\"dataframe\">\n",
       "  <thead>\n",
       "    <tr style=\"text-align: right;\">\n",
       "      <th></th>\n",
       "      <th>senior_citizen</th>\n",
       "      <th>tenure</th>\n",
       "      <th>monthly_charges</th>\n",
       "      <th>contract_type_month-to-month</th>\n",
       "      <th>contract_type_one_year</th>\n",
       "      <th>contract_type_two_year</th>\n",
       "      <th>internet_service_type_dsl</th>\n",
       "      <th>internet_service_type_fiber_optic</th>\n",
       "      <th>internet_service_type_none</th>\n",
       "      <th>payment_type_bank_transfer_(automatic)</th>\n",
       "      <th>...</th>\n",
       "      <th>multiple_lines_yes</th>\n",
       "      <th>tech_support_no_internet</th>\n",
       "      <th>tech_support_yes_internet</th>\n",
       "      <th>online_security_no_internet</th>\n",
       "      <th>online_security_yes_internet</th>\n",
       "      <th>online_backup_no_internet</th>\n",
       "      <th>online_backup_yes_internet</th>\n",
       "      <th>device_protection_no_internet</th>\n",
       "      <th>device_protection_yes_internet</th>\n",
       "      <th>churn_numeric</th>\n",
       "    </tr>\n",
       "  </thead>\n",
       "  <tbody>\n",
       "    <tr>\n",
       "      <th>5310</th>\n",
       "      <td>1</td>\n",
       "      <td>72</td>\n",
       "      <td>89.85</td>\n",
       "      <td>0</td>\n",
       "      <td>0</td>\n",
       "      <td>1</td>\n",
       "      <td>1</td>\n",
       "      <td>0</td>\n",
       "      <td>0</td>\n",
       "      <td>1</td>\n",
       "      <td>...</td>\n",
       "      <td>1</td>\n",
       "      <td>0</td>\n",
       "      <td>1</td>\n",
       "      <td>0</td>\n",
       "      <td>1</td>\n",
       "      <td>0</td>\n",
       "      <td>1</td>\n",
       "      <td>0</td>\n",
       "      <td>1</td>\n",
       "      <td>0</td>\n",
       "    </tr>\n",
       "    <tr>\n",
       "      <th>3790</th>\n",
       "      <td>1</td>\n",
       "      <td>72</td>\n",
       "      <td>77.35</td>\n",
       "      <td>0</td>\n",
       "      <td>0</td>\n",
       "      <td>1</td>\n",
       "      <td>1</td>\n",
       "      <td>0</td>\n",
       "      <td>0</td>\n",
       "      <td>0</td>\n",
       "      <td>...</td>\n",
       "      <td>1</td>\n",
       "      <td>0</td>\n",
       "      <td>1</td>\n",
       "      <td>0</td>\n",
       "      <td>0</td>\n",
       "      <td>0</td>\n",
       "      <td>1</td>\n",
       "      <td>0</td>\n",
       "      <td>1</td>\n",
       "      <td>0</td>\n",
       "    </tr>\n",
       "    <tr>\n",
       "      <th>4398</th>\n",
       "      <td>1</td>\n",
       "      <td>46</td>\n",
       "      <td>100.25</td>\n",
       "      <td>0</td>\n",
       "      <td>1</td>\n",
       "      <td>0</td>\n",
       "      <td>0</td>\n",
       "      <td>1</td>\n",
       "      <td>0</td>\n",
       "      <td>0</td>\n",
       "      <td>...</td>\n",
       "      <td>1</td>\n",
       "      <td>0</td>\n",
       "      <td>1</td>\n",
       "      <td>0</td>\n",
       "      <td>0</td>\n",
       "      <td>0</td>\n",
       "      <td>0</td>\n",
       "      <td>0</td>\n",
       "      <td>0</td>\n",
       "      <td>0</td>\n",
       "    </tr>\n",
       "    <tr>\n",
       "      <th>2635</th>\n",
       "      <td>0</td>\n",
       "      <td>4</td>\n",
       "      <td>40.05</td>\n",
       "      <td>1</td>\n",
       "      <td>0</td>\n",
       "      <td>0</td>\n",
       "      <td>1</td>\n",
       "      <td>0</td>\n",
       "      <td>0</td>\n",
       "      <td>0</td>\n",
       "      <td>...</td>\n",
       "      <td>0</td>\n",
       "      <td>0</td>\n",
       "      <td>1</td>\n",
       "      <td>0</td>\n",
       "      <td>0</td>\n",
       "      <td>0</td>\n",
       "      <td>0</td>\n",
       "      <td>0</td>\n",
       "      <td>0</td>\n",
       "      <td>0</td>\n",
       "    </tr>\n",
       "    <tr>\n",
       "      <th>2986</th>\n",
       "      <td>0</td>\n",
       "      <td>8</td>\n",
       "      <td>54.75</td>\n",
       "      <td>1</td>\n",
       "      <td>0</td>\n",
       "      <td>0</td>\n",
       "      <td>1</td>\n",
       "      <td>0</td>\n",
       "      <td>0</td>\n",
       "      <td>0</td>\n",
       "      <td>...</td>\n",
       "      <td>0</td>\n",
       "      <td>0</td>\n",
       "      <td>0</td>\n",
       "      <td>0</td>\n",
       "      <td>0</td>\n",
       "      <td>0</td>\n",
       "      <td>1</td>\n",
       "      <td>0</td>\n",
       "      <td>1</td>\n",
       "      <td>0</td>\n",
       "    </tr>\n",
       "  </tbody>\n",
       "</table>\n",
       "<p>5 rows × 25 columns</p>\n",
       "</div>"
      ],
      "text/plain": [
       "      senior_citizen  tenure  monthly_charges  contract_type_month-to-month  \\\n",
       "5310               1      72            89.85                             0   \n",
       "3790               1      72            77.35                             0   \n",
       "4398               1      46           100.25                             0   \n",
       "2635               0       4            40.05                             1   \n",
       "2986               0       8            54.75                             1   \n",
       "\n",
       "      contract_type_one_year  contract_type_two_year  \\\n",
       "5310                       0                       1   \n",
       "3790                       0                       1   \n",
       "4398                       1                       0   \n",
       "2635                       0                       0   \n",
       "2986                       0                       0   \n",
       "\n",
       "      internet_service_type_dsl  internet_service_type_fiber_optic  \\\n",
       "5310                          1                                  0   \n",
       "3790                          1                                  0   \n",
       "4398                          0                                  1   \n",
       "2635                          1                                  0   \n",
       "2986                          1                                  0   \n",
       "\n",
       "      internet_service_type_none  payment_type_bank_transfer_(automatic)  ...  \\\n",
       "5310                           0                                       1  ...   \n",
       "3790                           0                                       0  ...   \n",
       "4398                           0                                       0  ...   \n",
       "2635                           0                                       0  ...   \n",
       "2986                           0                                       0  ...   \n",
       "\n",
       "      multiple_lines_yes  tech_support_no_internet  tech_support_yes_internet  \\\n",
       "5310                   1                         0                          1   \n",
       "3790                   1                         0                          1   \n",
       "4398                   1                         0                          1   \n",
       "2635                   0                         0                          1   \n",
       "2986                   0                         0                          0   \n",
       "\n",
       "      online_security_no_internet  online_security_yes_internet  \\\n",
       "5310                            0                             1   \n",
       "3790                            0                             0   \n",
       "4398                            0                             0   \n",
       "2635                            0                             0   \n",
       "2986                            0                             0   \n",
       "\n",
       "      online_backup_no_internet  online_backup_yes_internet  \\\n",
       "5310                          0                           1   \n",
       "3790                          0                           1   \n",
       "4398                          0                           0   \n",
       "2635                          0                           0   \n",
       "2986                          0                           1   \n",
       "\n",
       "      device_protection_no_internet  device_protection_yes_internet  \\\n",
       "5310                              0                               1   \n",
       "3790                              0                               1   \n",
       "4398                              0                               0   \n",
       "2635                              0                               0   \n",
       "2986                              0                               1   \n",
       "\n",
       "      churn_numeric  \n",
       "5310              0  \n",
       "3790              0  \n",
       "4398              0  \n",
       "2635              0  \n",
       "2986              0  \n",
       "\n",
       "[5 rows x 25 columns]"
      ]
     },
     "execution_count": 61,
     "metadata": {},
     "output_type": "execute_result"
    }
   ],
   "source": [
    "train.head()"
   ]
  },
  {
   "cell_type": "code",
   "execution_count": null,
   "id": "8bf1ddb2",
   "metadata": {},
   "outputs": [],
   "source": []
  }
 ],
 "metadata": {
  "kernelspec": {
   "display_name": "Python 3 (ipykernel)",
   "language": "python",
   "name": "python3"
  },
  "language_info": {
   "codemirror_mode": {
    "name": "ipython",
    "version": 3
   },
   "file_extension": ".py",
   "mimetype": "text/x-python",
   "name": "python",
   "nbconvert_exporter": "python",
   "pygments_lexer": "ipython3",
   "version": "3.9.15"
  },
  "toc": {
   "base_numbering": 1,
   "nav_menu": {},
   "number_sections": true,
   "sideBar": true,
   "skip_h1_title": false,
   "title_cell": "Table of Contents",
   "title_sidebar": "Contents",
   "toc_cell": false,
   "toc_position": {
    "height": "calc(100% - 180px)",
    "left": "10px",
    "top": "150px",
    "width": "223.188px"
   },
   "toc_section_display": true,
   "toc_window_display": false
  }
 },
 "nbformat": 4,
 "nbformat_minor": 5
}
